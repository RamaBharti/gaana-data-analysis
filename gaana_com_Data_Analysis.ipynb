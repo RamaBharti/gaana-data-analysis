{
  "nbformat": 4,
  "nbformat_minor": 0,
  "metadata": {
    "colab": {
      "name": "gaana.com Data Analysis",
      "provenance": [],
      "collapsed_sections": [],
      "authorship_tag": "ABX9TyMy/XyzYb7hFIuMDAF6wnuy",
      "include_colab_link": true
    },
    "kernelspec": {
      "name": "python3",
      "display_name": "Python 3"
    },
    "language_info": {
      "name": "python"
    }
  },
  "cells": [
    {
      "cell_type": "markdown",
      "metadata": {
        "id": "view-in-github",
        "colab_type": "text"
      },
      "source": [
        "<a href=\"https://colab.research.google.com/github/RamaBharti/gaana-data-analysis/blob/main/gaana_com_Data_Analysis.ipynb\" target=\"_parent\"><img src=\"https://colab.research.google.com/assets/colab-badge.svg\" alt=\"Open In Colab\"/></a>"
      ]
    },
    {
      "cell_type": "code",
      "execution_count": 1,
      "metadata": {
        "colab": {
          "base_uri": "https://localhost:8080/"
        },
        "id": "E8WcZZ4-WOGM",
        "outputId": "78e6cd45-1238-4044-e578-d62102acdcef"
      },
      "outputs": [
        {
          "output_type": "stream",
          "name": "stdout",
          "text": [
            "Cloning into 'Gaana-Data-Analysis'...\n",
            "remote: Enumerating objects: 23, done.\u001b[K\n",
            "remote: Counting objects: 100% (23/23), done.\u001b[K\n",
            "remote: Compressing objects: 100% (23/23), done.\u001b[K\n",
            "remote: Total 23 (delta 7), reused 0 (delta 0), pack-reused 0\u001b[K\n",
            "Unpacking objects: 100% (23/23), done.\n"
          ]
        }
      ],
      "source": [
        "!git clone https://github.com/AshishJangra27/Gaana-Data-Analysis.git\n"
      ]
    },
    {
      "cell_type": "code",
      "source": [
        "import pandas as pd\n",
        "from tqdm import tqdm #to check how much time is required to execute \n",
        "\n",
        "df = pd.read_csv('Gaana-Data-Analysis/songs.csv')"
      ],
      "metadata": {
        "id": "oEBXTyb_YFZD"
      },
      "execution_count": 2,
      "outputs": []
    },
    {
      "cell_type": "code",
      "source": [
        "df.head()"
      ],
      "metadata": {
        "colab": {
          "base_uri": "https://localhost:8080/",
          "height": 250
        },
        "id": "AXUkshPkZp8D",
        "outputId": "53f35603-8a74-4970-bcdb-62787091e666"
      },
      "execution_count": 4,
      "outputs": [
        {
          "output_type": "execute_result",
          "data": {
            "text/plain": [
              "                                      name                     singer  \\\n",
              "0                    Dil - E - Nadan Tujhe  Chitra Singh|Jagjit Singh   \n",
              "1        Agar Hum Kahen Aur Woh Muskara De  Chitra Singh|Jagjit Singh   \n",
              "2                            Unke Dekhe Se               Jagjit Singh   \n",
              "3  Yeh Na Thi Hamari Qismat - Chitra Singh               Chitra Singh   \n",
              "4                  Hazaron Khwahishen Aisi               Jagjit Singh   \n",
              "\n",
              "                                      singer_id duration  \\\n",
              "0  /artist/chitra-singh|/artist/jagjeet-singh-1    05:00   \n",
              "1  /artist/chitra-singh|/artist/jagjeet-singh-1    06:26   \n",
              "2                       /artist/jagjeet-singh-1    03:41   \n",
              "3                          /artist/chitra-singh    04:26   \n",
              "4                       /artist/jagjeet-singh-1    05:39   \n",
              "\n",
              "                                  link language  \n",
              "0                 /dil-e-nadan-tujhe-3     Urdu  \n",
              "1  /agar-hum-kahen-aur-woh-muskura-den     Urdu  \n",
              "2                       /unke-dekhe-se     Urdu  \n",
              "3          /yeh-na-thi-hamari-qismat-2     Urdu  \n",
              "4           /hazaron-khwahishen-aisi-1     Urdu  "
            ],
            "text/html": [
              "\n",
              "  <div id=\"df-f9a8aa36-b1b0-4bdd-9c1f-14a788559a54\">\n",
              "    <div class=\"colab-df-container\">\n",
              "      <div>\n",
              "<style scoped>\n",
              "    .dataframe tbody tr th:only-of-type {\n",
              "        vertical-align: middle;\n",
              "    }\n",
              "\n",
              "    .dataframe tbody tr th {\n",
              "        vertical-align: top;\n",
              "    }\n",
              "\n",
              "    .dataframe thead th {\n",
              "        text-align: right;\n",
              "    }\n",
              "</style>\n",
              "<table border=\"1\" class=\"dataframe\">\n",
              "  <thead>\n",
              "    <tr style=\"text-align: right;\">\n",
              "      <th></th>\n",
              "      <th>name</th>\n",
              "      <th>singer</th>\n",
              "      <th>singer_id</th>\n",
              "      <th>duration</th>\n",
              "      <th>link</th>\n",
              "      <th>language</th>\n",
              "    </tr>\n",
              "  </thead>\n",
              "  <tbody>\n",
              "    <tr>\n",
              "      <th>0</th>\n",
              "      <td>Dil - E - Nadan Tujhe</td>\n",
              "      <td>Chitra Singh|Jagjit Singh</td>\n",
              "      <td>/artist/chitra-singh|/artist/jagjeet-singh-1</td>\n",
              "      <td>05:00</td>\n",
              "      <td>/dil-e-nadan-tujhe-3</td>\n",
              "      <td>Urdu</td>\n",
              "    </tr>\n",
              "    <tr>\n",
              "      <th>1</th>\n",
              "      <td>Agar Hum Kahen Aur Woh Muskara De</td>\n",
              "      <td>Chitra Singh|Jagjit Singh</td>\n",
              "      <td>/artist/chitra-singh|/artist/jagjeet-singh-1</td>\n",
              "      <td>06:26</td>\n",
              "      <td>/agar-hum-kahen-aur-woh-muskura-den</td>\n",
              "      <td>Urdu</td>\n",
              "    </tr>\n",
              "    <tr>\n",
              "      <th>2</th>\n",
              "      <td>Unke Dekhe Se</td>\n",
              "      <td>Jagjit Singh</td>\n",
              "      <td>/artist/jagjeet-singh-1</td>\n",
              "      <td>03:41</td>\n",
              "      <td>/unke-dekhe-se</td>\n",
              "      <td>Urdu</td>\n",
              "    </tr>\n",
              "    <tr>\n",
              "      <th>3</th>\n",
              "      <td>Yeh Na Thi Hamari Qismat - Chitra Singh</td>\n",
              "      <td>Chitra Singh</td>\n",
              "      <td>/artist/chitra-singh</td>\n",
              "      <td>04:26</td>\n",
              "      <td>/yeh-na-thi-hamari-qismat-2</td>\n",
              "      <td>Urdu</td>\n",
              "    </tr>\n",
              "    <tr>\n",
              "      <th>4</th>\n",
              "      <td>Hazaron Khwahishen Aisi</td>\n",
              "      <td>Jagjit Singh</td>\n",
              "      <td>/artist/jagjeet-singh-1</td>\n",
              "      <td>05:39</td>\n",
              "      <td>/hazaron-khwahishen-aisi-1</td>\n",
              "      <td>Urdu</td>\n",
              "    </tr>\n",
              "  </tbody>\n",
              "</table>\n",
              "</div>\n",
              "      <button class=\"colab-df-convert\" onclick=\"convertToInteractive('df-f9a8aa36-b1b0-4bdd-9c1f-14a788559a54')\"\n",
              "              title=\"Convert this dataframe to an interactive table.\"\n",
              "              style=\"display:none;\">\n",
              "        \n",
              "  <svg xmlns=\"http://www.w3.org/2000/svg\" height=\"24px\"viewBox=\"0 0 24 24\"\n",
              "       width=\"24px\">\n",
              "    <path d=\"M0 0h24v24H0V0z\" fill=\"none\"/>\n",
              "    <path d=\"M18.56 5.44l.94 2.06.94-2.06 2.06-.94-2.06-.94-.94-2.06-.94 2.06-2.06.94zm-11 1L8.5 8.5l.94-2.06 2.06-.94-2.06-.94L8.5 2.5l-.94 2.06-2.06.94zm10 10l.94 2.06.94-2.06 2.06-.94-2.06-.94-.94-2.06-.94 2.06-2.06.94z\"/><path d=\"M17.41 7.96l-1.37-1.37c-.4-.4-.92-.59-1.43-.59-.52 0-1.04.2-1.43.59L10.3 9.45l-7.72 7.72c-.78.78-.78 2.05 0 2.83L4 21.41c.39.39.9.59 1.41.59.51 0 1.02-.2 1.41-.59l7.78-7.78 2.81-2.81c.8-.78.8-2.07 0-2.86zM5.41 20L4 18.59l7.72-7.72 1.47 1.35L5.41 20z\"/>\n",
              "  </svg>\n",
              "      </button>\n",
              "      \n",
              "  <style>\n",
              "    .colab-df-container {\n",
              "      display:flex;\n",
              "      flex-wrap:wrap;\n",
              "      gap: 12px;\n",
              "    }\n",
              "\n",
              "    .colab-df-convert {\n",
              "      background-color: #E8F0FE;\n",
              "      border: none;\n",
              "      border-radius: 50%;\n",
              "      cursor: pointer;\n",
              "      display: none;\n",
              "      fill: #1967D2;\n",
              "      height: 32px;\n",
              "      padding: 0 0 0 0;\n",
              "      width: 32px;\n",
              "    }\n",
              "\n",
              "    .colab-df-convert:hover {\n",
              "      background-color: #E2EBFA;\n",
              "      box-shadow: 0px 1px 2px rgba(60, 64, 67, 0.3), 0px 1px 3px 1px rgba(60, 64, 67, 0.15);\n",
              "      fill: #174EA6;\n",
              "    }\n",
              "\n",
              "    [theme=dark] .colab-df-convert {\n",
              "      background-color: #3B4455;\n",
              "      fill: #D2E3FC;\n",
              "    }\n",
              "\n",
              "    [theme=dark] .colab-df-convert:hover {\n",
              "      background-color: #434B5C;\n",
              "      box-shadow: 0px 1px 3px 1px rgba(0, 0, 0, 0.15);\n",
              "      filter: drop-shadow(0px 1px 2px rgba(0, 0, 0, 0.3));\n",
              "      fill: #FFFFFF;\n",
              "    }\n",
              "  </style>\n",
              "\n",
              "      <script>\n",
              "        const buttonEl =\n",
              "          document.querySelector('#df-f9a8aa36-b1b0-4bdd-9c1f-14a788559a54 button.colab-df-convert');\n",
              "        buttonEl.style.display =\n",
              "          google.colab.kernel.accessAllowed ? 'block' : 'none';\n",
              "\n",
              "        async function convertToInteractive(key) {\n",
              "          const element = document.querySelector('#df-f9a8aa36-b1b0-4bdd-9c1f-14a788559a54');\n",
              "          const dataTable =\n",
              "            await google.colab.kernel.invokeFunction('convertToInteractive',\n",
              "                                                     [key], {});\n",
              "          if (!dataTable) return;\n",
              "\n",
              "          const docLinkHtml = 'Like what you see? Visit the ' +\n",
              "            '<a target=\"_blank\" href=https://colab.research.google.com/notebooks/data_table.ipynb>data table notebook</a>'\n",
              "            + ' to learn more about interactive tables.';\n",
              "          element.innerHTML = '';\n",
              "          dataTable['output_type'] = 'display_data';\n",
              "          await google.colab.output.renderOutput(dataTable, element);\n",
              "          const docLink = document.createElement('div');\n",
              "          docLink.innerHTML = docLinkHtml;\n",
              "          element.appendChild(docLink);\n",
              "        }\n",
              "      </script>\n",
              "    </div>\n",
              "  </div>\n",
              "  "
            ]
          },
          "metadata": {},
          "execution_count": 4
        }
      ]
    },
    {
      "cell_type": "markdown",
      "source": [
        "### 1.Checking Null Values\n",
        "\n",
        "\n",
        "\n",
        "\n"
      ],
      "metadata": {
        "id": "pFHh7PU_bu4P"
      }
    },
    {
      "cell_type": "code",
      "source": [
        "df.isnull().sum()"
      ],
      "metadata": {
        "colab": {
          "base_uri": "https://localhost:8080/"
        },
        "id": "MBJg8BCKcT1B",
        "outputId": "3f10ce13-0a6e-4902-e698-86fd93e0aa52"
      },
      "execution_count": 6,
      "outputs": [
        {
          "output_type": "execute_result",
          "data": {
            "text/plain": [
              "name         0\n",
              "singer       0\n",
              "singer_id    0\n",
              "duration     0\n",
              "link         0\n",
              "language     0\n",
              "dtype: int64"
            ]
          },
          "metadata": {},
          "execution_count": 6
        }
      ]
    },
    {
      "cell_type": "markdown",
      "source": [
        "### 2.Data Preprocess\n",
        "\n",
        "##### 2.1) Dealing with Duration"
      ],
      "metadata": {
        "id": "w-meXyDYdeKG"
      }
    },
    {
      "cell_type": "code",
      "source": [
        "duration_lst= []\n",
        "for duration in df['duration']:\n",
        "  m=int(duration.split(':')[0])\n",
        "  s=int(duration.split(':')[1])\n",
        "  sec=(m*60)+s\n",
        "\n",
        "  duration_lst.append(sec)\n",
        "  #print(m, s, sec)\n",
        "\n",
        "df['duration']=duration_lst\n",
        "\n",
        "df.head()"
      ],
      "metadata": {
        "colab": {
          "base_uri": "https://localhost:8080/",
          "height": 250
        },
        "id": "GLlAkb6jdsdC",
        "outputId": "98ac4ca3-3543-4fed-9f3e-83620ec9f90c"
      },
      "execution_count": 22,
      "outputs": [
        {
          "output_type": "execute_result",
          "data": {
            "text/plain": [
              "                                      name                     singer  \\\n",
              "0                    Dil - E - Nadan Tujhe  Chitra Singh|Jagjit Singh   \n",
              "1        Agar Hum Kahen Aur Woh Muskara De  Chitra Singh|Jagjit Singh   \n",
              "2                            Unke Dekhe Se               Jagjit Singh   \n",
              "3  Yeh Na Thi Hamari Qismat - Chitra Singh               Chitra Singh   \n",
              "4                  Hazaron Khwahishen Aisi               Jagjit Singh   \n",
              "\n",
              "                                      singer_id  duration  \\\n",
              "0  /artist/chitra-singh|/artist/jagjeet-singh-1       300   \n",
              "1  /artist/chitra-singh|/artist/jagjeet-singh-1       386   \n",
              "2                       /artist/jagjeet-singh-1       221   \n",
              "3                          /artist/chitra-singh       266   \n",
              "4                       /artist/jagjeet-singh-1       339   \n",
              "\n",
              "                                  link language  \n",
              "0                 /dil-e-nadan-tujhe-3     Urdu  \n",
              "1  /agar-hum-kahen-aur-woh-muskura-den     Urdu  \n",
              "2                       /unke-dekhe-se     Urdu  \n",
              "3          /yeh-na-thi-hamari-qismat-2     Urdu  \n",
              "4           /hazaron-khwahishen-aisi-1     Urdu  "
            ],
            "text/html": [
              "\n",
              "  <div id=\"df-72d17111-4386-4b56-9b47-dc2e1fa04263\">\n",
              "    <div class=\"colab-df-container\">\n",
              "      <div>\n",
              "<style scoped>\n",
              "    .dataframe tbody tr th:only-of-type {\n",
              "        vertical-align: middle;\n",
              "    }\n",
              "\n",
              "    .dataframe tbody tr th {\n",
              "        vertical-align: top;\n",
              "    }\n",
              "\n",
              "    .dataframe thead th {\n",
              "        text-align: right;\n",
              "    }\n",
              "</style>\n",
              "<table border=\"1\" class=\"dataframe\">\n",
              "  <thead>\n",
              "    <tr style=\"text-align: right;\">\n",
              "      <th></th>\n",
              "      <th>name</th>\n",
              "      <th>singer</th>\n",
              "      <th>singer_id</th>\n",
              "      <th>duration</th>\n",
              "      <th>link</th>\n",
              "      <th>language</th>\n",
              "    </tr>\n",
              "  </thead>\n",
              "  <tbody>\n",
              "    <tr>\n",
              "      <th>0</th>\n",
              "      <td>Dil - E - Nadan Tujhe</td>\n",
              "      <td>Chitra Singh|Jagjit Singh</td>\n",
              "      <td>/artist/chitra-singh|/artist/jagjeet-singh-1</td>\n",
              "      <td>300</td>\n",
              "      <td>/dil-e-nadan-tujhe-3</td>\n",
              "      <td>Urdu</td>\n",
              "    </tr>\n",
              "    <tr>\n",
              "      <th>1</th>\n",
              "      <td>Agar Hum Kahen Aur Woh Muskara De</td>\n",
              "      <td>Chitra Singh|Jagjit Singh</td>\n",
              "      <td>/artist/chitra-singh|/artist/jagjeet-singh-1</td>\n",
              "      <td>386</td>\n",
              "      <td>/agar-hum-kahen-aur-woh-muskura-den</td>\n",
              "      <td>Urdu</td>\n",
              "    </tr>\n",
              "    <tr>\n",
              "      <th>2</th>\n",
              "      <td>Unke Dekhe Se</td>\n",
              "      <td>Jagjit Singh</td>\n",
              "      <td>/artist/jagjeet-singh-1</td>\n",
              "      <td>221</td>\n",
              "      <td>/unke-dekhe-se</td>\n",
              "      <td>Urdu</td>\n",
              "    </tr>\n",
              "    <tr>\n",
              "      <th>3</th>\n",
              "      <td>Yeh Na Thi Hamari Qismat - Chitra Singh</td>\n",
              "      <td>Chitra Singh</td>\n",
              "      <td>/artist/chitra-singh</td>\n",
              "      <td>266</td>\n",
              "      <td>/yeh-na-thi-hamari-qismat-2</td>\n",
              "      <td>Urdu</td>\n",
              "    </tr>\n",
              "    <tr>\n",
              "      <th>4</th>\n",
              "      <td>Hazaron Khwahishen Aisi</td>\n",
              "      <td>Jagjit Singh</td>\n",
              "      <td>/artist/jagjeet-singh-1</td>\n",
              "      <td>339</td>\n",
              "      <td>/hazaron-khwahishen-aisi-1</td>\n",
              "      <td>Urdu</td>\n",
              "    </tr>\n",
              "  </tbody>\n",
              "</table>\n",
              "</div>\n",
              "      <button class=\"colab-df-convert\" onclick=\"convertToInteractive('df-72d17111-4386-4b56-9b47-dc2e1fa04263')\"\n",
              "              title=\"Convert this dataframe to an interactive table.\"\n",
              "              style=\"display:none;\">\n",
              "        \n",
              "  <svg xmlns=\"http://www.w3.org/2000/svg\" height=\"24px\"viewBox=\"0 0 24 24\"\n",
              "       width=\"24px\">\n",
              "    <path d=\"M0 0h24v24H0V0z\" fill=\"none\"/>\n",
              "    <path d=\"M18.56 5.44l.94 2.06.94-2.06 2.06-.94-2.06-.94-.94-2.06-.94 2.06-2.06.94zm-11 1L8.5 8.5l.94-2.06 2.06-.94-2.06-.94L8.5 2.5l-.94 2.06-2.06.94zm10 10l.94 2.06.94-2.06 2.06-.94-2.06-.94-.94-2.06-.94 2.06-2.06.94z\"/><path d=\"M17.41 7.96l-1.37-1.37c-.4-.4-.92-.59-1.43-.59-.52 0-1.04.2-1.43.59L10.3 9.45l-7.72 7.72c-.78.78-.78 2.05 0 2.83L4 21.41c.39.39.9.59 1.41.59.51 0 1.02-.2 1.41-.59l7.78-7.78 2.81-2.81c.8-.78.8-2.07 0-2.86zM5.41 20L4 18.59l7.72-7.72 1.47 1.35L5.41 20z\"/>\n",
              "  </svg>\n",
              "      </button>\n",
              "      \n",
              "  <style>\n",
              "    .colab-df-container {\n",
              "      display:flex;\n",
              "      flex-wrap:wrap;\n",
              "      gap: 12px;\n",
              "    }\n",
              "\n",
              "    .colab-df-convert {\n",
              "      background-color: #E8F0FE;\n",
              "      border: none;\n",
              "      border-radius: 50%;\n",
              "      cursor: pointer;\n",
              "      display: none;\n",
              "      fill: #1967D2;\n",
              "      height: 32px;\n",
              "      padding: 0 0 0 0;\n",
              "      width: 32px;\n",
              "    }\n",
              "\n",
              "    .colab-df-convert:hover {\n",
              "      background-color: #E2EBFA;\n",
              "      box-shadow: 0px 1px 2px rgba(60, 64, 67, 0.3), 0px 1px 3px 1px rgba(60, 64, 67, 0.15);\n",
              "      fill: #174EA6;\n",
              "    }\n",
              "\n",
              "    [theme=dark] .colab-df-convert {\n",
              "      background-color: #3B4455;\n",
              "      fill: #D2E3FC;\n",
              "    }\n",
              "\n",
              "    [theme=dark] .colab-df-convert:hover {\n",
              "      background-color: #434B5C;\n",
              "      box-shadow: 0px 1px 3px 1px rgba(0, 0, 0, 0.15);\n",
              "      filter: drop-shadow(0px 1px 2px rgba(0, 0, 0, 0.3));\n",
              "      fill: #FFFFFF;\n",
              "    }\n",
              "  </style>\n",
              "\n",
              "      <script>\n",
              "        const buttonEl =\n",
              "          document.querySelector('#df-72d17111-4386-4b56-9b47-dc2e1fa04263 button.colab-df-convert');\n",
              "        buttonEl.style.display =\n",
              "          google.colab.kernel.accessAllowed ? 'block' : 'none';\n",
              "\n",
              "        async function convertToInteractive(key) {\n",
              "          const element = document.querySelector('#df-72d17111-4386-4b56-9b47-dc2e1fa04263');\n",
              "          const dataTable =\n",
              "            await google.colab.kernel.invokeFunction('convertToInteractive',\n",
              "                                                     [key], {});\n",
              "          if (!dataTable) return;\n",
              "\n",
              "          const docLinkHtml = 'Like what you see? Visit the ' +\n",
              "            '<a target=\"_blank\" href=https://colab.research.google.com/notebooks/data_table.ipynb>data table notebook</a>'\n",
              "            + ' to learn more about interactive tables.';\n",
              "          element.innerHTML = '';\n",
              "          dataTable['output_type'] = 'display_data';\n",
              "          await google.colab.output.renderOutput(dataTable, element);\n",
              "          const docLink = document.createElement('div');\n",
              "          docLink.innerHTML = docLinkHtml;\n",
              "          element.appendChild(docLink);\n",
              "        }\n",
              "      </script>\n",
              "    </div>\n",
              "  </div>\n",
              "  "
            ]
          },
          "metadata": {},
          "execution_count": 22
        }
      ]
    },
    {
      "cell_type": "markdown",
      "source": [
        "### 3. Data Analysis\n",
        "\n",
        "##### 3.1) Average Duration of a song throughout the dataset"
      ],
      "metadata": {
        "id": "HyK5Qk8Ml3dW"
      }
    },
    {
      "cell_type": "code",
      "source": [
        "print(\"Average duration of a song is\", int(df['duration'].sum() / len(df['duration'])), 'seconds')"
      ],
      "metadata": {
        "colab": {
          "base_uri": "https://localhost:8080/"
        },
        "id": "TGtspjYElLKw",
        "outputId": "dfb1f41a-8699-4d36-e592-7ba0d614a85f"
      },
      "execution_count": 27,
      "outputs": [
        {
          "output_type": "stream",
          "name": "stdout",
          "text": [
            "Average duration of a song is 295 seconds\n"
          ]
        }
      ]
    },
    {
      "cell_type": "markdown",
      "source": [
        "###### 3.2) How many languages of songs are there in the dataset"
      ],
      "metadata": {
        "id": "MHDJNCVQpR95"
      }
    },
    {
      "cell_type": "code",
      "source": [
        "df['language']"
      ],
      "metadata": {
        "colab": {
          "base_uri": "https://localhost:8080/"
        },
        "id": "kBZsVfXFpaQ8",
        "outputId": "c433ba1d-9977-43f9-ecde-96280f836f86"
      },
      "execution_count": 28,
      "outputs": [
        {
          "output_type": "execute_result",
          "data": {
            "text/plain": [
              "0           Urdu\n",
              "1           Urdu\n",
              "2           Urdu\n",
              "3           Urdu\n",
              "4           Urdu\n",
              "          ...   \n",
              "41350    Bengali\n",
              "41351    Bengali\n",
              "41352    Bengali\n",
              "41353    Bengali\n",
              "41354    Bengali\n",
              "Name: language, Length: 41355, dtype: object"
            ]
          },
          "metadata": {},
          "execution_count": 28
        }
      ]
    },
    {
      "cell_type": "code",
      "source": [
        "df['language'].unique()"
      ],
      "metadata": {
        "colab": {
          "base_uri": "https://localhost:8080/"
        },
        "id": "NSm-xFHdptZ6",
        "outputId": "76712eba-a564-46b6-cb51-6f59051df425"
      },
      "execution_count": 29,
      "outputs": [
        {
          "output_type": "execute_result",
          "data": {
            "text/plain": [
              "array(['Urdu', 'Gujarati', 'Tamil', 'Kannada', 'Rajasthani', 'Haryanvi',\n",
              "       'Punjabi', 'Hindi', 'Old', 'Malayalam', 'Marathi', 'Telugu',\n",
              "       'Odia', 'Bhojpuri', 'Assamese', 'Bengali'], dtype=object)"
            ]
          },
          "metadata": {},
          "execution_count": 29
        }
      ]
    },
    {
      "cell_type": "code",
      "source": [
        "df['language'].nunique()"
      ],
      "metadata": {
        "colab": {
          "base_uri": "https://localhost:8080/"
        },
        "id": "bPZ6UrKWp9Pz",
        "outputId": "b6a41526-e8e3-4c79-c5b3-927f4ab97aa4"
      },
      "execution_count": 30,
      "outputs": [
        {
          "output_type": "execute_result",
          "data": {
            "text/plain": [
              "16"
            ]
          },
          "metadata": {},
          "execution_count": 30
        }
      ]
    },
    {
      "cell_type": "code",
      "source": [
        "#set will only take unique things\n",
        "set(df['language'])"
      ],
      "metadata": {
        "colab": {
          "base_uri": "https://localhost:8080/"
        },
        "id": "HEbrbQF5qLP5",
        "outputId": "ad337b3f-a7a0-4672-ba4e-de8260f3f637"
      },
      "execution_count": 31,
      "outputs": [
        {
          "output_type": "execute_result",
          "data": {
            "text/plain": [
              "{'Assamese',\n",
              " 'Bengali',\n",
              " 'Bhojpuri',\n",
              " 'Gujarati',\n",
              " 'Haryanvi',\n",
              " 'Hindi',\n",
              " 'Kannada',\n",
              " 'Malayalam',\n",
              " 'Marathi',\n",
              " 'Odia',\n",
              " 'Old',\n",
              " 'Punjabi',\n",
              " 'Rajasthani',\n",
              " 'Tamil',\n",
              " 'Telugu',\n",
              " 'Urdu'}"
            ]
          },
          "metadata": {},
          "execution_count": 31
        }
      ]
    },
    {
      "cell_type": "code",
      "source": [
        "len(set(df['language']))"
      ],
      "metadata": {
        "colab": {
          "base_uri": "https://localhost:8080/"
        },
        "id": "xYYHUbYRqbSd",
        "outputId": "6b9d2ea6-9360-4aab-a3f7-963764aa7c38"
      },
      "execution_count": 32,
      "outputs": [
        {
          "output_type": "execute_result",
          "data": {
            "text/plain": [
              "16"
            ]
          },
          "metadata": {},
          "execution_count": 32
        }
      ]
    },
    {
      "cell_type": "markdown",
      "source": [
        "###### 3.3) What are all the languages in the dataset?"
      ],
      "metadata": {
        "id": "FJypOecIqmnB"
      }
    },
    {
      "cell_type": "code",
      "source": [
        "for i in set(df['language']):\n",
        "  print(i)"
      ],
      "metadata": {
        "colab": {
          "base_uri": "https://localhost:8080/"
        },
        "id": "tj8e3KV-qtxx",
        "outputId": "c4d21a06-fd74-4c47-bc22-a2975ea71cd8"
      },
      "execution_count": 33,
      "outputs": [
        {
          "output_type": "stream",
          "name": "stdout",
          "text": [
            "Tamil\n",
            "Rajasthani\n",
            "Assamese\n",
            "Urdu\n",
            "Gujarati\n",
            "Old\n",
            "Malayalam\n",
            "Marathi\n",
            "Hindi\n",
            "Odia\n",
            "Punjabi\n",
            "Bhojpuri\n",
            "Haryanvi\n",
            "Kannada\n",
            "Bengali\n",
            "Telugu\n"
          ]
        }
      ]
    },
    {
      "cell_type": "markdown",
      "source": [
        "##### 3.4)How many Hindi songs are there?"
      ],
      "metadata": {
        "id": "AM4TGkUVrOgs"
      }
    },
    {
      "cell_type": "code",
      "source": [
        "df['language']"
      ],
      "metadata": {
        "colab": {
          "base_uri": "https://localhost:8080/"
        },
        "id": "kjQgLIlcrUod",
        "outputId": "48895fe7-1908-4357-8696-2ba86ee7bae7"
      },
      "execution_count": 34,
      "outputs": [
        {
          "output_type": "execute_result",
          "data": {
            "text/plain": [
              "0           Urdu\n",
              "1           Urdu\n",
              "2           Urdu\n",
              "3           Urdu\n",
              "4           Urdu\n",
              "          ...   \n",
              "41350    Bengali\n",
              "41351    Bengali\n",
              "41352    Bengali\n",
              "41353    Bengali\n",
              "41354    Bengali\n",
              "Name: language, Length: 41355, dtype: object"
            ]
          },
          "metadata": {},
          "execution_count": 34
        }
      ]
    },
    {
      "cell_type": "code",
      "source": [
        "c=0\n",
        "for i in df['language']:\n",
        "  if(i=='Hindi'):\n",
        "    c+=1\n",
        "\n",
        "print('There are' ,c, 'songs in Hindi')"
      ],
      "metadata": {
        "colab": {
          "base_uri": "https://localhost:8080/"
        },
        "id": "1fncdDMFrZ-z",
        "outputId": "b99ec41f-4f2a-4d4a-c567-96385f7a7f94"
      },
      "execution_count": 36,
      "outputs": [
        {
          "output_type": "stream",
          "name": "stdout",
          "text": [
            "There are 4993 songs in Hindi\n"
          ]
        }
      ]
    },
    {
      "cell_type": "code",
      "source": [
        "#diff approach\n",
        "#checking if the song is in Hindi or not\n",
        "df['language']=='Hindi'"
      ],
      "metadata": {
        "colab": {
          "base_uri": "https://localhost:8080/"
        },
        "id": "p7TdwNvbr9Vf",
        "outputId": "3463e3ec-71f2-458e-fdf5-728137e9ca8b"
      },
      "execution_count": 39,
      "outputs": [
        {
          "output_type": "execute_result",
          "data": {
            "text/plain": [
              "0        False\n",
              "1        False\n",
              "2        False\n",
              "3        False\n",
              "4        False\n",
              "         ...  \n",
              "41350    False\n",
              "41351    False\n",
              "41352    False\n",
              "41353    False\n",
              "41354    False\n",
              "Name: language, Length: 41355, dtype: bool"
            ]
          },
          "metadata": {},
          "execution_count": 39
        }
      ]
    },
    {
      "cell_type": "code",
      "source": [
        "df[df['language']=='Hindi']"
      ],
      "metadata": {
        "colab": {
          "base_uri": "https://localhost:8080/",
          "height": 554
        },
        "id": "HhB8Y11msgCB",
        "outputId": "6bb19c6a-250e-4b59-ebcc-de16f1373eea"
      },
      "execution_count": 40,
      "outputs": [
        {
          "output_type": "execute_result",
          "data": {
            "text/plain": [
              "                                   name                         singer  \\\n",
              "18054         Bheegi Bheegi Raaton Mein  Kishore Kumar|Lata Mangeshkar   \n",
              "18055           Aap Ki Ankhon Mein Kuch  Kishore Kumar|Lata Mangeshkar   \n",
              "18056       Tum Aa Gaye Ho Noor Aa Gaya  Kishore Kumar|Lata Mangeshkar   \n",
              "18057            Hamen Tumse Pyar Kitna                  Kishore Kumar   \n",
              "18058              Tere Bina Zindagi Se  Kishore Kumar|Lata Mangeshkar   \n",
              "...                                 ...                            ...   \n",
              "23042  Nigahen Milane Ko Jee Chahta Hai                    Asha Bhosle   \n",
              "23043       Apne Hathon Ki Lakiron Mein                   Manhar Udhas   \n",
              "23044       Gori Chalo Na Hans Ki Chaal      Asha Bhosle|Mohammed Rafi   \n",
              "23045          Zindagi Ki Na Toote Ladi   Lata Mangeshkar|Nitin Mukesh   \n",
              "23046              Diwana Leke Aaya Hai                  Kishore Kumar   \n",
              "\n",
              "                                           singer_id  duration  \\\n",
              "18054  /artist/kishore-kumar|/artist/lata-mangeshkar       234   \n",
              "18055  /artist/kishore-kumar|/artist/lata-mangeshkar       249   \n",
              "18056  /artist/kishore-kumar|/artist/lata-mangeshkar       253   \n",
              "18057                          /artist/kishore-kumar       242   \n",
              "18058  /artist/kishore-kumar|/artist/lata-mangeshkar       354   \n",
              "...                                              ...       ...   \n",
              "23042                          /artist/asha-bhosle-1       394   \n",
              "23043                           /artist/manhar-udhas       403   \n",
              "23044    /artist/asha-bhosle-1|/artist/mohammad-rafi       213   \n",
              "23045   /artist/lata-mangeshkar|/artist/nitin-mukesh       422   \n",
              "23046                          /artist/kishore-kumar       279   \n",
              "\n",
              "                                      link language  \n",
              "18054           /bheegi-bheegi-raaton-mein    Hindi  \n",
              "18055            /aap-ki-ankhon-mein-kuchh    Hindi  \n",
              "18056         /tum-aa-gaye-ho-noor-aa-gaya    Hindi  \n",
              "18057            /hamen-tumse-pyar-kitna-2    Hindi  \n",
              "18058              /tere-bina-zindagi-se-1    Hindi  \n",
              "...                                    ...      ...  \n",
              "23042  /nigahen-milane-ko-jee-chahta-hai-3    Hindi  \n",
              "23043         /apne-hathon-ki-lakiron-mein    Hindi  \n",
              "23044         /gori-chalo-na-hans-ki-chaal    Hindi  \n",
              "23045          /zindagi-ki-na-toote-ladi-2    Hindi  \n",
              "23046              /diwana-leke-aaya-hai-7    Hindi  \n",
              "\n",
              "[4993 rows x 6 columns]"
            ],
            "text/html": [
              "\n",
              "  <div id=\"df-eb96e0fa-586c-4193-9783-2c7708513728\">\n",
              "    <div class=\"colab-df-container\">\n",
              "      <div>\n",
              "<style scoped>\n",
              "    .dataframe tbody tr th:only-of-type {\n",
              "        vertical-align: middle;\n",
              "    }\n",
              "\n",
              "    .dataframe tbody tr th {\n",
              "        vertical-align: top;\n",
              "    }\n",
              "\n",
              "    .dataframe thead th {\n",
              "        text-align: right;\n",
              "    }\n",
              "</style>\n",
              "<table border=\"1\" class=\"dataframe\">\n",
              "  <thead>\n",
              "    <tr style=\"text-align: right;\">\n",
              "      <th></th>\n",
              "      <th>name</th>\n",
              "      <th>singer</th>\n",
              "      <th>singer_id</th>\n",
              "      <th>duration</th>\n",
              "      <th>link</th>\n",
              "      <th>language</th>\n",
              "    </tr>\n",
              "  </thead>\n",
              "  <tbody>\n",
              "    <tr>\n",
              "      <th>18054</th>\n",
              "      <td>Bheegi Bheegi Raaton Mein</td>\n",
              "      <td>Kishore Kumar|Lata Mangeshkar</td>\n",
              "      <td>/artist/kishore-kumar|/artist/lata-mangeshkar</td>\n",
              "      <td>234</td>\n",
              "      <td>/bheegi-bheegi-raaton-mein</td>\n",
              "      <td>Hindi</td>\n",
              "    </tr>\n",
              "    <tr>\n",
              "      <th>18055</th>\n",
              "      <td>Aap Ki Ankhon Mein Kuch</td>\n",
              "      <td>Kishore Kumar|Lata Mangeshkar</td>\n",
              "      <td>/artist/kishore-kumar|/artist/lata-mangeshkar</td>\n",
              "      <td>249</td>\n",
              "      <td>/aap-ki-ankhon-mein-kuchh</td>\n",
              "      <td>Hindi</td>\n",
              "    </tr>\n",
              "    <tr>\n",
              "      <th>18056</th>\n",
              "      <td>Tum Aa Gaye Ho Noor Aa Gaya</td>\n",
              "      <td>Kishore Kumar|Lata Mangeshkar</td>\n",
              "      <td>/artist/kishore-kumar|/artist/lata-mangeshkar</td>\n",
              "      <td>253</td>\n",
              "      <td>/tum-aa-gaye-ho-noor-aa-gaya</td>\n",
              "      <td>Hindi</td>\n",
              "    </tr>\n",
              "    <tr>\n",
              "      <th>18057</th>\n",
              "      <td>Hamen Tumse Pyar Kitna</td>\n",
              "      <td>Kishore Kumar</td>\n",
              "      <td>/artist/kishore-kumar</td>\n",
              "      <td>242</td>\n",
              "      <td>/hamen-tumse-pyar-kitna-2</td>\n",
              "      <td>Hindi</td>\n",
              "    </tr>\n",
              "    <tr>\n",
              "      <th>18058</th>\n",
              "      <td>Tere Bina Zindagi Se</td>\n",
              "      <td>Kishore Kumar|Lata Mangeshkar</td>\n",
              "      <td>/artist/kishore-kumar|/artist/lata-mangeshkar</td>\n",
              "      <td>354</td>\n",
              "      <td>/tere-bina-zindagi-se-1</td>\n",
              "      <td>Hindi</td>\n",
              "    </tr>\n",
              "    <tr>\n",
              "      <th>...</th>\n",
              "      <td>...</td>\n",
              "      <td>...</td>\n",
              "      <td>...</td>\n",
              "      <td>...</td>\n",
              "      <td>...</td>\n",
              "      <td>...</td>\n",
              "    </tr>\n",
              "    <tr>\n",
              "      <th>23042</th>\n",
              "      <td>Nigahen Milane Ko Jee Chahta Hai</td>\n",
              "      <td>Asha Bhosle</td>\n",
              "      <td>/artist/asha-bhosle-1</td>\n",
              "      <td>394</td>\n",
              "      <td>/nigahen-milane-ko-jee-chahta-hai-3</td>\n",
              "      <td>Hindi</td>\n",
              "    </tr>\n",
              "    <tr>\n",
              "      <th>23043</th>\n",
              "      <td>Apne Hathon Ki Lakiron Mein</td>\n",
              "      <td>Manhar Udhas</td>\n",
              "      <td>/artist/manhar-udhas</td>\n",
              "      <td>403</td>\n",
              "      <td>/apne-hathon-ki-lakiron-mein</td>\n",
              "      <td>Hindi</td>\n",
              "    </tr>\n",
              "    <tr>\n",
              "      <th>23044</th>\n",
              "      <td>Gori Chalo Na Hans Ki Chaal</td>\n",
              "      <td>Asha Bhosle|Mohammed Rafi</td>\n",
              "      <td>/artist/asha-bhosle-1|/artist/mohammad-rafi</td>\n",
              "      <td>213</td>\n",
              "      <td>/gori-chalo-na-hans-ki-chaal</td>\n",
              "      <td>Hindi</td>\n",
              "    </tr>\n",
              "    <tr>\n",
              "      <th>23045</th>\n",
              "      <td>Zindagi Ki Na Toote Ladi</td>\n",
              "      <td>Lata Mangeshkar|Nitin Mukesh</td>\n",
              "      <td>/artist/lata-mangeshkar|/artist/nitin-mukesh</td>\n",
              "      <td>422</td>\n",
              "      <td>/zindagi-ki-na-toote-ladi-2</td>\n",
              "      <td>Hindi</td>\n",
              "    </tr>\n",
              "    <tr>\n",
              "      <th>23046</th>\n",
              "      <td>Diwana Leke Aaya Hai</td>\n",
              "      <td>Kishore Kumar</td>\n",
              "      <td>/artist/kishore-kumar</td>\n",
              "      <td>279</td>\n",
              "      <td>/diwana-leke-aaya-hai-7</td>\n",
              "      <td>Hindi</td>\n",
              "    </tr>\n",
              "  </tbody>\n",
              "</table>\n",
              "<p>4993 rows × 6 columns</p>\n",
              "</div>\n",
              "      <button class=\"colab-df-convert\" onclick=\"convertToInteractive('df-eb96e0fa-586c-4193-9783-2c7708513728')\"\n",
              "              title=\"Convert this dataframe to an interactive table.\"\n",
              "              style=\"display:none;\">\n",
              "        \n",
              "  <svg xmlns=\"http://www.w3.org/2000/svg\" height=\"24px\"viewBox=\"0 0 24 24\"\n",
              "       width=\"24px\">\n",
              "    <path d=\"M0 0h24v24H0V0z\" fill=\"none\"/>\n",
              "    <path d=\"M18.56 5.44l.94 2.06.94-2.06 2.06-.94-2.06-.94-.94-2.06-.94 2.06-2.06.94zm-11 1L8.5 8.5l.94-2.06 2.06-.94-2.06-.94L8.5 2.5l-.94 2.06-2.06.94zm10 10l.94 2.06.94-2.06 2.06-.94-2.06-.94-.94-2.06-.94 2.06-2.06.94z\"/><path d=\"M17.41 7.96l-1.37-1.37c-.4-.4-.92-.59-1.43-.59-.52 0-1.04.2-1.43.59L10.3 9.45l-7.72 7.72c-.78.78-.78 2.05 0 2.83L4 21.41c.39.39.9.59 1.41.59.51 0 1.02-.2 1.41-.59l7.78-7.78 2.81-2.81c.8-.78.8-2.07 0-2.86zM5.41 20L4 18.59l7.72-7.72 1.47 1.35L5.41 20z\"/>\n",
              "  </svg>\n",
              "      </button>\n",
              "      \n",
              "  <style>\n",
              "    .colab-df-container {\n",
              "      display:flex;\n",
              "      flex-wrap:wrap;\n",
              "      gap: 12px;\n",
              "    }\n",
              "\n",
              "    .colab-df-convert {\n",
              "      background-color: #E8F0FE;\n",
              "      border: none;\n",
              "      border-radius: 50%;\n",
              "      cursor: pointer;\n",
              "      display: none;\n",
              "      fill: #1967D2;\n",
              "      height: 32px;\n",
              "      padding: 0 0 0 0;\n",
              "      width: 32px;\n",
              "    }\n",
              "\n",
              "    .colab-df-convert:hover {\n",
              "      background-color: #E2EBFA;\n",
              "      box-shadow: 0px 1px 2px rgba(60, 64, 67, 0.3), 0px 1px 3px 1px rgba(60, 64, 67, 0.15);\n",
              "      fill: #174EA6;\n",
              "    }\n",
              "\n",
              "    [theme=dark] .colab-df-convert {\n",
              "      background-color: #3B4455;\n",
              "      fill: #D2E3FC;\n",
              "    }\n",
              "\n",
              "    [theme=dark] .colab-df-convert:hover {\n",
              "      background-color: #434B5C;\n",
              "      box-shadow: 0px 1px 3px 1px rgba(0, 0, 0, 0.15);\n",
              "      filter: drop-shadow(0px 1px 2px rgba(0, 0, 0, 0.3));\n",
              "      fill: #FFFFFF;\n",
              "    }\n",
              "  </style>\n",
              "\n",
              "      <script>\n",
              "        const buttonEl =\n",
              "          document.querySelector('#df-eb96e0fa-586c-4193-9783-2c7708513728 button.colab-df-convert');\n",
              "        buttonEl.style.display =\n",
              "          google.colab.kernel.accessAllowed ? 'block' : 'none';\n",
              "\n",
              "        async function convertToInteractive(key) {\n",
              "          const element = document.querySelector('#df-eb96e0fa-586c-4193-9783-2c7708513728');\n",
              "          const dataTable =\n",
              "            await google.colab.kernel.invokeFunction('convertToInteractive',\n",
              "                                                     [key], {});\n",
              "          if (!dataTable) return;\n",
              "\n",
              "          const docLinkHtml = 'Like what you see? Visit the ' +\n",
              "            '<a target=\"_blank\" href=https://colab.research.google.com/notebooks/data_table.ipynb>data table notebook</a>'\n",
              "            + ' to learn more about interactive tables.';\n",
              "          element.innerHTML = '';\n",
              "          dataTable['output_type'] = 'display_data';\n",
              "          await google.colab.output.renderOutput(dataTable, element);\n",
              "          const docLink = document.createElement('div');\n",
              "          docLink.innerHTML = docLinkHtml;\n",
              "          element.appendChild(docLink);\n",
              "        }\n",
              "      </script>\n",
              "    </div>\n",
              "  </div>\n",
              "  "
            ]
          },
          "metadata": {},
          "execution_count": 40
        }
      ]
    },
    {
      "cell_type": "code",
      "source": [
        "len(df[df['language']=='Hindi'])"
      ],
      "metadata": {
        "colab": {
          "base_uri": "https://localhost:8080/"
        },
        "id": "u57-7mCFss3X",
        "outputId": "5c72fded-01b7-4c30-ce60-8d5d86707225"
      },
      "execution_count": 41,
      "outputs": [
        {
          "output_type": "execute_result",
          "data": {
            "text/plain": [
              "4993"
            ]
          },
          "metadata": {},
          "execution_count": 41
        }
      ]
    },
    {
      "cell_type": "markdown",
      "source": [
        "##### 3.5) Number of songs in each Language?"
      ],
      "metadata": {
        "id": "sZr0lEDStL2o"
      }
    },
    {
      "cell_type": "code",
      "source": [
        "df['language'].unique()"
      ],
      "metadata": {
        "colab": {
          "base_uri": "https://localhost:8080/"
        },
        "id": "_4a1AdKbtVUM",
        "outputId": "7d74afa8-ed1f-4eb2-dcc5-400bb733df29"
      },
      "execution_count": 42,
      "outputs": [
        {
          "output_type": "execute_result",
          "data": {
            "text/plain": [
              "array(['Urdu', 'Gujarati', 'Tamil', 'Kannada', 'Rajasthani', 'Haryanvi',\n",
              "       'Punjabi', 'Hindi', 'Old', 'Malayalam', 'Marathi', 'Telugu',\n",
              "       'Odia', 'Bhojpuri', 'Assamese', 'Bengali'], dtype=object)"
            ]
          },
          "metadata": {},
          "execution_count": 42
        }
      ]
    },
    {
      "cell_type": "code",
      "source": [
        "for lang in df['language'].unique():\n",
        "  print(lang)"
      ],
      "metadata": {
        "colab": {
          "base_uri": "https://localhost:8080/"
        },
        "id": "n1w4Xj1Gtd9P",
        "outputId": "2b8711d7-5590-4d13-fb4a-3e3bc855c562"
      },
      "execution_count": 43,
      "outputs": [
        {
          "output_type": "stream",
          "name": "stdout",
          "text": [
            "Urdu\n",
            "Gujarati\n",
            "Tamil\n",
            "Kannada\n",
            "Rajasthani\n",
            "Haryanvi\n",
            "Punjabi\n",
            "Hindi\n",
            "Old\n",
            "Malayalam\n",
            "Marathi\n",
            "Telugu\n",
            "Odia\n",
            "Bhojpuri\n",
            "Assamese\n",
            "Bengali\n"
          ]
        }
      ]
    },
    {
      "cell_type": "markdown",
      "source": [
        ""
      ],
      "metadata": {
        "id": "PlkIFKeTrOda"
      }
    },
    {
      "cell_type": "code",
      "source": [
        "for lang in df['language'].unique():\n",
        "  c=0\n",
        "  for i in df['language']:\n",
        "    if(i==lang):\n",
        "      c+=1\n",
        "\n",
        "  print(lang, c)"
      ],
      "metadata": {
        "colab": {
          "base_uri": "https://localhost:8080/"
        },
        "id": "NGZ8EzkIuB30",
        "outputId": "a1e842b1-2113-44b2-c549-a5a2127ad0d9"
      },
      "execution_count": 44,
      "outputs": [
        {
          "output_type": "stream",
          "name": "stdout",
          "text": [
            "Urdu 3116\n",
            "Gujarati 2115\n",
            "Tamil 4677\n",
            "Kannada 3559\n",
            "Rajasthani 541\n",
            "Haryanvi 228\n",
            "Punjabi 3818\n",
            "Hindi 4993\n",
            "Old 4993\n",
            "Malayalam 479\n",
            "Marathi 4699\n",
            "Telugu 4996\n",
            "Odia 940\n",
            "Bhojpuri 519\n",
            "Assamese 724\n",
            "Bengali 958\n"
          ]
        }
      ]
    },
    {
      "cell_type": "code",
      "source": [
        "#diff approach\n",
        "for lang in df['language'].unique():\n",
        "  print(lang, len(df[df['language']==lang]))"
      ],
      "metadata": {
        "colab": {
          "base_uri": "https://localhost:8080/"
        },
        "id": "Kah6KoJsuqow",
        "outputId": "80556d5c-b052-4aba-e6d0-3c58c4d747ac"
      },
      "execution_count": 45,
      "outputs": [
        {
          "output_type": "stream",
          "name": "stdout",
          "text": [
            "Urdu 3116\n",
            "Gujarati 2115\n",
            "Tamil 4677\n",
            "Kannada 3559\n",
            "Rajasthani 541\n",
            "Haryanvi 228\n",
            "Punjabi 3818\n",
            "Hindi 4993\n",
            "Old 4993\n",
            "Malayalam 479\n",
            "Marathi 4699\n",
            "Telugu 4996\n",
            "Odia 940\n",
            "Bhojpuri 519\n",
            "Assamese 724\n",
            "Bengali 958\n"
          ]
        }
      ]
    },
    {
      "cell_type": "markdown",
      "source": [
        "##### 3.6) Average Duration of song in each language"
      ],
      "metadata": {
        "id": "ZL83kW6Qwi89"
      }
    },
    {
      "cell_type": "code",
      "source": [
        "#for lang in df['language'].unique():\n",
        "# print(lang, len(df[df['language']==lang].mean()))\n",
        "\n",
        "for lang in df['language'].unique():\n",
        "  print(lang, int(df[df['language']==lang]['duration'].mean()))\n",
        "  #break"
      ],
      "metadata": {
        "colab": {
          "base_uri": "https://localhost:8080/"
        },
        "id": "KXfChkoswspa",
        "outputId": "8bb98b53-72dd-4df7-a9fa-839561b5f968"
      },
      "execution_count": 49,
      "outputs": [
        {
          "output_type": "stream",
          "name": "stdout",
          "text": [
            "Urdu 407\n",
            "Gujarati 271\n",
            "Tamil 270\n",
            "Kannada 250\n",
            "Rajasthani 291\n",
            "Haryanvi 320\n",
            "Punjabi 324\n",
            "Hindi 307\n",
            "Old 307\n",
            "Malayalam 242\n",
            "Marathi 281\n",
            "Telugu 279\n",
            "Odia 257\n",
            "Bhojpuri 357\n",
            "Assamese 228\n",
            "Bengali 255\n"
          ]
        }
      ]
    },
    {
      "cell_type": "markdown",
      "source": [
        "##### 3.7) How many unique singers are there in the dataset?\n"
      ],
      "metadata": {
        "id": "Ud9omgMpxy7B"
      }
    },
    {
      "cell_type": "code",
      "source": [
        "df['singer']"
      ],
      "metadata": {
        "colab": {
          "base_uri": "https://localhost:8080/"
        },
        "id": "Q0rTJfoox7h2",
        "outputId": "33658e95-e4a4-4218-bc24-a884e284b9d6"
      },
      "execution_count": 50,
      "outputs": [
        {
          "output_type": "execute_result",
          "data": {
            "text/plain": [
              "0             Chitra Singh|Jagjit Singh\n",
              "1             Chitra Singh|Jagjit Singh\n",
              "2                          Jagjit Singh\n",
              "3                          Chitra Singh\n",
              "4                          Jagjit Singh\n",
              "                      ...              \n",
              "41350                     Kishore Kumar\n",
              "41351                      Feroza Begum\n",
              "41352    Sandhya Mukherjee|Hemant Kumar\n",
              "41353                  Ajoy Chakrabarty\n",
              "41354                       Asha Bhosle\n",
              "Name: singer, Length: 41355, dtype: object"
            ]
          },
          "metadata": {},
          "execution_count": 50
        }
      ]
    },
    {
      "cell_type": "code",
      "source": [
        "for singers in df['singer'][:10]:\n",
        "  print(singers)"
      ],
      "metadata": {
        "colab": {
          "base_uri": "https://localhost:8080/"
        },
        "id": "d5xASQUMykVh",
        "outputId": "6b8f2901-5f75-431b-eb96-7b7e4e474426"
      },
      "execution_count": 51,
      "outputs": [
        {
          "output_type": "stream",
          "name": "stdout",
          "text": [
            "Chitra Singh|Jagjit Singh\n",
            "Chitra Singh|Jagjit Singh\n",
            "Jagjit Singh\n",
            "Chitra Singh\n",
            "Jagjit Singh\n",
            "Chitra Singh|Jagjit Singh\n",
            "Chitra Singh|Jagjit Singh\n",
            "Jagjit Singh\n",
            "Jagjit Kaur\n",
            "Chitra Singh|Naseeruddin Shah\n"
          ]
        }
      ]
    },
    {
      "cell_type": "code",
      "source": [
        "for singers in df['singer'][:10]:\n",
        "  print(singers.split('|'))"
      ],
      "metadata": {
        "colab": {
          "base_uri": "https://localhost:8080/"
        },
        "id": "ne_gr1C_y7DA",
        "outputId": "e2409146-b742-454c-aee4-2cb3c6d1b512"
      },
      "execution_count": 52,
      "outputs": [
        {
          "output_type": "stream",
          "name": "stdout",
          "text": [
            "['Chitra Singh', 'Jagjit Singh']\n",
            "['Chitra Singh', 'Jagjit Singh']\n",
            "['Jagjit Singh']\n",
            "['Chitra Singh']\n",
            "['Jagjit Singh']\n",
            "['Chitra Singh', 'Jagjit Singh']\n",
            "['Chitra Singh', 'Jagjit Singh']\n",
            "['Jagjit Singh']\n",
            "['Jagjit Kaur']\n",
            "['Chitra Singh', 'Naseeruddin Shah']\n"
          ]
        }
      ]
    },
    {
      "cell_type": "code",
      "source": [
        "all_singer=[]\n",
        "for singers in df['singer']:\n",
        "\n",
        "  all_singer+=singers.split('|')\n",
        "print('Total singers : ', len(set(all_singer)))"
      ],
      "metadata": {
        "colab": {
          "base_uri": "https://localhost:8080/"
        },
        "id": "BGqtJKeWzIP-",
        "outputId": "87172120-cff9-4553-cb0c-09b5528e7ba1"
      },
      "execution_count": 59,
      "outputs": [
        {
          "output_type": "stream",
          "name": "stdout",
          "text": [
            "Total singers :  3940\n"
          ]
        }
      ]
    },
    {
      "cell_type": "code",
      "source": [
        "len(all_singer)\n",
        "#but here there might be multiple counts of a single singer, so we need to find unique singer"
      ],
      "metadata": {
        "colab": {
          "base_uri": "https://localhost:8080/"
        },
        "id": "hBla7V9Zzm9-",
        "outputId": "be28e302-6653-49f4-9a0d-dd1fe675ec10"
      },
      "execution_count": 57,
      "outputs": [
        {
          "output_type": "execute_result",
          "data": {
            "text/plain": [
              "60166"
            ]
          },
          "metadata": {},
          "execution_count": 57
        }
      ]
    },
    {
      "cell_type": "code",
      "source": [
        "#now we find unique singers\n",
        "len(set(all_singer))"
      ],
      "metadata": {
        "colab": {
          "base_uri": "https://localhost:8080/"
        },
        "id": "sMJordgmzxII",
        "outputId": "09bea40e-db3a-490e-ee50-c78c41ea3a63"
      },
      "execution_count": 58,
      "outputs": [
        {
          "output_type": "execute_result",
          "data": {
            "text/plain": [
              "3940"
            ]
          },
          "metadata": {},
          "execution_count": 58
        }
      ]
    },
    {
      "cell_type": "markdown",
      "source": [
        "##### 3.8) Who has the most number of songs played?"
      ],
      "metadata": {
        "id": "MuGO5JiZ1gUs"
      }
    },
    {
      "cell_type": "code",
      "source": [
        "data=[]\n",
        "\n",
        "unique_singers=list(set(all_singer))\n",
        "\n",
        "for i in tqdm(unique_singers):\n",
        "\n",
        "  c=0\n",
        "  for singers_ in df['singer']:\n",
        "    if (i in singers_):        #if we want to know solo singers\n",
        "      c+=1                     #replace 'in' with ==\n",
        "\n",
        "  data.append([i, c])\n",
        "\n",
        "  print(i, c)\n",
        "\n",
        "  #i-singer name\n",
        "  #but there might be multiple singers with the same name\n",
        "  #we need to take care of that (by considering their ids)"
      ],
      "metadata": {
        "colab": {
          "base_uri": "https://localhost:8080/"
        },
        "id": "E55m5yWd1prW",
        "outputId": "4960cf98-b552-4545-f71f-27b8461ca365"
      },
      "execution_count": 74,
      "outputs": [
        {
          "output_type": "stream",
          "name": "stderr",
          "text": [
            "  0%|          | 12/3940 [00:00<00:35, 111.17it/s]"
          ]
        },
        {
          "output_type": "stream",
          "name": "stdout",
          "text": [
            "Inder Kaur 7\n",
            "M.S. Raju 5\n",
            "Maheshwar Barua 2\n",
            "Salem S. Jayalakshmi 7\n",
            "Paresh Pevekar 1\n",
            "Sreekumar Chatterjee 2\n",
            "Manohar 8\n",
            "Late Gahan Goswami 1\n",
            "S. Alamelu 1\n",
            "M.S. Rama Rao 8\n",
            "Utpala 2\n",
            "Artists of Churu 4\n",
            "Poornam Viswanathan 2\n",
            "Lissi Jose 1\n",
            "Aniruddha Prasad Singh 8\n",
            "Edwin 1\n",
            "Kiran Vairale 4\n",
            "Shahir Sable 14\n",
            "Kirti 10\n",
            "Bhagwan Haans 9\n",
            "Anjali Joshi 1\n",
            "M G Sreekumar 4\n",
            "N S Prakash Rao 1\n"
          ]
        },
        {
          "output_type": "stream",
          "name": "stderr",
          "text": [
            "  1%|          | 36/3940 [00:00<00:34, 114.54it/s]"
          ]
        },
        {
          "output_type": "stream",
          "name": "stdout",
          "text": [
            "Madhabi 2\n",
            "Subhal Axmidash 12\n",
            "Jaisingh Dave 1\n",
            "Preeti Bala 4\n",
            "Ramesh Chopra 2\n",
            "Vilayil Fazeela 1\n",
            "Raghunath Salokhe 2\n",
            "Sadhna Sargam 4\n",
            "Shahaji Kale 6\n",
            "S.P.Saradha (Thirupur Sisters) 3\n",
            "M.K. Thyagaraja Bhagavathar 1\n",
            "Padmini Kolhapure 19\n",
            "Vandna Vitankar 1\n",
            "Bhai Ravinder Singh 4\n",
            "Chhinder Paul Sunam 2\n",
            "Kshama Bajikar 2\n",
            "Meenu Chadda 1\n",
            "CHANDRAMANI MUKHERJEE 8\n",
            "Vinod Sehgal 24\n",
            "Usha Timoti 1\n",
            "Dilip Prabhakar 1\n",
            "Vakula 1\n",
            "Jayachandren 1\n",
            "Dwipen Baruah 52\n"
          ]
        },
        {
          "output_type": "stream",
          "name": "stderr",
          "text": [
            "  2%|▏         | 60/3940 [00:00<00:34, 112.65it/s]"
          ]
        },
        {
          "output_type": "stream",
          "name": "stdout",
          "text": [
            "G. I. Mohandas 2\n",
            "Shobha Joshi 7\n",
            "Shankar Qawal 2\n",
            "Bakul Pandit 8\n",
            "Paramjit Singh 19\n",
            "Ghulam Kadar Hashmi Qawwal 2\n",
            "Shankar Nag 1\n",
            "Shashikala 1\n",
            "various 14\n",
            "Satnam Singh Ji Sethi 3\n",
            "Anousha Manchandani 2\n",
            "Ghanta Sala 1\n",
            "Ashalatha Kulkarni 2\n",
            "Sasha Ghoshal 3\n",
            "Na 1453\n",
            "Poornima 3\n",
            "Laxmikant Palit 3\n",
            "Akhtar Ali 12\n",
            "Chandrakant Kale 7\n",
            "S.Somasundaram 1\n",
            "K. Gopi 2\n",
            "Usha Khanna 14\n",
            "Saraswathi 2\n"
          ]
        },
        {
          "output_type": "stream",
          "name": "stderr",
          "text": [
            "  2%|▏         | 84/3940 [00:00<00:34, 111.48it/s]"
          ]
        },
        {
          "output_type": "stream",
          "name": "stdout",
          "text": [
            "Janaki 2218\n",
            "Babul Supriyo 2\n",
            "A Sven Peter 1\n",
            "Mangala Joshi 6\n",
            "Rajesh Madina 11\n",
            "B. Jayamma 1\n",
            "Chimanbhai Dantani 1\n",
            "Zoheb Hassan 12\n",
            "Mahenra Kapoor 1\n",
            "Sadan 17\n",
            "Swami Ranganathananda 1\n",
            "Kehar Singh Sapera 4\n",
            "Aashit Desai 1\n",
            "Feroz Khan 4\n",
            "Romendra Sagar 2\n",
            "Shahir Nivruti Pawar 16\n",
            "Rajan Mankame 2\n",
            "Charanjit Channi 15\n",
            "Vitthal Shinde 8\n",
            "Trupti Das 37\n",
            "Yash Ludhianvi 2\n",
            "Jensy 2\n",
            "Hansa Dave 26\n",
            "Jency Anthony 5\n"
          ]
        },
        {
          "output_type": "stream",
          "name": "stderr",
          "text": [
            "  3%|▎         | 108/3940 [00:00<00:34, 109.88it/s]"
          ]
        },
        {
          "output_type": "stream",
          "name": "stdout",
          "text": [
            "Hariram 1\n",
            "Dwarakish 4\n",
            "Dharmapuram P. Swaminathan 1\n",
            "Poornima Shah 1\n",
            "Karam S. Bhatti 1\n",
            "Ambar Gayakwad 3\n",
            "Lalita Phadke 2\n",
            "Nagendra 12\n",
            "Bhawna Lonkar 10\n",
            "Zul Vellani 2\n",
            "Ustad Ali Ahmed Hussain 8\n",
            "RAZA MURAD 4\n",
            "S. R. Kamble 2\n",
            "Sylvie Gazeau 1\n",
            "Kalpana Shirur 4\n",
            "Vidya Pendharkar 1\n",
            "Jugal Kishore Mishra 1\n",
            "Nikunjalata Mahanta 5\n",
            "Dilip Ghosh 1\n",
            "Lakhabhai Gadhavi 5\n",
            "Air Orchestra 1\n",
            "Suchet Bala 10\n",
            "Amanat Ali Khan 56\n"
          ]
        },
        {
          "output_type": "stream",
          "name": "stderr",
          "text": [
            "  3%|▎         | 130/3940 [00:01<00:35, 108.57it/s]"
          ]
        },
        {
          "output_type": "stream",
          "name": "stdout",
          "text": [
            "Van Shipley 8\n",
            "Jyoti 8\n",
            "E. Gayathri 7\n",
            "Chandi Ram 3\n",
            "Shiw Nandan Gope 2\n",
            "Ravi Sharma 2\n",
            "Karamdeep Kaur 4\n",
            "Afshaan 12\n",
            "Bhupatdan Gadhavi 1\n",
            "Sathya Rao 3\n",
            "Arun Ingle 40\n",
            "Alamgir Khan 53\n",
            "Zahid Hussain 4\n",
            "Gopi Patnaik 1\n",
            "K. Deep 49\n",
            "Rameshkrishna 2\n",
            "Andaman Islands 1\n",
            "John Stewart 2\n",
            "Rita 3\n",
            "Pramod Mathur 3\n",
            "Sharda Sinha 39\n",
            "Nilima Sen 1\n"
          ]
        },
        {
          "output_type": "stream",
          "name": "stderr",
          "text": [
            "  4%|▍         | 153/3940 [00:01<00:34, 109.73it/s]"
          ]
        },
        {
          "output_type": "stream",
          "name": "stdout",
          "text": [
            "Rangila Jatt 7\n",
            "Siba Prasad Nath 3\n",
            "Jayanand Shetty 8\n",
            "Maruti Bua Bagde 1\n",
            "Ram Kadam 5\n",
            "Sujan 5\n",
            "Shivamogga Subbanna 3\n",
            "Mohd. Habib 1\n",
            "Suman Ranganathan 2\n",
            "Apurba Das 1\n",
            "Vandna Tailang 1\n",
            "Sunita Kapoor 10\n",
            "Sain Akhtar Hussain 1\n",
            "Jagruti Nayak 8\n",
            "Tasswar Khanum 1\n",
            "Vidhu Prathap 1\n",
            "Sankar Ghosh 3\n",
            "Seergazhi G.Sivachidambaram 9\n",
            "Parkash Sodhi 5\n",
            "Sasi Rekha 2\n",
            "Usha Atre 2\n",
            "Anima Das 3\n",
            "Pattom Sadan 14\n",
            "Munin 2\n"
          ]
        },
        {
          "output_type": "stream",
          "name": "stderr",
          "text": [
            "  4%|▍         | 177/3940 [00:01<00:34, 109.26it/s]"
          ]
        },
        {
          "output_type": "stream",
          "name": "stdout",
          "text": [
            "Sheikh Aazad 4\n",
            "Abavanan 3\n",
            "Saleem Shahzad 2\n",
            "Harindranath Chattopadhyay 2\n",
            "Pahari Saikia 4\n",
            "Shekh Jainu Chand 9\n",
            "Puna Saika 1\n",
            "Usha Timothy 14\n",
            "J.V. Ragubala 1\n",
            "Vijay Prakash 2\n",
            "P Nageshwara Rao 5\n",
            "Surinder Pal Panchhi 4\n",
            "Roshan Ara Begum 32\n",
            "Nalla Rama Moorthy 1\n",
            "Shaukat Ali 25\n",
            "Akhyay Mohanty 5\n",
            "Sundar 47\n",
            "Kadambari 1\n",
            "Gyandev Mane 1\n",
            "Mustafa Khan 3\n",
            "Irene Parveen 1\n",
            "A.V.N.Murthy 1\n",
            "Lal Din Shahbazi 10\n"
          ]
        },
        {
          "output_type": "stream",
          "name": "stderr",
          "text": [
            "  5%|▌         | 200/3940 [00:01<00:34, 109.56it/s]"
          ]
        },
        {
          "output_type": "stream",
          "name": "stdout",
          "text": [
            "Pravinkumar 1\n",
            "Amir Singh Rana 3\n",
            "Pulipaka Venkatappiah 2\n",
            "Assam singers with percussion from Kohima 1\n",
            "P.Jayachandaran 2\n",
            "Kiran Abbot 2\n",
            "Harnek Singh Nek 3\n",
            "Ganpat Joshi 3\n",
            "A. K. Hangal 2\n",
            "Chitharanjan 1\n",
            "Kuntala Deka 1\n",
            "Satya Mishra 1\n",
            "A. Kasthuri 2\n",
            "Anet 9\n",
            "Ramesh Chadaga 1\n",
            "Bhai Darshan Singh Nirmal 1\n",
            "Mona Vyas 4\n",
            "Balaiah 2\n",
            "Leslie Lewis 9\n",
            "Baleshwar 8\n",
            "Kammo 1\n",
            "Vasant Bapat 2\n",
            "Ramana 47\n"
          ]
        },
        {
          "output_type": "stream",
          "name": "stderr",
          "text": [
            "  6%|▌         | 223/3940 [00:02<00:33, 109.42it/s]"
          ]
        },
        {
          "output_type": "stream",
          "name": "stdout",
          "text": [
            "Niyaz Ahmed Khan 2\n",
            "Surinder Singh Ankhi 1\n",
            "Sourav Nayak 6\n",
            "Shivanand Patil 5\n",
            "Bhai Bhupinder Singh 3\n",
            "Mohan Singh Chatha 4\n",
            "Ram Sasoni 1\n",
            "S.balbir Singh Aatish 2\n",
            "Pt. Govind Prasad Jaipurwale 6\n",
            "Asad Amanat Ali Khan 36\n",
            "Suchetbala 16\n",
            "Ku.Shreya 1\n",
            "Manubhai Jasdanwala 1\n",
            "Mridula Rawal 2\n",
            "Sudha Rama 7\n",
            "Surinder Kohli 12\n",
            "Shyamala Balakrishnan 11\n",
            "Shradha Salvi 1\n",
            "Suruli Rajan 2\n",
            "Kamlesh Mishra 1\n",
            "Mansoor Ali Malangi 4\n",
            "ALLAN FAKIR 1\n",
            "Raghavendra Rajkumar 4\n"
          ]
        },
        {
          "output_type": "stream",
          "name": "stderr",
          "text": [
            "  6%|▌         | 245/3940 [00:02<00:34, 107.94it/s]"
          ]
        },
        {
          "output_type": "stream",
          "name": "stdout",
          "text": [
            "Bhai Shamsher Singh Ragi 1\n",
            "Chhoti Bano Sikarwali 3\n",
            "Sumithra 1\n",
            "Badal Kumar 6\n",
            "Pt. Jitendra Abhishek 1\n",
            "Master Arindam 1\n",
            "Nisha Upadhyay 1\n",
            "Malaysia Vasudevan 270\n",
            "Chinna Ponnu 1\n",
            "Ashwini Sastry 1\n",
            "Mehrunissa 3\n",
            "Chetan 5\n",
            "Hema Desai 1\n",
            "Mallika Duraipandian 3\n",
            "Gouri Bapat 2\n",
            "Priti Sagar 4\n",
            "Smita Dass 1\n",
            "Rajkanya Harsh 4\n",
            "Bhai Harjinder Singh Srinagar Wale 1\n",
            "Shabab Alawalpuri 1\n",
            "Nahid Akhter 2\n",
            "Tripti Chhaya 1\n",
            "Iftekhar Imam 2\n",
            "Pammi Sapna 19\n"
          ]
        },
        {
          "output_type": "stream",
          "name": "stderr",
          "text": [
            "  7%|▋         | 269/3940 [00:02<00:33, 109.88it/s]"
          ]
        },
        {
          "output_type": "stream",
          "name": "stdout",
          "text": [
            "Nirupa Roy 10\n",
            "Etishre Das 2\n",
            "C.S. Sarojini Devi 9\n",
            "Manubhai Babariya 1\n",
            "B.R. Latha 2\n",
            "Tejkaran Rao 7\n",
            "Vijaya Desai 1\n",
            "Harshika 1\n",
            "Gururaj Kulakarni 4\n",
            "Chhota Gandharva 17\n",
            "S.K. Menon 2\n",
            "S. Vidyarani 1\n",
            "Manju Banerjee 1\n",
            "Khan Sahib Ustad Abdul Karim Khan 3\n",
            "Jagannath 2\n",
            "Chitra Chorus 1\n",
            "Amarjot 41\n",
            "Y. K. Muddukrishna 4\n",
            "M. Faruqi 2\n",
            "Zaki Taji Qawwal 1\n",
            "T.M. Soundararajan 911\n",
            "Milon Gupta 4\n",
            "Mukkamala Dhoolipala 1\n"
          ]
        },
        {
          "output_type": "stream",
          "name": "stderr",
          "text": [
            "  7%|▋         | 294/3940 [00:02<00:32, 113.11it/s]"
          ]
        },
        {
          "output_type": "stream",
          "name": "stdout",
          "text": [
            "Yusuf Azad 16\n",
            "Balbir Jatti 19\n",
            "Nurjahan Begum 11\n",
            "Karukurichi P. Arunachalam Nadaswaram 2\n",
            "Sumitra Ghosh 1\n",
            "Kovai Murali 1\n",
            "M. Thangappa 1\n",
            "Ramesh Chandra 2\n",
            "Bundu Khan Langa 1\n",
            "Hemant 303\n",
            "Bhai Sohan Singh Rasia 2\n",
            "Agnes Davidson 1\n",
            "Surjit Bindrakhia 2\n",
            "Kumud Bhagwat 1\n",
            "Yeshwant Pitale 1\n",
            "A. Chandrasekhar 1\n",
            "Ravinder Diwana 1\n",
            "Ashalata Bhagat 2\n",
            "Ashok Salve 1\n",
            "K. Murari 1\n",
            "M. Krishnamurthy 1\n",
            "Jayavanthi Heremut 1\n",
            "Mahesh Kanodia 6\n",
            "Ruby John 4\n",
            "Paramjit Ghungrana 8\n"
          ]
        },
        {
          "output_type": "stream",
          "name": "stderr",
          "text": [
            "  8%|▊         | 318/3940 [00:02<00:32, 111.08it/s]"
          ]
        },
        {
          "output_type": "stream",
          "name": "stdout",
          "text": [
            "Bhubaneswari Mishra 4\n",
            "Shaikh Najamuddin 1\n",
            "Resham Singh Resham 4\n",
            "Mohammad Aziz 281\n",
            "Swagatika Mahapatra 6\n",
            "Gurdial Singh Randawa 2\n",
            "Hema Paul 1\n",
            "Ramjibhai Thalakiya Mafatlal 1\n",
            "Kamla Goel 5\n",
            "Balgandharva 30\n",
            "Sri Jayan 2\n",
            "Gurmit Randhawa 3\n",
            "S. V. Ponnusamy 1\n",
            "Nalini Chonkar 5\n",
            "Kisan Kharat 6\n",
            "NARESH KANODIYA 11\n",
            "Hasan Puri 1\n",
            "Bharati Kunchala 7\n",
            "Gururaj Hoskote 4\n",
            "Sudha Gupta 2\n",
            "sohan lal 2\n",
            "Shakeela Bano Poonvi 1\n",
            "O. Vyas 1\n"
          ]
        },
        {
          "output_type": "stream",
          "name": "stderr",
          "text": [
            "  9%|▊         | 342/3940 [00:03<00:32, 111.69it/s]"
          ]
        },
        {
          "output_type": "stream",
          "name": "stdout",
          "text": [
            "Sunny Deol 2\n",
            "Varsha Suresh 2\n",
            "Shaila Chikale 7\n",
            "C. Saritha 2\n",
            "Backing Vocals 2\n",
            "Minu Saikia 1\n",
            "Late Maniram Gayon 1\n",
            "Papiya Bagchi 1\n",
            "AMARJEET KAVI 2\n",
            "Dhanna Singh Rangila 4\n",
            "Parveen Babi 6\n",
            "Gajanan Watve 2\n",
            "Rajashree Thosar 16\n",
            "Naresh Kumar 9\n",
            "Rameswar Pathak 1\n",
            "pinakin shah 6\n",
            "Madhwar Pendharkar 1\n",
            "Wagya 1\n",
            "Pal Singh Pal 8\n",
            "Pasupuleti Kannamba 1\n",
            "apna sangeet 30\n",
            "Nalin Dave 6\n",
            "Shyam Chandanshive "
          ]
        },
        {
          "output_type": "stream",
          "name": "stderr",
          "text": [
            "  9%|▉         | 366/3940 [00:03<00:32, 109.21it/s]"
          ]
        },
        {
          "output_type": "stream",
          "name": "stdout",
          "text": [
            "1\n",
            "Nandita Bhanja 15\n",
            "Ghulam Farid Sabri 3\n",
            "Anaamika Group 3\n",
            "Inderjeet Rahi 1\n",
            "Yogesh Khadilkar 1\n",
            "Radharani Mishra 2\n",
            "Bhalchandra Pendarkar 6\n",
            "Kirti Kumar 4\n",
            "Kumudha Mani 1\n",
            "Richa Sharma 2\n",
            "Umeed Ali Khan 4\n",
            "Parvati Khan 17\n",
            "Sowmya 6\n",
            "Surjit Singh 19\n",
            "maqbool ahmed sabri 10\n",
            "Ramachandran 12\n",
            "Manvel Gayakwad 6\n",
            "Arifa Siddiqi 9\n",
            "S.S. Dhillon 10\n",
            "Kumar Dilu 1\n",
            "Anitha Chowdhary 1\n",
            "Paramjit Siddhu 10\n",
            "Purabi Mukherjee 1\n",
            "Jamil Uddin Aali 1\n"
          ]
        },
        {
          "output_type": "stream",
          "name": "stderr",
          "text": [
            " 10%|▉         | 390/3940 [00:03<00:33, 107.09it/s]"
          ]
        },
        {
          "output_type": "stream",
          "name": "stdout",
          "text": [
            "Shanta Apte 1\n",
            "Bhai Sant Singh 2\n",
            "Parama Mahanta 1\n",
            "Sanjivani 9\n",
            "Kiran Sharma 4\n",
            "Kavi Bhagwan Sahai Sen 1\n",
            "Krishna Shinde 68\n",
            "Shylaja 28\n",
            "Changani Krishna Vyas 1\n",
            "Prashant 5\n",
            "Bhai Gulbagh Singh 1\n",
            "Amol Palekar 2\n",
            "Ram Laxman 6\n",
            "P. Suri Babu 12\n",
            "Sudhama Ram 9\n",
            "Ajit Parab 4\n",
            "Narinder Biba 35\n",
            "A. Rama Devi 1\n",
            "SAILJA 1\n",
            "V. Sathya Rao 2\n",
            "Nandi Duggal 3\n",
            "N. Vasudevan 11\n",
            "Suraiya Bano 1\n",
            "H. S. Gill "
          ]
        },
        {
          "output_type": "stream",
          "name": "stderr",
          "text": [
            " 11%|█         | 414/3940 [00:03<00:31, 111.60it/s]"
          ]
        },
        {
          "output_type": "stream",
          "name": "stdout",
          "text": [
            "1\n",
            "Baby Preeti 2\n",
            "Sajid 13\n",
            "Ouseppachan 4\n",
            "Sumati Tikekar 2\n",
            "Ali Haider 12\n",
            "Aarti Dave 1\n",
            "Inderjeet Sharma 2\n",
            "Charanjit Chan 19\n",
            "Saayanarayana 2\n",
            "Samarat Benarji 1\n",
            "Nalini Mulgaonkar 2\n",
            "Swagatalakshmi Dasgupta 3\n",
            "Arja 1\n",
            "K. S. Kooner 12\n",
            "Khiya Ram 1\n",
            "Bharati Choudhury 1\n",
            "Meenakshi 10\n",
            "Kamal Bhamra 3\n",
            "S. P. B. Pallavi 1\n",
            "Manju Das 2\n",
            "Ustad Nathoo Khan 2\n",
            "Anuradha Bhat 3\n",
            "Jagyaseni 1\n",
            "Harsha 34\n"
          ]
        },
        {
          "output_type": "stream",
          "name": "stderr",
          "text": [
            " 11%|█         | 438/3940 [00:03<00:31, 109.64it/s]"
          ]
        },
        {
          "output_type": "stream",
          "name": "stdout",
          "text": [
            "Karur Nagaraj 2\n",
            "Mahananda Mazinder Baruah 3\n",
            "Shazia 1\n",
            "Aashiq Hussain Jutt 8\n",
            "M. Siva 1\n",
            "Kalyani Menon 5\n",
            "Asha Kale 1\n",
            "Shamshad Begum 61\n",
            "Prabhudev Sardar 5\n",
            "Kanubhai Rajguru 2\n",
            "Hussain Bakhash Khan 1\n",
            "Ajit Kaur 8\n",
            "Karaikurichi P Arunachalam 1\n",
            "Maheswar Barua 1\n",
            "T.S. Bhagavathi 1\n",
            "Deepak Parasher 4\n",
            "Pulak Banerjee 4\n",
            "Anupama Deshpande 52\n",
            "Yeshwanth Halibandi 1\n",
            "Karamjit Singh Dhuri 31\n",
            "A.V.Ramanan 4\n",
            "Archana Rajimwale 2\n",
            "Nazir Mohd 10\n",
            "Mohammad Tufail Niazi 1\n",
            "Shyamamani Devi 2\n",
            "Lalitha 12\n"
          ]
        },
        {
          "output_type": "stream",
          "name": "stderr",
          "text": [
            " 12%|█▏        | 462/3940 [00:04<00:32, 108.59it/s]"
          ]
        },
        {
          "output_type": "stream",
          "name": "stdout",
          "text": [
            "Pintoo Bhattacharya 2\n",
            "Anil Dutta 1\n",
            "Janardan Rawal 2\n",
            "Shiv Mastana 19\n",
            "Bhai Charanjit Singh Ragi 3\n",
            "T M S Selvakumar 132\n",
            "Ajmer Singh 19\n",
            "Glory 1\n",
            "Basabi Ghatak 1\n",
            "Pauravi Desai 5\n",
            "Shabbir Kuar 1\n",
            "Nagore E. M. Hanifa 3\n",
            "Suman Kalyanpur 301\n",
            "Sonali Vajpayee 3\n",
            "Euphoria 2\n",
            "Kunal Singh 1\n",
            "Aanchal 1\n",
            "Ravi Shankar Sharma 9\n",
            "Kumar Sonik 4\n",
            "K.M. Kusuma 2\n",
            "Minoo Chadha 2\n",
            "Master Maharajan 2\n",
            "Sibaprashad Nath 1\n"
          ]
        },
        {
          "output_type": "stream",
          "name": "stderr",
          "text": [
            " 12%|█▏        | 485/3940 [00:04<00:31, 108.74it/s]"
          ]
        },
        {
          "output_type": "stream",
          "name": "stdout",
          "text": [
            "Manju 116\n",
            "Asrani 10\n",
            "Victor Martin 1\n",
            "Sister Sarah Navaroji 7\n",
            "Shobha Raju 4\n",
            "Santu Mukherjee 1\n",
            "Rupa 1\n",
            "Ravinder Kumar 'Ravi' 8\n",
            "Anu Malik 14\n",
            "Rajeshwari Sachdev 7\n",
            "Jackie Shroff 8\n",
            "Lavani Samragyi 8\n",
            "N A 1\n",
            "Shaheen Ansari 3\n",
            "Ila Desai 2\n",
            "Ramesh Nakhwa 14\n",
            "Shiv Kumar 9\n",
            "Srini 33\n",
            "Naveen 1\n",
            "Kudrat 3\n",
            "Swaroop Naik 1\n",
            "Assam mixed chorus from Kohima 1\n",
            "Zahida Khan 20\n"
          ]
        },
        {
          "output_type": "stream",
          "name": "stderr",
          "text": [
            " 13%|█▎        | 508/3940 [00:04<00:31, 108.53it/s]"
          ]
        },
        {
          "output_type": "stream",
          "name": "stdout",
          "text": [
            "Rohini Sastry 1\n",
            "Derik 1\n",
            "Balwinder Singh Bhatti 4\n",
            "Manjeet Sibiya 7\n",
            "M.S. Rajeswari 12\n",
            "Rubina Badar 3\n",
            "Rameshwar Pathak 48\n",
            "Supriya 1\n",
            "Arbor Hills 7\n",
            "Lal Chand Yamla Jatt 11\n",
            "Miriam Stockley 2\n",
            "Kewal Jalal 3\n",
            "D. Sathyaprakash 1\n",
            "Moushumi Chatterjee 2\n",
            "Vithal Shindhe 1\n",
            "Deepan Chakarvarthy 3\n",
            "Reshama 1\n",
            "Ranbir Singh Rana 6\n",
            "Kavi Dad 2\n",
            "Sunil Dev 1\n",
            "Devaki Pandit 17\n",
            "Meena Kapoor 4\n",
            "Karan Singh Makroliya 2\n"
          ]
        },
        {
          "output_type": "stream",
          "name": "stderr",
          "text": [
            " 13%|█▎        | 530/3940 [00:04<00:32, 103.99it/s]"
          ]
        },
        {
          "output_type": "stream",
          "name": "stdout",
          "text": [
            "Sasmita 6\n",
            "Manzoor Husain 1\n",
            "M.S. Naseem 7\n",
            "Mani Krishnaswami 1\n",
            "Male Assam soloist 5\n",
            "BABY PREETY 1\n",
            "Dharmapuram P Swaminathan 7\n",
            "Zohra Bai Ambala Wali 1\n",
            "Minni Ketkiwali 1\n",
            "Annette Pinto 4\n",
            "Ridib Dutta 1\n",
            "Suman Hemady 1\n",
            "Vijay Yesudas 1\n",
            "Nanditha 3\n",
            "S.N. Shobha 2\n",
            "Hamsalekha 30\n",
            "K. Sulochana 3\n",
            "Shiv-Hari 4\n",
            "Nahid Akhar 1\n",
            "Khursheed Bano 10\n",
            "Narayaqn Bodas 1\n"
          ]
        },
        {
          "output_type": "stream",
          "name": "stderr",
          "text": [
            " 14%|█▍        | 552/3940 [00:05<00:32, 105.45it/s]"
          ]
        },
        {
          "output_type": "stream",
          "name": "stdout",
          "text": [
            "Hemlata 122\n",
            "Saraswati Devi Dhandra 3\n",
            "SULAKSHNA PANDIT 2\n",
            "Pramila Datar 6\n",
            "Debjani Barua 3\n",
            "Janaki Dutta 1\n",
            "T.R. Mahalingam 11\n",
            "Ramlakhan 1\n",
            "Vikas 6\n",
            "Lakshmi Bordoloi 6\n",
            "Nagen Barman 20\n",
            "Mehboob Pervaiz 2\n",
            "S. Mulgaonkar 1\n",
            "Samina Zahid 2\n",
            "Balwinder Kumar 10\n",
            "Bharti Vaishampayan 1\n",
            "Shakuntala 68\n",
            "M Ramesh 2\n",
            "Babu 75\n",
            "Aziz Nazan Qawwal 12\n",
            "A.R. Sheik Mohammed 12\n",
            "Sonu Kakkar 2\n",
            "Aziz Ahmed Warsi 9\n",
            "V. Latha Lakshmi 2\n"
          ]
        },
        {
          "output_type": "stream",
          "name": "stderr",
          "text": [
            " 15%|█▍        | 575/3940 [00:05<00:31, 106.72it/s]"
          ]
        },
        {
          "output_type": "stream",
          "name": "stdout",
          "text": [
            "uuml 1\n",
            "Preet Sagar 1\n",
            "Gori Munni 1\n",
            "Anju Devi 10\n",
            "Om Prakash Yadav 2\n",
            "Vandemataram Srinivas 3\n",
            "Jaspinder Narula 53\n",
            "Rajan Bhosle 2\n",
            "Shahir Chu Bharadkar 2\n",
            "Atif Aslam 4\n",
            "JAYASHREE 12\n",
            "Abhishek Bachchan 8\n",
            "Kavignar Kannadhasan 1\n",
            "Shamim Chopra 1\n",
            "Tiruchi Loganathan 17\n",
            "Shubha 30\n",
            "Chaya 70\n",
            "V. V. Swamy 2\n",
            "Bhagwan Singh Deepak 1\n",
            "C.L.T. 1\n",
            "Karim Shahab ud Din 11\n",
            "Usha Kiran 16\n",
            "Krishnamurthy 198\n",
            "Ramchandra Navgaonkar 10\n"
          ]
        },
        {
          "output_type": "stream",
          "name": "stderr",
          "text": [
            " 15%|█▌        | 599/3940 [00:05<00:30, 111.02it/s]"
          ]
        },
        {
          "output_type": "stream",
          "name": "stdout",
          "text": [
            "Lakshmi Bai 1\n",
            "Bachu Khan 1\n",
            "Dharam Singh 6\n",
            "Manorama 25\n",
            "Chittaranjan Jena 19\n",
            "Lubna Nadeem 8\n",
            "Sudhir Bhattacharya 1\n",
            "Veljibhai Gajjar 24\n",
            "Khan Mohd 2\n",
            "Binapani Nayak 2\n",
            "Rajab Ali 13\n",
            "Behroze Chatterjee 7\n",
            "Fritz Manuel 2\n",
            "Shabana Azmi 4\n",
            "Sharmila Datar 4\n",
            "Jarnail Dosanjh 11\n",
            "Kunda Bokil 1\n",
            "Chandalya 1\n",
            "Mukri 6\n",
            "Dwijen Mukherjee 5\n",
            "Maya Jadhav 6\n",
            "Jogila Siddaraju 2\n"
          ]
        },
        {
          "output_type": "stream",
          "name": "stderr",
          "text": [
            " 16%|█▌        | 622/3940 [00:05<00:30, 109.57it/s]"
          ]
        },
        {
          "output_type": "stream",
          "name": "stdout",
          "text": [
            "Surekha Kothari 7\n",
            "Ali Azmat 4\n",
            "Vydehi Komala 1\n",
            "Amzad Khan 2\n",
            "Laxmi Nayampalli 1\n",
            "Yusuf Qawwal 4\n",
            "Subhasish 1\n",
            "Daljeet Kaur 4\n",
            "Purnachandra Rao 1\n",
            "Chitra Sen 2\n",
            "Monima Saikia 2\n",
            "Tejkaran 8\n",
            "Bhavesh Mehta 3\n",
            "Jyotsna Hardikar 15\n",
            "Vadhirajar 1\n",
            "Dr.Tarak Prashan Tripathi 1\n",
            "Shahir Piraji Sarnaik 2\n",
            "Dr. Rajkumar 175\n",
            "P. Muruga Doss 3\n",
            "Pravin Shinde 2\n",
            "Mangesh Padgaonkar 5\n",
            "Rajan Angrish 4\n",
            "Akshya Mohanty 6\n",
            "A. V. Subbarao 1\n",
            "Mumtaz Shirazi 4\n"
          ]
        },
        {
          "output_type": "stream",
          "name": "stderr",
          "text": [
            " 16%|█▋        | 646/3940 [00:05<00:29, 110.53it/s]"
          ]
        },
        {
          "output_type": "stream",
          "name": "stdout",
          "text": [
            "Satyavathi 1\n",
            "Nami Gaen 1\n",
            "Chatulal Bachhfore 1\n",
            "Shaik 16\n",
            "Parbhakar Karekar 3\n",
            "Harnam Singh 4\n",
            "Shatrughan Sinha 14\n",
            "K J Yesudas 800\n",
            "Bimla Rani 2\n",
            "K.M. Raju 1\n",
            "Tippu 2\n",
            "Md.siddique 3\n",
            "Raghu Sahoo 8\n",
            "Amarjeet Mama 2\n",
            "mushir 6\n",
            "Muniba Shaikh 14\n",
            "Asif Ali 1\n",
            "Chandidas Chakraborty 1\n",
            "Abdur Usuf Qawwal 1\n",
            "Sajjad Ali 22\n",
            "Akash Group 8\n",
            "Farid Ayaz Qawwal 1\n",
            "Susama Mishra 1"
          ]
        },
        {
          "output_type": "stream",
          "name": "stderr",
          "text": [
            " 17%|█▋        | 671/3940 [00:06<00:28, 112.78it/s]"
          ]
        },
        {
          "output_type": "stream",
          "name": "stdout",
          "text": [
            "\n",
            "Rani Varma 21\n",
            "Kumari Laj 6\n",
            "Kashiben Gohil 2\n",
            "Archana Mohanty 1\n",
            "Jaswin Jassi 2\n",
            "Johan Bejerholm 2\n",
            "V.R. Athavale 2\n",
            "Satyajit Ray 2\n",
            "Nimesh Desai 1\n",
            "SUDHIR KUMAR 1\n",
            "PRADEEP VAIDYA 1\n",
            "B.Chennakeshava 1\n",
            "Dhiren Vyas 9\n",
            "Banarsi Lal Jhori 3\n",
            "Rekha Jha 1\n",
            "Damodar Vitawkar 1\n",
            "Debasish Mohapatra 2\n",
            "Ramakoti 1\n",
            "Sadhana Sargam 63\n",
            "Nabila Jafar 1\n",
            "Ramamani 1\n",
            "Shanikumar 36\n",
            "Sushma Joshi "
          ]
        },
        {
          "output_type": "stream",
          "name": "stderr",
          "text": [
            " 18%|█▊        | 695/3940 [00:06<00:29, 109.65it/s]"
          ]
        },
        {
          "output_type": "stream",
          "name": "stdout",
          "text": [
            "1\n",
            "Bhai Harchand Singh Ragi 8\n",
            "Smt Pramila Kumari 1\n",
            "Sapna Awasthi 12\n",
            "Mohinder Kapoor 6\n",
            "Kirpal Bawa 4\n",
            "Babu Singh Maan 7\n",
            "K. L. Chand 8\n",
            "Saddiq Ismail 16\n",
            "Jaya Prada 14\n",
            "T. R. Mahalingam 2\n",
            "Ravindra 127\n",
            "P Suhseela 275\n",
            "Leela 177\n",
            "Radha Vishwanathan 12\n",
            "Kamlesh Avasthi 5\n",
            "Ajay Warrior 2\n",
            "Harbhajan Mann 10\n",
            "Radhakanta Nanda 1\n",
            "Usha Uthup 29\n",
            "Baby Viraj 1\n",
            "Rantika Tiwari 1\n",
            "Justin Prabhakaran 2\n",
            "Sarat Sharma 1\n"
          ]
        },
        {
          "output_type": "stream",
          "name": "stderr",
          "text": [
            " 18%|█▊        | 718/3940 [00:06<00:29, 110.94it/s]"
          ]
        },
        {
          "output_type": "stream",
          "name": "stdout",
          "text": [
            "Sipra Basu 1\n",
            "Rajani Mehta 19\n",
            "Ajaib Singh Rai 3\n",
            "Indira Pratihari 1\n",
            "S.s.lohar 4\n",
            "Munnawar 7\n",
            "Balakrishnan 12\n",
            "Chelshankar Dave 1\n",
            "Prema Narayan 2\n",
            "Master Manjunath 2\n",
            "Dr Sirkazhi G. Sivachidambaram 8\n",
            "Vidya Balika 4\n",
            "Sarsthi Mathur 2\n",
            "M. L. Vasanthakumari 1\n",
            "Sheik Mohammed 13\n",
            "Sumitra Lehri 1\n",
            "Prashant Damle 3\n",
            "Yehudi Menuhin 1\n",
            "MINAKSHI SHESHADRI 2\n",
            "Balappa Hukkeri 2\n",
            "Baban Manjrekar 1\n",
            "Ambar Kumar 11\n",
            "Kokila Goswami 4\n",
            "Devendra Dev 3\n"
          ]
        },
        {
          "output_type": "stream",
          "name": "stderr",
          "text": [
            " 19%|█▉        | 742/3940 [00:06<00:28, 111.25it/s]"
          ]
        },
        {
          "output_type": "stream",
          "name": "stdout",
          "text": [
            "Akkineni Nageswara Rao 8\n",
            "Kohinoor Langa 1\n",
            "Mohan Singh 13\n",
            "Rajanala 3\n",
            "Swamis And Brahma Charins Of The Ramakri 1\n",
            "Rajkumari 11\n",
            "Usha Kaur 6\n",
            "Ramesh Deo 2\n",
            "Bangalore A. R. Ramani Ammal 1\n",
            "Srirangam Gopalarathnam 1\n",
            "B Vasanta 10\n",
            "K. Jamunarani 2\n",
            "Shahnaj Begum 1\n",
            "C. S. Jayaraman 5\n",
            "Anjali 52\n",
            "Kavita Krishnamurthy 191\n",
            "Usha Rege 12\n",
            "Naba Mahattam 8\n",
            "Mohan Kannan 1\n",
            "Vyjayanthimala 2\n",
            "P.B. Sreenivas 937\n",
            "Sunanda 9\n",
            "R. Jayanthy 1\n"
          ]
        },
        {
          "output_type": "stream",
          "name": "stderr",
          "text": [
            " 19%|█▉        | 766/3940 [00:06<00:28, 112.43it/s]"
          ]
        },
        {
          "output_type": "stream",
          "name": "stdout",
          "text": [
            "Bechu Dutta 2\n",
            "Subas Dash 11\n",
            "Anjali Sharma 1\n",
            "Shashi Gautam 2\n",
            "Meena Joshi 1\n",
            "Yashwant Thakur 5\n",
            "Ira Mohanty 3\n",
            "Vibha Desai 6\n",
            "M.L.Vasanthakumari 3\n",
            "Anand Bakshi 8\n",
            "P. B. Sreenivas 1\n",
            "K. Balaji 2\n",
            "Keshav Badge 2\n",
            "Sulakshana Pandit 45\n",
            "Ahmed Rushdi 8\n",
            "Ajoy Chakrwarti 9\n",
            "Kalyan Sahai Sharma 3\n",
            "C. K. Rama 1\n",
            "Kamaal Khan 2\n",
            "Geeta Patnaik 11\n",
            "Srikanto Acharya 1\n",
            "Basu 9\n",
            "Kalyani Deshmukh 2\n",
            "Ulrich Bremsteller 1\n"
          ]
        },
        {
          "output_type": "stream",
          "name": "stderr",
          "text": [
            " 20%|██        | 790/3940 [00:07<00:28, 111.18it/s]"
          ]
        },
        {
          "output_type": "stream",
          "name": "stdout",
          "text": [
            "Junaid Akhtar 2\n",
            "Anita Goswami 2\n",
            "Wilhelm Kempff 1\n",
            "Shanti Purohit 1\n",
            "Krishna Hangal 1\n",
            "Andankovil Selvarathinam 4\n",
            "Pushpa Rani 7\n",
            "Temi Enty 1\n",
            "Joan Mascarebhas 1\n",
            "Sadhana Bhaduri 2\n",
            "Rajesh 67\n",
            "Ramdas Patil 2\n",
            "Bhalchandra Pendharkar 8\n",
            "Abhyankar 1\n",
            "K. Veeramani 20\n",
            "MADHULIKA 2\n",
            "K. Jaiswal 2\n",
            "Kokila Joshi 3\n",
            "Pyara Singh Panchhi 9\n",
            "Nighat Akbar 8\n",
            "Angnes Davidson 3\n",
            "Jayanthi 2\n",
            "Krishna Kale 1\n"
          ]
        },
        {
          "output_type": "stream",
          "name": "stderr",
          "text": [
            " 21%|██        | 814/3940 [00:07<00:28, 111.26it/s]"
          ]
        },
        {
          "output_type": "stream",
          "name": "stdout",
          "text": [
            "Shruti Sadolikar 6\n",
            "Avinash Hande 5\n",
            "Bogam 1\n",
            "Meena Sharma 4\n",
            "Dari Ram Lakhia 2\n",
            "Kashiram Chinchay 9\n",
            "Ustad Bundo Khan 5\n",
            "Kumud Kulkarni 1\n",
            "Smt. Siddheshwari Devi 1\n",
            "Prof. Darshan Singh Khalsa 9\n",
            "Kaoushik 2\n",
            "Rekha Rao 2\n",
            "Jaya Vijaya 3\n",
            "Joytsna Mohile 1\n",
            "Bhanu Bandopadhyay 2\n",
            "Ustad Qudratullah Khan 4\n",
            "KASHI BULLU YADAV 4\n",
            "Sharda Vyas 2\n",
            "Vanisri 3\n",
            "Latha Rani 2\n",
            "Supported By Talents 80'S 1\n",
            "Rambhai Kag 1\n",
            "Mohan Mastana 11\n",
            "Peenaz Masani 6\n"
          ]
        },
        {
          "output_type": "stream",
          "name": "stderr",
          "text": [
            " 21%|██▏       | 838/3940 [00:07<00:27, 111.34it/s]"
          ]
        },
        {
          "output_type": "stream",
          "name": "stdout",
          "text": [
            "Poonam Dhillon 2\n",
            "Anuradha Prakash 2\n",
            "Parshuram Patil 10\n",
            "Prof. Gurbachan Singh Talib 1\n",
            "Paras Nath 4\n",
            "T Rajendar 2\n",
            "Pithapuram Nageswara Rao 72\n",
            "Viraj Upadhyaya 1\n",
            "Naimul Hassan 1\n",
            "Shaan 22\n",
            "Manmohan Mohni 3\n",
            "Savith 1\n",
            "Lathika 7\n",
            "Devashish Mahapatra 1\n",
            "S.V. Ponnusamy 3\n",
            "Vidya 12\n",
            "Salim 11\n",
            "Radha Dhareshwar 7\n",
            "Rajani Joshi 2\n",
            "Jhansi 2\n",
            "Shobha Purohit 11\n",
            "Maj. Birman 1\n",
            "Chandna Dixit 14\n"
          ]
        },
        {
          "output_type": "stream",
          "name": "stderr",
          "text": [
            " 22%|██▏       | 862/3940 [00:07<00:28, 107.50it/s]"
          ]
        },
        {
          "output_type": "stream",
          "name": "stdout",
          "text": [
            "Asif Javed 12\n",
            "Digen Mohanta 2\n",
            "Lakshman Kapaade 1\n",
            "Jatin Pandit 2\n",
            "Renu Chaudhary 2\n",
            "Ustad Hamid Ali Khan 19\n",
            "Ashok Panchal 1\n",
            "Mohammad Sazid 4\n",
            "Manjari Barua 1\n",
            "A.K. Vyas 9\n",
            "Ravichandran 1\n",
            "Dr. Seerkazhi S. Govindarajan 1\n",
            "V Rama Krishna 3\n",
            "Digen Mahanta 2\n",
            "Parkash Jhalli 5\n",
            "Vairamuthu 5\n",
            "Alisha Chinai 48\n",
            "Sadat Khan 2\n",
            "Unknown 40\n",
            "Zach 2\n",
            "Kamu Mukherjee 1\n",
            "Suja Radhakrishnan 1\n",
            "Ganesh Sundaram 1\n"
          ]
        },
        {
          "output_type": "stream",
          "name": "stderr",
          "text": [
            " 22%|██▏       | 885/3940 [00:08<00:27, 110.78it/s]"
          ]
        },
        {
          "output_type": "stream",
          "name": "stdout",
          "text": [
            "T. Meena 1\n",
            "Kanu Devidan Baroth 1\n",
            "Mina Mohanty 1\n",
            "Vijetha Parvathikar 1\n",
            "Ustad Umrao Bundu khan 9\n",
            "D S  Ruben 2\n",
            "Bhikari Bal 31\n",
            "Gurpreet Kaur 6\n",
            "Bibha Barua 4\n",
            "M L Vasanthakumari 3\n",
            "Shrikant Kulkarni 6\n",
            "Kazi Arindam 6\n",
            "REQ. 3\n",
            "Mohan Sanwaria 2\n",
            "S.C. Krishnan 6\n",
            "Suresh Bhosle 1\n",
            "Pamela Jain 6\n",
            "Geeta Dutt 75\n",
            "Malini Rajurkar 2\n",
            "Malti Gujar 3\n",
            "RAM MURAT 1\n",
            "Laxmikant  - Pyarelal 2\n",
            "Shakuntala Jadhav 9\n",
            "Bhupendra 5\n",
            "Arnab Chakraborty 2\n"
          ]
        },
        {
          "output_type": "stream",
          "name": "stderr",
          "text": [
            " 23%|██▎       | 909/3940 [00:08<00:27, 110.07it/s]"
          ]
        },
        {
          "output_type": "stream",
          "name": "stdout",
          "text": [
            "Debashish Dasgupta 4\n",
            "Roop Kumar Rathod 2\n",
            "Lipika Nanda 1\n",
            "Ataullah Khan 1\n",
            "T.K.S.Natarajan 4\n",
            "Satpal 4\n",
            "Normon Richardazz 1\n",
            "Dilshad Akhtar 24\n",
            "Sabitha Chaudhary 1\n",
            "Pratap Singh Bodade 3\n",
            "Archana Udupa 5\n",
            "Renuka Barua 1\n",
            "Kankana Banerjee 1\n",
            "Pawar Sobat 9\n",
            "Major Sunderarajan 1\n",
            "Suresh Haldankar 2\n",
            "Tape Radha Manickam 1\n",
            "Bhupinder Singh 157\n",
            "Jaishankar 1\n",
            "Shakti Kumar 2\n",
            "Padmavathi 2\n",
            "Lakhbir Singh Lakkha 11\n",
            "Dr.Seerkazhi S.Govindarajan 1\n",
            "Mano 183\n"
          ]
        },
        {
          "output_type": "stream",
          "name": "stderr",
          "text": [
            " 24%|██▎       | 933/3940 [00:08<00:26, 111.81it/s]"
          ]
        },
        {
          "output_type": "stream",
          "name": "stdout",
          "text": [
            "Mahinder Kapoor 1\n",
            "Raj Sitaram 8\n",
            "Shankar Patil 13\n",
            "Chandrani Mukherjee 68\n",
            "Vivekananda Roy 1\n",
            "radha jaya lakshmi 22\n",
            "Saira Banu 6\n",
            "Sivananda Vijayalakshmi 1\n",
            "Geeta Chhabra 9\n",
            "Vani Jairam 689\n",
            "Valangaiman Shanmugasundaram 4\n",
            "Sudarshan 8\n",
            "Roshan-e-Zafar 1\n",
            "A.Nayyar 14\n",
            "Salman Arshad 1\n",
            "Pushpa Hans 5\n",
            "Saluri Ramalingeswara Rao 10\n",
            "Pranab Patnaik 5\n",
            "Sabita Devi 1\n",
            "Jaiwant Kulkarni 2\n",
            "S Reuben 1\n",
            "Omi Verma 1\n",
            "Naseeb Singh 1\n",
            "Arun 121\n"
          ]
        },
        {
          "output_type": "stream",
          "name": "stderr",
          "text": [
            " 24%|██▍       | 957/3940 [00:08<00:26, 112.16it/s]"
          ]
        },
        {
          "output_type": "stream",
          "name": "stdout",
          "text": [
            "Pt. Bhargavram Achrekar 1\n",
            "Sabri Brothers 66\n",
            "Kanu Devidan Barot 19\n",
            "Harjit Gill 3\n",
            "Debabrata Biswas 36\n",
            "Achyut Thakur 2\n",
            "Ramdas Padhye 8\n",
            "Milind Shinde 33\n",
            "Anitha Suresh 1\n",
            "Baljeet Kaur Bali 3\n",
            "Jagjit Singh 255\n",
            "Khursheed Ahmed 31\n",
            "Padmaja Phenani 2\n",
            "Venugopal 2\n",
            "Maheshwar 7\n",
            "Devi Das 1\n",
            "Suryakant Shinde 5\n",
            "Amarapu Satyanarayana 4\n",
            "Niamat Ali 2\n",
            "Gikk Garewal 10\n",
            "Sudesh Bhonsle 52\n",
            "Utpal Dutt 2\n",
            "Lalitaben Trivedi 1\n",
            "Madhvi Podharkar 1\n"
          ]
        },
        {
          "output_type": "stream",
          "name": "stderr",
          "text": [
            " 25%|██▍       | 981/3940 [00:08<00:26, 111.09it/s]"
          ]
        },
        {
          "output_type": "stream",
          "name": "stdout",
          "text": [
            "Bhaktha Swaraa Bhajan Mandali 8\n",
            "Ghanshyam Vaswani 6\n",
            "Dushant Jogish 2\n",
            "Not Found 3\n",
            "Usha Verma 19\n",
            "Muhammad Afzal Khan 4\n",
            "B.S.Sasirekha 7\n",
            "Dathana Pandian 1\n",
            "S. Rajeswara Rao 11\n",
            "Parijat 2\n",
            "Razia Begum 7\n",
            "Kaumudi Munshi 22\n",
            "Parampreet Kaur 4\n",
            "Nilima Khatoon 1\n",
            "Rmeswar Pathak 1\n",
            "J. P. Chandrababu 12\n",
            "Padma Shirke 9\n",
            "Muhammad Ifrahim 2\n",
            "Ashiq Ali Khan 4\n",
            "Bro D.G.S. Dhinakaran 10\n",
            "Master Alauddin 11\n",
            "Gurucharan 1\n",
            "Muralidhar 12\n",
            "Vinay Kamalkishore 2\n",
            "Raj Kumar Rizvi 6\n"
          ]
        },
        {
          "output_type": "stream",
          "name": "stderr",
          "text": [
            " 26%|██▌       | 1005/3940 [00:09<00:26, 110.52it/s]"
          ]
        },
        {
          "output_type": "stream",
          "name": "stdout",
          "text": [
            "Harwinder Biba 2\n",
            "Jayshree Shejwadkar 2\n",
            "Sarabji Jagtar Singh 19\n",
            "Anette 8\n",
            "Daphne Lionel 3\n",
            "Parvathi Ramanathan 2\n",
            "Nagore Babu 1\n",
            "Veerinder Katiaal 1\n",
            "Bhai Harjinder Singh Ji 6\n",
            "Salma 70\n",
            "Radhakrushna Bhanja 1\n",
            "Akashvani Vadya Vrinda 1\n",
            "Saraswati Devi 8\n",
            "Rachipal Singh Pal 1\n",
            "Sunidhi Chauhan 29\n",
            "Sarfaraz Agha 1\n",
            "Vijayendra 4\n",
            "Yasmin Faizabadi 8\n",
            "Anupam Kher 10\n",
            "Aparna Raderkar 3\n",
            "Nagore E.M. Hanifa 7\n",
            "Bhai Mahinder Pal Singh 1\n",
            "Sarang Jasraj 1\n",
            "Nandamuri Raja 1\n",
            "Ustad Fateh Ali Khan 37\n"
          ]
        },
        {
          "output_type": "stream",
          "name": "stderr",
          "text": [
            " 26%|██▌       | 1029/3940 [00:09<00:26, 110.85it/s]"
          ]
        },
        {
          "output_type": "stream",
          "name": "stdout",
          "text": [
            "Vaijyanti Limye 1\n",
            "Habib Wali Muhammad 24\n",
            "S. Rajalakshmi 1\n",
            "Bhai Davinder Singh Sodhi (Ludhiana Wale) 2\n",
            "Sushma Devi 4\n",
            "Kumar 3270\n",
            "Jaychandran 1\n",
            "Kausar Parveen 1\n",
            "Haricharan 1\n",
            "Keshar Jainu 10\n",
            "Sayeeda Begum 4\n",
            "Utra Kelkarsaathi 2\n",
            "Wilson 1\n",
            "Kartar Sing Ramla 1\n",
            "Jai Shree Shiv Ram 1\n",
            "Rajesh Roshan 6\n",
            "Antara Chowdhury 2\n",
            "Kalyanam 18\n",
            "Gulshan Bawa 1\n",
            "Anima Bhattacharya 3\n",
            "Dr. Vasantrao Deshpande 46\n",
            "Clinton Cerejo 2\n",
            "Kamal Hanspal 5\n",
            "Banikantha Nimai Charan Harichandan 6\n"
          ]
        },
        {
          "output_type": "stream",
          "name": "stderr",
          "text": [
            " 27%|██▋       | 1053/3940 [00:09<00:25, 112.84it/s]"
          ]
        },
        {
          "output_type": "stream",
          "name": "stdout",
          "text": [
            "Gurcharan Pohli 9\n",
            "Anil Khobragade 3\n",
            "Roshan Lal Sagar 2\n",
            "Renu Barua 3\n",
            "Robin Mukherjee 1\n",
            "Maharajan 15\n",
            "Munawar Ali Khan 10\n",
            "Ain't No Love 1\n",
            "Jayalakshmi 11\n",
            "Salman Ashraf 1\n",
            "Dr.Kamlesh Avastathi 2\n",
            "Vijay Redkar 6\n",
            "Madan Mohan 4\n",
            "Asha Bhosle 2715\n",
            "Tharai A. Ganesan 2\n",
            "Vasudev 284\n",
            "S.Kamala Devi 1\n",
            "Seema Trivedi 7\n",
            "G. Devarajan 2\n",
            "Gopala Rao 2\n",
            "K. P. Udayabhanu 2\n",
            "Ustad Asad Ali Khan 9\n",
            "Radharaman Kirtane 31\n",
            "Shiv Kumar Naker 2\n",
            "Soham Mukherji 2\n"
          ]
        },
        {
          "output_type": "stream",
          "name": "stderr",
          "text": [
            " 27%|██▋       | 1077/3940 [00:09<00:26, 109.47it/s]"
          ]
        },
        {
          "output_type": "stream",
          "name": "stdout",
          "text": [
            "Dr. Harphool 1\n",
            "M.L. Vasanthakumari 17\n",
            "M.P.N. Sethuraman 3\n",
            "Prakash Ghangrekar 6\n",
            "Sanjay Ojha 1\n",
            "The English Concert 1\n",
            "Basanta Das 1\n",
            "Nibha Deka 4\n",
            "N.Surya Prakash 1\n",
            "Akhlaq Ahmed 12\n",
            "Zubeen Garg 4\n",
            "H. M. V. Orchestra 1\n",
            "V. K. Ramasamy 1\n",
            "Bangshidhar Das 4\n",
            "Geetha 6\n",
            "Runumi Bhattacharya 2\n",
            "Muzaffar  Warsi 10\n",
            "K B Sundarambal 5\n",
            "Meena Mangeshkar 4\n",
            "Sathi 51\n",
            "Chaman Lal Chaman 2\n",
            "Pandit Shiv Kumar Sharma 6\n",
            "Bhai Sadhu Singh Ragi 4\n"
          ]
        },
        {
          "output_type": "stream",
          "name": "stderr",
          "text": [
            " 28%|██▊       | 1101/3940 [00:10<00:25, 111.66it/s]"
          ]
        },
        {
          "output_type": "stream",
          "name": "stdout",
          "text": [
            "A. Koteswara Rao 1\n",
            "Nirmal Singh Nirmal 1\n",
            "Nagash 1\n",
            "K.Swarna 4\n",
            "Ali Abbas 11\n",
            "Ashoke 1\n",
            "Nithya Shree 1\n",
            "Deepak Kumar Chatterjee 1\n",
            "Vidhya Shingre 2\n",
            "Ku.Sanjana 1\n",
            "Naseem Banu 1\n",
            "Akshaya Mohanty 66\n",
            "Bajirao 1\n",
            "Baby Bijal 1\n",
            "Pazhani M.Sikkander 1\n",
            "K. P. Brahmanandan 1\n",
            "Kaluram Prajapati 20\n",
            "S. H. Subramanyam 1\n",
            "S.D. Batish 2\n",
            "Amjad Bobby 1\n",
            "Sheela Vyas 2\n",
            "Naresh Kanodia 9\n",
            "Geeta Rani Das 5\n",
            "Ashit Desai 28\n",
            "V. Krishnamoorthy 1\n",
            "Govinda "
          ]
        },
        {
          "output_type": "stream",
          "name": "stderr",
          "text": [
            " 29%|██▊       | 1125/3940 [00:10<00:24, 112.64it/s]"
          ]
        },
        {
          "output_type": "stream",
          "name": "stdout",
          "text": [
            "152\n",
            "Jaswant Kulkarni 3\n",
            "Kanwal Sindhu 9\n",
            "Hrushi Meher 4\n",
            "Shoba Sekar 1\n",
            "Mano Raj 1\n",
            "Himanshu Bhatt 10\n",
            "Baidyanath Gayak Ratna Sharma 9\n",
            "Mehdi Hassan 173\n",
            "Ramji Das Nimahi 1\n",
            "Chittoor V. Nagaiah 11\n",
            "G.s.heera 1\n",
            "Vandana Shastri 4\n",
            "Leslie 19\n",
            "Usha Chinoy 1\n",
            "Pushpa Tirke 5\n",
            "Nivedan 8\n",
            "Meerabai 3\n",
            "Subasa Dash 1\n",
            "Ravibala 1\n",
            "Ahmed Faraz 1\n",
            "Vatsala Patil 2\n",
            "Kripananda Variyar 2\n",
            "Shanthi Solomon"
          ]
        },
        {
          "output_type": "stream",
          "name": "stderr",
          "text": [
            " 29%|██▉       | 1149/3940 [00:10<00:24, 111.65it/s]"
          ]
        },
        {
          "output_type": "stream",
          "name": "stdout",
          "text": [
            " 1\n",
            "chandra shekhar kalla 5\n",
            "Hazara Singh Ramta 14\n",
            "Prabhakar Nagvekar 2\n",
            "Amar Nooriee 2\n",
            "M. R. Thilakam 2\n",
            "Kumar Sonic 1\n",
            "Jaspal Singh 64\n",
            "Nitin Rajaram Shastri 1\n",
            "Reeta Pant 2\n",
            "Pramodini Desai 1\n",
            "Mahesh Gadhvi 2\n",
            "Montu Bhattacharya 1\n",
            "Faqir Singh Faqir 7\n",
            "Shridhar Phadke 1\n",
            "Prabhakar Samal 1\n",
            "Subhash Das 15\n",
            "M.verma 2\n",
            "Rama Aravind 1\n",
            "Archana Kanhere 3\n",
            "Prathima Athreya 11\n",
            "Dadubhai K. Gadhavi 7\n",
            "Triloki Verma 15\n",
            "Bhupesh Hussanlal 2\n"
          ]
        },
        {
          "output_type": "stream",
          "name": "stderr",
          "text": [
            " 30%|██▉       | 1173/3940 [00:10<00:24, 111.14it/s]"
          ]
        },
        {
          "output_type": "stream",
          "name": "stdout",
          "text": [
            "Roshan Satarkar 19\n",
            "Shailendra Singh 61\n",
            "Rakshitha S 2\n",
            "Nazneen Wahidi 2\n",
            "Naarindwr Bida 8\n",
            "Damodar Shirvale 1\n",
            "Sarifuddin Ahmed 2\n",
            "H. Dev 2\n",
            "Kumudini Pednekar 1\n",
            "Aparna Mayekar 31\n",
            "Anand Kaur Bohra 5\n",
            "Vishwanath Bhosle 3\n",
            "Manjari Desai 1\n",
            "Romen Barua 1\n",
            "Gopal Bohra 2\n",
            "Lakhabhai Gadhvi 1\n",
            "Mitali Choudhury 6\n",
            "Sons 1\n",
            "Lalita Davjaker 3\n",
            "Bhoopendra Singh 1\n",
            "A. P. Nagarajan 3\n",
            "S. Sarala 1\n",
            "Munshi Ram 1\n",
            "Sai Baba 1\n",
            "Sreeram 4\n"
          ]
        },
        {
          "output_type": "stream",
          "name": "stderr",
          "text": [
            " 30%|███       | 1197/3940 [00:10<00:25, 109.66it/s]"
          ]
        },
        {
          "output_type": "stream",
          "name": "stdout",
          "text": [
            "Neelam Chowhan 8\n",
            "Naseem Mirza 1\n",
            "J.V. Raghavulu 15\n",
            "Sailen Mukherjee 1\n",
            "K.S.L. Swamy 1\n",
            "Farida Khanum 59\n",
            "Anindita Das 2\n",
            "Javed Jaffrey 2\n",
            "Pt. Shivanand Patil 2\n",
            "Poorani 1\n",
            "G. Anand 43\n",
            "Suresh Oberoi 2\n",
            "Mohan Sunder Deb Goswami 1\n",
            "S P Balasubrahamanyam 4\n",
            "Meenu Chadha 8\n",
            "Biren Deka 2\n",
            "Deepak Adhikari 5\n",
            "Manna Dey 471\n",
            "G. Nageshwara Naidu 1\n",
            "Ustad Bismillah Khan 20\n",
            "Ilyas Hussain Khan Patyalewale 4\n",
            "Indira Chowdhury 1\n",
            "Shankarlal Mukherjee 1\n",
            "Dhanjibhai Patel 2\n"
          ]
        },
        {
          "output_type": "stream",
          "name": "stderr",
          "text": [
            " 31%|███       | 1221/3940 [00:11<00:24, 110.76it/s]"
          ]
        },
        {
          "output_type": "stream",
          "name": "stdout",
          "text": [
            "Valee 1\n",
            "Purshottam Thakar 2\n",
            "Mandhir Pandit 3\n",
            "Shamim Soma 12\n",
            "PARTI 2\n",
            "Smita Patil 3\n",
            "Amrish Puri 4\n",
            "balakrushna das 3\n",
            "Mahalakshmi Iyer 11\n",
            "Puspa Das 2\n",
            "Pervaiz Mehdi 8\n",
            "Mohammed Rafi 2133\n",
            "Rajee 24\n",
            "T. R. Narasimharaju 2\n",
            "Vijay(C. Joseph Vijay) 2\n",
            "Haji Fayyaz Qawwal 6\n",
            "Ramamoorthy 1\n",
            "Jolly 28\n",
            "Sudha Kanade 1\n",
            "Bhagwanbhai Jalu 1\n",
            "Salamat Ali 44\n",
            "Shahir Prabhakar Jamkhedkar 2\n",
            "Safdar Hussain Khan 5\n",
            "Mihir Bardaloi 2\n"
          ]
        },
        {
          "output_type": "stream",
          "name": "stderr",
          "text": [
            " 32%|███▏      | 1245/3940 [00:11<00:24, 109.50it/s]"
          ]
        },
        {
          "output_type": "stream",
          "name": "stdout",
          "text": [
            "J V Raghavulu 2\n",
            "Baby Farida 2\n",
            "D.A. Dhanapandian 2\n",
            "Mohammad Latif Kumhar 3\n",
            "S.P. SAILAJA GANGAI AMARAN 1\n",
            "Prakash Saathi 1\n",
            "Jayant Kulkarni 6\n",
            "Sagarika Barua 2\n",
            "Maryam Ramey 1\n",
            "Ustad Ghulam Hussain Shaggan 7\n",
            "Pearl Padamse 2\n",
            "Prabhakar Karekar 57\n",
            "Chakravarty Brothers 1\n",
            "Satinder Biba 2\n",
            "Anuradha Patel 2\n",
            "Anil Karkhanis 1\n",
            "Vibhakar 1\n",
            "Shailender Singh 89\n",
            "Mandhir 4\n",
            "M. R. Radha 3\n",
            "Ram Gopal'S Orchestra 1\n",
            "M. ASHOK 1\n",
            "Pramodini Sathe 1\n",
            "Bakul Pit 1\n"
          ]
        },
        {
          "output_type": "stream",
          "name": "stderr",
          "text": [
            " 32%|███▏      | 1268/3940 [00:11<00:24, 110.98it/s]"
          ]
        },
        {
          "output_type": "stream",
          "name": "stdout",
          "text": [
            "Nazakat Ali Khan 4\n",
            "Chhote Yusuf Qawwal 3\n",
            "K. R. Vijaya 11\n",
            "Meena Patki 4\n",
            "Kadri Gopalnath 11\n",
            "B. Bhaskar Reddy 1\n",
            "Archana Saxena 1\n",
            "Harshada Rawal 33\n",
            "Debasis Mahapatro 5\n",
            "Nagachandrika Bhat 1\n",
            "Meena Chakraborty 3\n",
            "Dominique Cerejo 1\n",
            "R. D. Burman 155\n",
            "Neelagaara 1\n",
            "Rajabhai Sondarva 1\n",
            "Hiremagalur Pradeep 1\n",
            "Sehgalsavitha Sathi 1\n",
            "James 4\n",
            "Shubhangi Joshi 4\n",
            "Guptha 1\n",
            "Swaran Lata 2\n",
            "Needamanglam G. Krishnamurthy Bhagavathar 1\n",
            "Kovela Santha 1\n",
            "Manik Varma 67\n"
          ]
        },
        {
          "output_type": "stream",
          "name": "stderr",
          "text": [
            " 33%|███▎      | 1292/3940 [00:11<00:23, 111.05it/s]"
          ]
        },
        {
          "output_type": "stream",
          "name": "stdout",
          "text": [
            "Shakti Thakur 1\n",
            "K. Muralidhar 5\n",
            "Madhulika Mathur 1\n",
            "Khagendranath Phukan 1\n",
            "Akbar Quawwal 6\n",
            "Female Voice 2\n",
            "K.V. Prasad 1\n",
            "Ranjana Thakur 1\n",
            "Anima Chowdhury 7\n",
            "Snehal Bhatkar 16\n",
            "Mamta Sahu 8\n",
            "Archana Mahanta 18\n",
            "Vidyarani 3\n",
            "Sunil Dutt 9\n",
            "Mitrabhanu Biswal 1\n",
            "Sarvjeet Sharma 8\n",
            "Anand 247\n",
            "Janni 9\n",
            "Anatte 1\n",
            "Bina Sharma 1\n",
            "Forum Desai 3\n",
            "Neelakshi Juvekar 10\n",
            "Prashant Nandgaonkar 1\n",
            "Master Dinanath Mangeshkar 23\n"
          ]
        },
        {
          "output_type": "stream",
          "name": "stderr",
          "text": [
            " 33%|███▎      | 1317/3940 [00:11<00:23, 111.04it/s]"
          ]
        },
        {
          "output_type": "stream",
          "name": "stdout",
          "text": [
            "Nirmal Kalita 2\n",
            "V.Rama Krishna 4\n",
            "Rajinder Singh Raj 3\n",
            "Arundhati Holme Chowdhury 11\n",
            "Keshto Mukherjee 6\n",
            "Piara Singh Jalalabadi 18\n",
            "Yashwant Deo 1\n",
            "Sikandar Alam 23\n",
            "Dr. N. Ramani 2\n",
            "Ranusingh Rajpurohit 2\n",
            "Kamalini Mukherji 1\n",
            "Sujata Mukherjee 1\n",
            "Rajat Nandy 2\n",
            "Nirmali Das 9\n",
            "Arghya Sen 1\n",
            "Archana 38\n",
            "Vandana Murthy 1\n",
            "Shivaprasad Bhajani Mandali 2\n",
            "Seema 58\n",
            "Jalli Mishra 1\n",
            "Leela Ghosh 8\n",
            "Poonam 3\n",
            "Diwaliben Bhil 52\n",
            "Chetan Gadhvi 1\n"
          ]
        },
        {
          "output_type": "stream",
          "name": "stderr",
          "text": [
            " 34%|███▍      | 1341/3940 [00:12<00:22, 113.22it/s]"
          ]
        },
        {
          "output_type": "stream",
          "name": "stdout",
          "text": [
            "Koundamani 1\n",
            "R.N. Jayagopal 2\n",
            "Sangeetha Jayathirtha Itagi 4\n",
            "Barnali Hazarika 2\n",
            "Mohd. Ali Shahiki 1\n",
            "Bihu Group 1\n",
            "Jagjeet Kaur 1\n",
            "Govind Mhashilkar 2\n",
            "Bhaal Singh 18\n",
            "Taki Ahammed Dildar 1\n",
            "Group Song 2\n",
            "Munna Singh 6\n",
            "Pandit Hariprasad Chaurasia 9\n",
            "R.P. Nag 1\n",
            "M. Raju 6\n",
            "Bela Sraver 1\n",
            "Female Assam soloist 1\n",
            "Ashwini 8\n",
            "Bibhuti Patnaik 1\n",
            "Vital Signs 11\n",
            "Sulochana Vyas 15\n",
            "N. S. Krishnan 4\n",
            "Raj Bhora 4\n",
            "Rakhee 10\n"
          ]
        },
        {
          "output_type": "stream",
          "name": "stderr",
          "text": [
            " 35%|███▍      | 1365/3940 [00:12<00:23, 111.19it/s]"
          ]
        },
        {
          "output_type": "stream",
          "name": "stdout",
          "text": [
            "Pitthukuli Murugadas 5\n",
            "Sulamangalam R Rajalakshmi 21\n",
            "Chandrabhaga Gaikwad 1\n",
            "Tarannum Naz 17\n",
            "Jahor Roy 1\n",
            "Manjula Gururaj 92\n",
            "Bhawana Lonkar 2\n",
            "Simmie 2\n",
            "Karl M 1\n",
            "C. Lalitha - C. Saroja 2\n",
            "Suryakamal 1\n",
            "N. Rama 9\n",
            "K.R. Vijaya 1\n",
            "Aprna 5\n",
            "Party 122\n",
            "Satish Babbar 13\n",
            "Malladi Chandrasekhara Sastry 2\n",
            "Noor Begum 2\n",
            "Aziz Naazan 16\n",
            "Muneeba Sheikh 12\n",
            "Sathan 1\n",
            "Sagar Sen 11\n",
            "Devkumar Ghayal 8\n",
            "Geeta Das 11\n"
          ]
        },
        {
          "output_type": "stream",
          "name": "stderr",
          "text": [
            " 35%|███▌      | 1389/3940 [00:12<00:22, 111.49it/s]"
          ]
        },
        {
          "output_type": "stream",
          "name": "stdout",
          "text": [
            "Dipmala 1\n",
            "Bharat Gandhi 13\n",
            "Sarala 9\n",
            "Mahant Jagdish Cher 1\n",
            "Prathibha Nandan 1\n",
            "Tansen 6\n",
            "Chittapriya Mukherjee 1\n",
            "Zubaida Khannum 2\n",
            "Mahathi 1\n",
            "S. Janki 2\n",
            "Dr. Kalyan 1\n",
            "Priya Jamkhedkar 3\n",
            "Karnataka Nataka Mandali 2\n",
            "G. Rajasekar 2\n",
            "Varsha Bhosle 9\n",
            "Sathyanarayana 2\n",
            "Daksha Vegda 1\n",
            "Various Artist 54\n",
            "Zerina Chauhan 4\n",
            "Namita Bhattacharya 34\n",
            "Gana Bala 1\n",
            "Sheela 20\n",
            "Ratikumar Vyas 2\n",
            "Shital 1\n"
          ]
        },
        {
          "output_type": "stream",
          "name": "stderr",
          "text": [
            " 36%|███▌      | 1412/3940 [00:12<00:23, 109.11it/s]"
          ]
        },
        {
          "output_type": "stream",
          "name": "stdout",
          "text": [
            "Hirabai Barodekar 18\n",
            "Poorna Sri 1\n",
            "Mohapatro Minati Bha 1\n",
            "Aruna Sharma 3\n",
            "Bikash Das 12\n",
            "Manjiri Kamat 2\n",
            "Mohammad Azam Chishti 6\n",
            "Vijayapriya 2\n",
            "K. Anand Mohan 7\n",
            "Ghanatasala 1110\n",
            "Bhai Samund Singh Ragi 9\n",
            "Dilip Dutt 6\n",
            "Bhai Dharam Singh Ragi 4\n",
            "Bharti Marathe 2\n",
            "Ratnaben 1\n",
            "Shubha Mudgal 7\n",
            "Deepak Chavan 2\n",
            "Allu. Ramalingaiah 1\n",
            "Parkash Balli 4\n",
            "Ashwini.T.N. 3\n",
            "Sibani Dutta 3\n",
            "Mitali Singh 5\n",
            "KISHORE DAYARAM 1\n",
            "Sarvjeet 29\n"
          ]
        },
        {
          "output_type": "stream",
          "name": "stderr",
          "text": [
            " 36%|███▋      | 1434/3940 [00:13<00:23, 108.81it/s]"
          ]
        },
        {
          "output_type": "stream",
          "name": "stdout",
          "text": [
            "Dilip Dholakiya 8\n",
            "pardesi music machine 2\n",
            "Ramesh Naidu 3\n",
            "Geeta Dash 1\n",
            "Venu 6\n",
            "Sushil Kumar 2\n",
            "Mangala Ravi 1\n",
            "Savita Suman 14\n",
            "Mallu 2\n",
            "Miss Lipi 1\n",
            "Vijay Benedict 40\n",
            "Surjeet Walia 8\n",
            "Padmanabam 1\n",
            "Munni Ketkiwali 1\n",
            "Narayan Bodas 3\n",
            "Mayavati Bodade 3\n",
            "Bheemrao Panchale 2\n",
            "M. P. N. Ponnuswamy 1\n",
            "Aamir Munawwar 3\n",
            "Jyotsna Mohile 4\n",
            "Vandana 19\n",
            "Bhanti Barua 1\n",
            "S. C. Krishnan 3\n"
          ]
        },
        {
          "output_type": "stream",
          "name": "stderr",
          "text": [
            " 37%|███▋      | 1458/3940 [00:13<00:22, 110.24it/s]"
          ]
        },
        {
          "output_type": "stream",
          "name": "stdout",
          "text": [
            "Rajkanya 5\n",
            "Lalitha Sagari 4\n",
            "R. Gauri Aiyyar 1\n",
            "J.s.jaggi 4\n",
            "Praveen Saba 2\n",
            "B. Hanumanthachar Univox 3\n",
            "Swapan Gupta 1\n",
            "S.N. Surendar 6\n",
            "Nazia Hassan 23\n",
            "Km. Adyasa Roy 1\n",
            "Mohammad Lateef Kumar 1\n",
            "Madhuri Devi 1\n",
            "Sravanti Mazumder 2\n",
            "B.S. Raja Iyengar 2\n",
            "T. A. Madhuram 4\n",
            "Chirala Subbiah 2\n",
            "Sahib Singh 1\n",
            "Shammi Kapoor 4\n",
            "Satindar Pal Singh Sidhvan Wale 3\n",
            "Samina 4\n",
            "Chittaranjan Deb 1\n",
            "Inderjit Singh Rahi 1\n",
            "Ajit Kadkade 103\n"
          ]
        },
        {
          "output_type": "stream",
          "name": "stderr",
          "text": [
            " 38%|███▊      | 1482/3940 [00:13<00:22, 109.59it/s]"
          ]
        },
        {
          "output_type": "stream",
          "name": "stdout",
          "text": [
            "Pritibala 1\n",
            "Sikander Alam 2\n",
            "G. Pooja 1\n",
            "Rambha Ben 1\n",
            "C. S. Sarojini Devi 3\n",
            "Mano S Janaki 1\n",
            "Pattabi 2\n",
            "Tahir Saqi 7\n",
            "Gulab Singh 6\n",
            "T.l. Maharajan 5\n",
            "Chorus 1154\n",
            "Bhai Bakhshish Singh Ragi 22\n",
            "Vinay Kamal 3\n",
            "Hemlata Shah 1\n",
            "Bhai Harbans Singh Ji (Jagadhari Wale) 30\n",
            "Zarin Daruwala 1\n",
            "Bapurao Pendharkar 11\n",
            "Reena Rajnaryan Dash 1\n",
            "K. S. George 5\n",
            "Shri Bhawar Chaudhari 10\n",
            "Kalpana Bhuiya 4\n",
            "Vaidehi 7\n",
            "Habib Painter Qawwal 11\n"
          ]
        },
        {
          "output_type": "stream",
          "name": "stderr",
          "text": [
            " 38%|███▊      | 1505/3940 [00:13<00:21, 110.87it/s]"
          ]
        },
        {
          "output_type": "stream",
          "name": "stdout",
          "text": [
            "Madhusudan Shastri 1\n",
            "Arshi Hyderabadi 2\n",
            "Kalyani 14\n",
            "Bal Palsule 1\n",
            "Jeetendra 4\n",
            "Chiragh Ali 1\n",
            "P . Sarangi 2\n",
            "Girish Wazalwar 1\n",
            "Mu.Ka. Muthu 2\n",
            "Kalubha Jadeja 1\n",
            "Ustad Faiyaz Khan 2\n",
            "Ramesh Mehta 1\n",
            "Rajalakshmi 24\n",
            "Suhaas 4\n",
            "Kunnakudi Vaidyanathan 11\n",
            "Senthamari 1\n",
            "Paraful Dave 1\n",
            "Bharat Sharma Vyas 17\n",
            "Madhuuri Mukhopadhyay 2\n",
            "Pragya Khandekar 1\n",
            "Jasraj Joshi 1\n",
            "Pirthi Paul Singh 8\n",
            "Mohnish Behl 2\n",
            "Sumitra Lahiri 1\n"
          ]
        },
        {
          "output_type": "stream",
          "name": "stderr",
          "text": [
            " 39%|███▉      | 1529/3940 [00:13<00:21, 109.68it/s]"
          ]
        },
        {
          "output_type": "stream",
          "name": "stdout",
          "text": [
            "Suresh Wadkar 535\n",
            "Dohar 6\n",
            "Aarti Hawaladar 1\n",
            "Gurdial Nirman Dhuri 2\n",
            "Sultan Singh 2\n",
            "Balbir 31\n",
            "Dina Gandharva 10\n",
            "Leelavathi 1\n",
            "N. Krishnamurthy Raju 1\n",
            "Mohd. Sadiq 33\n",
            "M. S. Sodhi 1\n",
            "Sparsha Shenoy 1\n",
            "Mangal Singh 8\n",
            "M S Sethi 12\n",
            "Ajoy Chakrabarty 2\n",
            "Kasinath Tataa 1\n",
            "Badari 2\n",
            "Sumita Sanyal 2\n",
            "sibcharan das 14\n",
            "Shanikumar Shelar 11\n",
            "Ustad Allahditta Khan 1\n",
            "Kula Barua 5\n",
            "Kashinath 1\n",
            "PADMINI KOHLAPURE 2\n"
          ]
        },
        {
          "output_type": "stream",
          "name": "stderr",
          "text": [
            " 39%|███▉      | 1553/3940 [00:14<00:21, 109.56it/s]"
          ]
        },
        {
          "output_type": "stream",
          "name": "stdout",
          "text": [
            "Gurminder Kaur 5\n",
            "Gurnam Singh Hira 1\n",
            "Usha Ganesh 2\n",
            "Mohammad Salim Qawwal 2\n",
            "Sadananda Gogoi 1\n",
            "Amay Date 2\n",
            "Dr. M. Balamurali Krishna 3\n",
            "Ikram Rajasthani 14\n",
            "Veerinder 2\n",
            "Qaiser Azad Badayuni 3\n",
            "Baby Guruprit Kaur 1\n",
            "sulochna chavan 1\n",
            "Purna Chander 2\n",
            "Padma Subrahmaniam 9\n",
            "Dalpat Dangi 2\n",
            "Shekhar Ravjiani 2\n",
            "Prbhakar Karekar 1\n",
            "Sakthi Shanmugaraja 1\n",
            "S.Sarala 3\n",
            "Archana Saksena 3\n",
            "Pamela Chopra 20\n",
            "Maipala Vijayalakshmi 1\n",
            "Ratnamala Prakash 8\n"
          ]
        },
        {
          "output_type": "stream",
          "name": "stderr",
          "text": [
            " 40%|████      | 1576/3940 [00:14<00:21, 111.25it/s]"
          ]
        },
        {
          "output_type": "stream",
          "name": "stdout",
          "text": [
            "Ishrat Jehan 1\n",
            "Betty Prince 8\n",
            "Zahida Sultana 1\n",
            "Jolly Abraham 14\n",
            "Kousalya 8\n",
            "Sushmadevi Maheshkar 2\n",
            "C. H. Atma 2\n",
            "Saritha 4\n",
            "Surinder Kaur 94\n",
            "Punyabrata Deb Goswami 1\n",
            "Sivaji Chatterjee 2\n",
            "Atish Majumder 1\n",
            "Gummadi 1\n",
            "Sudeshna Chatterjee 1\n",
            "Mahelaqa Bano 2\n",
            "Kamini Kembhavi 1\n",
            "Sona Rawal 1\n",
            "Pt. Bhaskar Chandavarkar 3\n",
            "Robert Uhlmarash 4\n",
            "Shahir Vasantrai Nanivdekar 1\n",
            "Khurshid Aalam 7\n",
            "Bhimrao Panchale 1\n",
            "K. Veermani 10\n",
            "Mohd. Sajid 12\n"
          ]
        },
        {
          "output_type": "stream",
          "name": "stderr",
          "text": [
            " 41%|████      | 1600/3940 [00:14<00:21, 109.52it/s]"
          ]
        },
        {
          "output_type": "stream",
          "name": "stdout",
          "text": [
            "Anuradha Paudwal 707\n",
            "Bhai Jaswinder Singh 1\n",
            "Balraj Rana 1\n",
            "Meena Devi 3\n",
            "Sunanda Shah 3\n",
            "Madan 23\n",
            "Keshav Rathod 3\n",
            "Dr Kalyan 1\n",
            "Rajkamal 7\n",
            "Lakhan Pal Lakhan 8\n",
            "Sudarshan Bali 4\n",
            "Purshotam Thakkar 1\n",
            "Bupinder 1\n",
            "Asha Ramani 1\n",
            "Savita Sathi 12\n",
            "Vijaya Mazumder 6\n",
            "Raj Kishan 3\n",
            "Ost 8\n",
            "Vasant Rao Deshpande 2\n",
            "Biswajit Roychowdhury 1\n",
            "Ghulam Ali 140\n",
            "Balkrishna Dave 2\n",
            "K. L. Saigal 11\n",
            "Deven Verma 6\n"
          ]
        },
        {
          "output_type": "stream",
          "name": "stderr",
          "text": [
            " 41%|████      | 1624/3940 [00:14<00:20, 112.15it/s]"
          ]
        },
        {
          "output_type": "stream",
          "name": "stdout",
          "text": [
            "Shobha 48\n",
            "Suraj Dadhich 1\n",
            "DOCTOR KALYANAM 1\n",
            "Vijayanti Pahija 2\n",
            "Prof. Satnam Singh Sethi 3\n",
            "Latha 78\n",
            "Lakshmipathi 1\n",
            "Kamala 10\n",
            "Shri Davinder Singh 1\n",
            "Sudhakar Kanade 4\n",
            "P.J. Sarma 1\n",
            "Pandit Rajan Mishra 2\n",
            "Debashish Mohapatra 3\n",
            "Nagoor Babu 1\n",
            "Narayan Swami 17\n",
            "Sharada 24\n",
            "T.A. Mothi 3\n",
            "AMARNATH NATHJI 1\n",
            "Rama 336\n",
            "A. M. Rajah 57\n",
            "Jayanta Das 2\n",
            "Snigdha Nayaik 1\n",
            "Pandanallur T.R.D.Anandakumar 7\n",
            "Ranu Mukherjee 6\n"
          ]
        },
        {
          "output_type": "stream",
          "name": "stderr",
          "text": [
            " 42%|████▏     | 1648/3940 [00:14<00:20, 111.89it/s]"
          ]
        },
        {
          "output_type": "stream",
          "name": "stdout",
          "text": [
            "Kulwant Kaur 2\n",
            "Jaywant Kulkarni 116\n",
            "Shahir Amar Sheikh 2\n",
            "Darsha Singhdarsha 2\n",
            "Sowmitri 2\n",
            "Badruddin Malawat 1\n",
            "Hans Raj Hans 1\n",
            "Bonti Borah 1\n",
            "Shaila Devi 1\n",
            "P. Susheela 3213\n",
            "T V Jaydev 1\n",
            "Srikanta Das 8\n",
            "Devadas 2\n",
            "Devender 'Billa' 10\n",
            "Saibaba 14\n",
            "Bandana Boraha 1\n",
            "Madhu Khamkar 1\n",
            "Nisha Bhagat 1\n",
            "Jayasri Kamath 1\n",
            "Prahlad Shinde 1\n",
            "Premlata Nayak 2\n",
            "Sanjay Raizada 2\n",
            "Badruddin 8\n",
            "Nahid Niazi 3\n"
          ]
        },
        {
          "output_type": "stream",
          "name": "stderr",
          "text": [
            " 42%|████▏     | 1672/3940 [00:15<00:20, 109.21it/s]"
          ]
        },
        {
          "output_type": "stream",
          "name": "stdout",
          "text": [
            "Mohd. Hussain 8\n",
            "Naseema Shaheen 1\n",
            "M. N. Nambiar 4\n",
            "L.R. Eswari 559\n",
            "Bhusan Mehta 1\n",
            "Vishwanath 34\n",
            "Lakhabhai V. Gadhavi 4\n",
            "Mala 330\n",
            "Mithun Chakraborty 24\n",
            "Nima Devi 1\n",
            "Asad Amanat 46\n",
            "M.P.N. Ponnuswamy 3\n",
            "Bhai Surinder Singh 2\n",
            "Kadar Khan 12\n",
            "Rituparna Sharma 4\n",
            "Abhi Bhattacharya 2\n",
            "Ratannagar 4\n",
            "Parminder Sandhu 26\n",
            "Nagamani 1\n",
            "Padma Arora 8\n",
            "Madhumati Goswami 13\n",
            "Pascal Paul 3\n",
            "Jupiters 13\n"
          ]
        },
        {
          "output_type": "stream",
          "name": "stderr",
          "text": [
            " 43%|████▎     | 1695/3940 [00:15<00:21, 102.44it/s]"
          ]
        },
        {
          "output_type": "stream",
          "name": "stdout",
          "text": [
            "Deedar Singh 1\n",
            "Anil Kumar 4\n",
            "Raghunath Panigrahi 18\n",
            "Surjeet Singh 6\n",
            "Vishnu Waghmare 4\n",
            "Parveen Mirza 3\n",
            "Anuradha Parkash 1\n",
            "Mahant Hiralal 9\n",
            "Rehana 35\n",
            "Arati Mishra 2\n",
            "Umarshad Qawwal 1\n",
            "Vasanti Dani 1\n",
            "Ashok Kumar 8\n",
            "Sinduri 1\n",
            "Kalyanji Anandji 10\n",
            "Mohd Aavid 1\n",
            "Parupalli Sri Ranganath 7\n",
            "P. Madhuri 22\n",
            "Jaishri Shivram 3\n",
            "Vithal Umap 8\n",
            "Mohammad Rafiq Kumhar 5\n",
            "Jadav 5\n"
          ]
        },
        {
          "output_type": "stream",
          "name": "stderr",
          "text": [
            " 44%|████▎     | 1718/3940 [00:15<00:20, 106.68it/s]"
          ]
        },
        {
          "output_type": "stream",
          "name": "stdout",
          "text": [
            "Sowcar Janaki 1\n",
            "Sabiha Khan 1\n",
            "Shakti Mishra 2\n",
            "Firdousi Begum 1\n",
            "Rajan Nagendra 2\n",
            "A. J. Muthuswamy 1\n",
            "Lokeswar Deka 14\n",
            "Himatgiri Goswami 1\n",
            "Gopi 22\n",
            "Kader Rangila Qawwal 1\n",
            "B. Souri 1\n",
            "Bijal Upadhyay 1\n",
            "Mehander Kapoor 3\n",
            "Mina 24\n",
            "Davinder Kaur 7\n",
            "Karsandas Sagathia 29\n",
            "Renuka 19\n",
            "B. Gopalam 2\n",
            "Raveendran 1\n",
            "Sadar Mahanta 1\n",
            "Salim Merchant 4\n",
            "Govind Powle 9\n",
            "GEETA RANI 8\n",
            "Jagjit Jeeto 1\n"
          ]
        },
        {
          "output_type": "stream",
          "name": "stderr",
          "text": [
            " 44%|████▍     | 1741/3940 [00:15<00:20, 107.29it/s]"
          ]
        },
        {
          "output_type": "stream",
          "name": "stdout",
          "text": [
            "C. Ramchandra 8\n",
            "Mohini 31\n",
            "Mohammad Hanif Kumhar 2\n",
            "Santosh Kumar 1\n",
            "Sapna Mukherjee 17\n",
            "Sabitabrata Dutta 1\n",
            "Nithin Rajaram Shasthry 1\n",
            "Abburi Varaprasada Rao 2\n",
            "Krishna Burman 1\n",
            "O.M.Srinivas 2\n",
            "Sandip Bhattacharya 1\n",
            "Vishnu 15\n",
            "Chandrabose 1\n",
            "Mohini Narula 23\n",
            "Piara Singh Panchi 1\n",
            "K. Latha 1\n",
            "Benjamin Sisters 3\n",
            "Shreya Ghoshal 42\n",
            "Palash Sen 2\n",
            "Dr. Rohini Mohan 8\n",
            "Kaleem Sarwer 9\n",
            "Mysore Devadas 1\n",
            "Rema Lahiri 3\n",
            "Lucky Ali 4\n",
            "Dharapuram Sundararajan "
          ]
        },
        {
          "output_type": "stream",
          "name": "stderr",
          "text": [
            " 45%|████▍     | 1765/3940 [00:16<00:19, 108.84it/s]"
          ]
        },
        {
          "output_type": "stream",
          "name": "stdout",
          "text": [
            "4\n",
            "Manabendra Mukherjee 14\n",
            "Ali Muhammad Rizvi 2\n",
            "Gaddar 3\n",
            "Jyoti Ray 1\n",
            "S. GOVINDARAJAN 3\n",
            "Sangira Singha 1\n",
            "Pravindan Gadhavi 3\n",
            "S. P. Balasubrahmanyam 3659\n",
            "Dilbara Singh Mangat Hari Singh Gill 4\n",
            "Radha Mangeshkar 1\n",
            "Suresh Shinde 2\n",
            "Kalaimamani L.R. Easwari 1\n",
            "C.S. Jayaraman 7\n",
            "Kannur Rajan 8\n",
            "D Pen Baruah 2\n",
            "Bhai Maninder Singh 5\n",
            "Mohana 2\n",
            "Afshan Ahmed 2\n",
            "Jasbir Khushdil 14\n",
            "K.N. Dhandayuthapani Pillai 1\n",
            "Abhhi Bhattacharya 1\n",
            "Maharajapuram Santhanam 1\n",
            "M.Kaleem 14\n"
          ]
        },
        {
          "output_type": "stream",
          "name": "stderr",
          "text": [
            " 45%|████▌     | 1789/3940 [00:16<00:19, 110.29it/s]"
          ]
        },
        {
          "output_type": "stream",
          "name": "stdout",
          "text": [
            "Japinder Narula Arthur 1\n",
            "Tansen Singh 4\n",
            "Siddhartha Mishra 1\n",
            "VISHWANATH YADAV 1\n",
            "Pooja Taayur 1\n",
            "Reshma Chowdhury 1\n",
            "Anant Gujar 10\n",
            "Shri Rajaram Kruta 4\n",
            "Lal Chand Yamlajat 1\n",
            "Srinivas 27\n",
            "M. S. Raju 3\n",
            "Ladha Surinder Kaur 19\n",
            "Ramya Vasista 7\n",
            "Begum Akhtar 22\n",
            "Suraiya Khanum 3\n",
            "Aditya 2\n",
            "G.Venugopal 1\n",
            "Ranjana 34\n",
            "B.Vasantha 4\n",
            "Anjali V Bhat 5\n",
            "CHETAN GADVI 1\n",
            "Ali Bux Zahoor 1\n",
            "Damayanti Bardai 16\n",
            "K. S. Chithra 269\n"
          ]
        },
        {
          "output_type": "stream",
          "name": "stderr",
          "text": [
            " 46%|████▌     | 1812/3940 [00:16<00:19, 107.61it/s]"
          ]
        },
        {
          "output_type": "stream",
          "name": "stdout",
          "text": [
            "Noor Jehan 550\n",
            "R. Muthuraman 7\n",
            "Annasaheb Kirloskar 1\n",
            "Shivaraj Kumar 1\n",
            "Pran 125\n",
            "Pramila Jadhav 1\n",
            "Pamela Mukherjee 1\n",
            "Nathalal Chorasia 1\n",
            "Durga Jasraj 1\n",
            "Pandari Bai 1\n",
            "Ranjit Kaur 46\n",
            "Sangeeta 63\n",
            "Chitra Singh 108\n",
            "Dasturji Nowrooz D. Minocher Homji 2\n",
            "Pattabhi Bhagavathar 1\n",
            "Surinder Shinda 63\n",
            "Pandit Marutibua Bagde 15\n",
            "Qamar Uz Zaman 15\n",
            "Radhika Saxena 1\n",
            "Jesudas 3\n",
            "Nitu 2\n",
            "Group 26\n",
            "Siddaramu 1\n"
          ]
        },
        {
          "output_type": "stream",
          "name": "stderr",
          "text": [
            " 47%|████▋     | 1836/3940 [00:16<00:19, 108.10it/s]"
          ]
        },
        {
          "output_type": "stream",
          "name": "stdout",
          "text": [
            "Chanda Shekhar Gadgil 1\n",
            "Takuram Dananee 1\n",
            "Kuldeep Paras 25\n",
            "G. Balakrishna Prasad 1\n",
            "Mahesh Kumar 20\n",
            "Bhagwan Ligade 1\n",
            "Thyagarajan 2\n",
            "S.P.Charan 16\n",
            "P.V. Chalapathi Rao 7\n",
            "Biddu 2\n",
            "Bhagat Singh 1\n",
            "Suhasini Koratkar 1\n",
            "Sanghamitra Banerjee 1\n",
            "Gopal Lal Vohra 5\n",
            "S. Sowmya 1\n",
            "Rati Agnihotri 2\n",
            "Uday Upadhyay 4\n",
            "Ramila Gahlot 10\n",
            "Mukhtar Begum 1\n",
            "Meena Patel 9\n",
            "M Riaz 1\n",
            "Manhar Udhas 102\n",
            "Arun Jangale 5\n",
            "Rajni Karkare 1\n"
          ]
        },
        {
          "output_type": "stream",
          "name": "stderr",
          "text": [
            " 47%|████▋     | 1860/3940 [00:16<00:18, 110.24it/s]"
          ]
        },
        {
          "output_type": "stream",
          "name": "stdout",
          "text": [
            "Darshan Singh Ji 1\n",
            "Swagtika Mohapatra 12\n",
            "Dwijadas Chakraborty 1\n",
            "Bhai Trilochan Singh 2\n",
            "Bani Barua 1\n",
            "Gulshan Komal 28\n",
            "Bellur Sisters 25\n",
            "Nasim Khan 1\n",
            "Bhai Avtar Singh Ji 26\n",
            "Shalini Singh 1\n",
            "Wahidur Rahman 1\n",
            "Lopamudra Mitra 1\n",
            "MEHAR MITTAL 1\n",
            "Subhas Chakraborty 2\n",
            "Madhubala Chawala 4\n",
            "Vijay Salavi 2\n",
            "Udayraj Godbole 10\n",
            "DEENA NATH YADAV 2\n",
            "Trupti Dash 11\n",
            "T.r. Jayadev 8\n",
            "Ashok Saraf 1\n",
            "Jaunsar Bower 2\n",
            "Shyam Bhateja 1\n",
            "Kohinoor 2\n"
          ]
        },
        {
          "output_type": "stream",
          "name": "stderr",
          "text": [
            " 48%|████▊     | 1884/3940 [00:17<00:18, 111.70it/s]"
          ]
        },
        {
          "output_type": "stream",
          "name": "stdout",
          "text": [
            "Ku.Radhika Bhat 1\n",
            "Sheela Shethia 4\n",
            "Shankar Yadav 3\n",
            "Sapan Chakraborty 28\n",
            "Alka Yagnik 342\n",
            "Yusuf Azad Qawwal 15\n",
            "Lakhjeet Singh Lakhha 8\n",
            "P. S. Subbiah 1\n",
            "Aruna Irani 4\n",
            "Anusuya Ghosh 1\n",
            "Ravindra Sathe 112\n",
            "Muhammad Iqbal 2\n",
            "M.S. Liban Bindey 1\n",
            "Praveen Karpagam 1\n",
            "Madhu Bohra 1\n",
            "Merriene 8\n",
            "Mallesh 5\n",
            "Dr. Seerkazhi G. Sivachidambaram 5\n",
            "Akshya Mohanty Baboo 1\n",
            "Arshad Mehmood 4\n",
            "Asha Nath 2\n",
            "Sridevi 16\n",
            "Manju Noorpuri 10\n",
            "Bhanupriya 2\n"
          ]
        },
        {
          "output_type": "stream",
          "name": "stderr",
          "text": [
            " 48%|████▊     | 1908/3940 [00:17<00:18, 111.75it/s]"
          ]
        },
        {
          "output_type": "stream",
          "name": "stdout",
          "text": [
            "Muni 28\n",
            "Bhushan Mehta 4\n",
            "Uthukkadu Venkatasubbaier 1\n",
            "Rajendra Sahani 1\n",
            "Mohd. Abid 12\n",
            "Mohammad Saeed 11\n",
            "Shyamasree Mazumder 1\n",
            "Ustad Sharif Khan 7\n",
            "Jojo 1\n",
            "Suchitra Mitra 6\n",
            "Lakshmi 23\n",
            "Ranjana Shinde 14\n",
            "Chhelshankar Dave 1\n",
            "Awaaz 9\n",
            "Lopita Mishra 6\n",
            "Shahir Damodar Vitavkar 2\n",
            "P Suri Babu 1\n",
            "Yazin Nizar 4\n",
            "Amjad Boby 1\n",
            "Joginder Kumar Sajan 11\n",
            "Sumitra Roy 1\n",
            "Radha Maheshwari 3\n",
            "Jayachandra 186"
          ]
        },
        {
          "output_type": "stream",
          "name": "stderr",
          "text": [
            " 49%|████▉     | 1932/3940 [00:17<00:18, 107.07it/s]"
          ]
        },
        {
          "output_type": "stream",
          "name": "stdout",
          "text": [
            "\n",
            "Shahida Khan 4\n",
            "Gurukiran 2\n",
            "Uma Dubey 15\n",
            "Ramesh Rangeela 1\n",
            "Gopal Marathe 1\n",
            "Mitali Chinera 3\n",
            "Diip Dholakia 1\n",
            "Ruma Guha Thakurta 1\n",
            "Sukhwant Kaur 20\n",
            "Asit Sen 4\n",
            "Waghmare 5\n",
            "Various Artists 8\n",
            "Vaishali Samant 1\n",
            "Lalita Das 2\n",
            "Mujeeb Alam 1\n",
            "Karam Singh Bhatti 19\n",
            "Pushparaj 1\n",
            "BANALAXMI KANUNGO 3\n",
            "SAHANA BAJPEI 2\n",
            "Nurjahan Begum Jaipuri 2\n",
            "Mahendra Kapoor 816\n",
            "Nahid Akhtar 206\n",
            "Siddheshwari Devi 3\n"
          ]
        },
        {
          "output_type": "stream",
          "name": "stderr",
          "text": [
            " 50%|████▉     | 1954/3940 [00:17<00:18, 106.99it/s]"
          ]
        },
        {
          "output_type": "stream",
          "name": "stdout",
          "text": [
            "Jayamala Shiledar 7\n",
            "Suez Bordoloi 1\n",
            "Jagjit Kaur 22\n",
            "Vinu 2\n",
            "Sb H.K. Thakur 2\n",
            "Sharat Sharma 4\n",
            "Shahnaz Begum 1\n",
            "K. B. Sundarambal 15\n",
            "Yunus Malik 4\n",
            "Bhal Singh 8\n",
            "Veena Mehta 1\n",
            "Raayaa Koragavankar 1\n",
            "Hemen Das 1\n",
            "Chand Sanware 3\n",
            "Pankaj Udhas 37\n",
            "Farrukh Bashir 2\n",
            "Ranjana Joglekar 10\n",
            "Rajesh Mehta 8\n",
            "Mamta Singh 20\n",
            "Nitin Mukesh 82\n",
            "Narasimha Naik 22\n",
            "Sajjad Akram 7\n",
            "Vitthal Hedukar 7\n"
          ]
        },
        {
          "output_type": "stream",
          "name": "stderr",
          "text": [
            " 50%|█████     | 1977/3940 [00:17<00:18, 108.96it/s]"
          ]
        },
        {
          "output_type": "stream",
          "name": "stdout",
          "text": [
            "Pushpa Gahlot 6\n",
            "Shivakumar 1\n",
            "Manmohan Singh 12\n",
            "Anuradha Sriram 2\n",
            "Chhaya Ganguli 10\n",
            "Shaheda Bano Jaipuri 4\n",
            "Kumari Dharitri 2\n",
            "'Shruti'-Group - Ahmedabad 2\n",
            "R. Paanigraahi 1\n",
            "Shanu Malik 2\n",
            "Mehul Kumar 1\n",
            "K.deep 1\n",
            "Indira Nanda 6\n",
            "Sulamangalam Murali 6\n",
            "Punjabi Bhangra 10\n",
            "Abhaya 1\n",
            "Sangeeta Pandit 8\n",
            "Amjad 17\n",
            "M.R. Vijaya 6\n",
            "Khagen Phukan 3\n",
            "M.S. Subbulakshmi 21\n",
            "Assam singers with percussion from Siluk 1\n",
            "Uttar Pradesh soloist 1\n",
            "Anwar Maqsood 1\n",
            "Raghunath 23\n"
          ]
        },
        {
          "output_type": "stream",
          "name": "stderr",
          "text": [
            " 51%|█████     | 2001/3940 [00:18<00:17, 111.56it/s]"
          ]
        },
        {
          "output_type": "stream",
          "name": "stdout",
          "text": [
            "Jayalalithaa 9\n",
            "Sukhchain Kaur 19\n",
            "Kaumudi Majumdar 1\n",
            "Mallikarjuna Rao 1\n",
            "Mohd. Siddique 7\n",
            "Joshna Bhole 1\n",
            "Rashid Hairan 1\n",
            "Anwar 51\n",
            "Kalyan 382\n",
            "Madhavapeddi Ramesh 25\n",
            "Bhanumathi Ramakrishna 47\n",
            "Raj Kumar Bharathi 8\n",
            "Neelaavara Ramakrishnayaa 2\n",
            "T. V. Raju 2\n",
            "Mohan Babu 1\n",
            "Reshman 11\n",
            "N. Chandran 1\n",
            "Moti Lal Bohra 6\n",
            "Amita Nangia 12\n",
            "Dibakar Mohanty 2\n",
            "Mahesh Kumar(Female Voice) 1\n",
            "Nitin Parikh 1\n",
            "Pandurang Agawane 2\n"
          ]
        },
        {
          "output_type": "stream",
          "name": "stderr",
          "text": [
            " 51%|█████▏    | 2025/3940 [00:18<00:17, 109.82it/s]"
          ]
        },
        {
          "output_type": "stream",
          "name": "stdout",
          "text": [
            "P.S. Subbaiah 1\n",
            "Binni Krishnakumar 1\n",
            "Shree Satyanand Maharaj 9\n",
            "Chandrakant Shinde 2\n",
            "Kanwar Ajit Singh 1\n",
            "Parvin 1\n",
            "M.L. Sudhakar 1\n",
            "Rajna Joglekar 9\n",
            "Arundhuti 3\n",
            "Anant Vernekar 1\n",
            "Basavaraj 1\n",
            "I. Shravya 1\n",
            "Pushpa Panda 4\n",
            "Brian Silas 2\n",
            "Ahmadi Begum Chopra 1\n",
            "Udoy Barman 3\n",
            "Hemant Verma 1\n",
            "Jahoor Master 8\n",
            "Bhai Surjan Singh Ragi 1\n",
            "MADHAVAPEDDI SATHYAM 1\n",
            "A. P. Komala 3\n",
            "Hema Malini 13\n",
            "Kalluri Muralikrishna 5\n"
          ]
        },
        {
          "output_type": "stream",
          "name": "stderr",
          "text": [
            " 52%|█████▏    | 2049/3940 [00:18<00:17, 109.58it/s]"
          ]
        },
        {
          "output_type": "stream",
          "name": "stdout",
          "text": [
            "Mohd. Siddiq 8\n",
            "Umme Habiba 1\n",
            "Jayanta 24\n",
            "Pushpa Fukan Dubra 2\n",
            "N.S. Prakash Rao 2\n",
            "Musarrat Nazir 112\n",
            "Madhukar Nakhva 4\n",
            "master balkishan 2\n",
            "parties of male 1\n",
            "Subbanarasimhayya 1\n",
            "Chitti babu 1\n",
            "Muhammad Juman 1\n",
            "Mitali Chowdhury 5\n",
            "Jagmohan Deep 1\n",
            "Padmasubrahmanyam 2\n",
            "Parman 2\n",
            "Kasthuri Shankar 8\n",
            "Bijendra Singh 1\n",
            "C.S. Ganesh 1\n",
            "Safdarjung Rana 33\n",
            "MANJEET KAUR 1\n",
            "Amar Noori 46\n",
            "Manohar Golambare 3\n",
            "S C Krishnan 1\n"
          ]
        },
        {
          "output_type": "stream",
          "name": "stderr",
          "text": [
            " 53%|█████▎    | 2072/3940 [00:18<00:16, 110.28it/s]"
          ]
        },
        {
          "output_type": "stream",
          "name": "stdout",
          "text": [
            "Kabita Barthakur 1\n",
            "Mukund Fansalkar Ani 14\n",
            "Mohammed Ali Shyhaki 2\n",
            "T. K. S. Natarajan 8\n",
            "Shanti Mathur 4\n",
            "Attaullah Khan 19\n",
            "R. Jesiah 2\n",
            "Akshya 7\n",
            "Hemanti Shukla 5\n",
            "Pratima Mukherjee 1\n",
            "Fakir Pattanaik 1\n",
            "NOOTAN 2\n",
            "Ritu Guha 3\n",
            "Prakash Kaur 10\n",
            "Idu Khan 1\n",
            "Jaswant Singh Sandila 27\n",
            "M. P. N. Sethuraman 1\n",
            "Nadeem 9\n",
            "Dinesh 4\n",
            "Sunanda Chorus 1\n",
            "Charanjit Kaur 5\n",
            "Jency 30\n",
            "Baby Shalini 1\n",
            "Manashi Nayak 1\n",
            "Malgudi Subha "
          ]
        },
        {
          "output_type": "stream",
          "name": "stderr",
          "text": [
            " 53%|█████▎    | 2096/3940 [00:19<00:16, 111.23it/s]"
          ]
        },
        {
          "output_type": "stream",
          "name": "stdout",
          "text": [
            "1\n",
            "Ashalata Vabgaokar 4\n",
            "Kortum Hardikar 1\n",
            "Zeenat Aman 4\n",
            "Rajeswari 15\n",
            "P. Radha 1\n",
            "Jayshri Shivram 1\n",
            "T. N. Balakrishna 2\n",
            "PRABHA SINGH 6\n",
            "Mitalee 1\n",
            "Shankar Dasgupta 17\n",
            "Kirti Shiledar 5\n",
            "Dr Mrutyunjaya Swami 8\n",
            "Taj Multani 1\n",
            "Suzi Miller 1\n",
            "Namita Ghoshal 1\n",
            "Prafulla Kar 46\n",
            "Sanat Singha 1\n",
            "Didar Sandhu 11\n",
            "B. Padmanabham 1\n",
            "Aarti Mukherji 99\n",
            "Nachiketa Chakraborty 1\n",
            "Vaghmare 1\n",
            "Prativa 3\n"
          ]
        },
        {
          "output_type": "stream",
          "name": "stderr",
          "text": [
            " 54%|█████▍    | 2120/3940 [00:19<00:16, 110.90it/s]"
          ]
        },
        {
          "output_type": "stream",
          "name": "stdout",
          "text": [
            "Deepmala 1\n",
            "Sunil Kumar 1\n",
            "C.H. Atma 3\n",
            "Jyoti Matwankar 1\n",
            "Kaumodi Mazumder 1\n",
            "Ruchi Tailang 1\n",
            "Arun Sarnaik 3\n",
            "K. Rani 5\n",
            "Triple \"S\" Sisters 14\n",
            "Hariharan 34\n",
            "Om Pawar 9\n",
            "Mamta Sing 21\n",
            "Girish Varadpe 12\n",
            "Ghulam Mustafa Khan 2\n",
            "Hemachandra 1\n",
            "Abraham Bhagat 6\n",
            "Nitya Santhoshini 1\n",
            "Chitta Jena 2\n",
            "Bhubaneshwari Mishra 5\n",
            "Karmjeet Sibiya 8\n",
            "Pt. Sawai Gandharva 2\n",
            "Aju Barkakati 2\n",
            "Master Chandar 2\n"
          ]
        },
        {
          "output_type": "stream",
          "name": "stderr",
          "text": [
            " 54%|█████▍    | 2143/3940 [00:19<00:16, 107.46it/s]"
          ]
        },
        {
          "output_type": "stream",
          "name": "stdout",
          "text": [
            "P. V. Chalapathi Rao 1\n",
            "Vishwanath Bagul 8\n",
            "Subhash Vora 1\n",
            "Pravathi 3\n",
            "Bagepalli Subramanyam 2\n",
            "Archana Das 4\n",
            "Rijuwana Sultana 2\n",
            "Tanuja 5\n",
            "Anant Panchal 3\n",
            "Vijay Batalvi 7\n",
            "Vasanth 99\n",
            "Pt. Prabhakar Karekar 19\n",
            "Suhasini Mulgaonkar 1\n",
            "S. K. Ravi 1\n",
            "Milind Ingle 14\n",
            "Other s 1\n",
            "T. A. Mothi 3\n",
            "Kalyanam Raghuramaiah 17\n",
            "Mukesh Shivram 1\n",
            "Harbert Murril 1\n",
            "Madhu Bhora 1\n",
            "BIHARI KAVI 2\n",
            "A.E. Manoharan 2\n",
            "Hussain Bukhsh Khan 12\n"
          ]
        },
        {
          "output_type": "stream",
          "name": "stderr",
          "text": [
            " 55%|█████▌    | 2167/3940 [00:19<00:16, 109.88it/s]"
          ]
        },
        {
          "output_type": "stream",
          "name": "stdout",
          "text": [
            "Zahida Parveen 1\n",
            "Ismail Azad Qawwal 18\n",
            "Picchalli Srinivas 1\n",
            "Krishna Mukherjee 2\n",
            "Bangar Paslia 6\n",
            "Shankar Shambhu 29\n",
            "Shyama Chittar 9\n",
            "K.B.Sundarambal 1\n",
            "Yasodakrishna 1\n",
            "Sanjay Oza 3\n",
            "Urmila Srivastav 10\n",
            "Sudha Malhotra 31\n",
            "Jaishree 1\n",
            "Om Rahi 3\n",
            "SANT BABA RANJIT SINGH JI (DHADHRIAN WALE) 2\n",
            "Meenakshi Sheshadri 6\n",
            "Shravan Yashwante 36\n",
            "Sudakshina Sharma 2\n",
            "Vaijayanti Limaye 5\n",
            "T.V. Gopalakrishnan 5\n",
            "Sohan Singh Rasia 10\n",
            "Jagga 1\n",
            "J. Adeni 1\n",
            "Balakrishna Das 10\n"
          ]
        },
        {
          "output_type": "stream",
          "name": "stderr",
          "text": [
            " 56%|█████▌    | 2190/3940 [00:19<00:16, 108.89it/s]"
          ]
        },
        {
          "output_type": "stream",
          "name": "stdout",
          "text": [
            "S.N. Parvathi 1\n",
            "Madhu Tiwari 1\n",
            "I. S. Johar 2\n",
            "Anuradha Marathe 18\n",
            "Kartar Ramla 26\n",
            "S. Kedharnath 1\n",
            "Suhasini 27\n",
            "Dolly Ghosh 6\n",
            "Koumodi Mazumder 1\n",
            "Mohan Ramchandra 1\n",
            "Rao Balasaraswathi Devi 2\n",
            "Geetanjali 1\n",
            "Dhinesh 1\n",
            "Goundamani 3\n",
            "Sreenivasa Sreedhar 4\n",
            "V. K. Naik 1\n",
            "Runjun Phukan 5\n",
            "Talat Mahmood 43\n",
            "Nirmala Devi 10\n",
            "Bali Brahmbhatt 2\n",
            "Gauri Kavi 1\n",
            "Pt. Hridaynath Mangeshkar 25\n",
            "Madhusudan Vyas 1\n"
          ]
        },
        {
          "output_type": "stream",
          "name": "stderr",
          "text": [
            " 56%|█████▌    | 2214/3940 [00:20<00:15, 110.96it/s]"
          ]
        },
        {
          "output_type": "stream",
          "name": "stdout",
          "text": [
            "Vangara 1\n",
            "Saptarshi 2\n",
            "Nandini Ganesh 1\n",
            "Abdul Rab Chaush Qawwal 1\n",
            "Madhava Peddi 3\n",
            "Usharani 1\n",
            "Faiz Ahmed Faiz 4\n",
            "Nazir Begum 8\n",
            "Kamlakar Tapasvi 3\n",
            "Bhavana Lonkar 5\n",
            "Shanta Singh 3\n",
            "Pandurang Vanmali 9\n",
            "Ila Arun 12\n",
            "Charanjit Ahuja 5\n",
            "Pooran Chand 4\n",
            "pervez mehdi 3\n",
            "Banasree Sengupta 11\n",
            "Suresh Takle 1\n",
            "Vinod Rathod 22\n",
            "Gyanesh Wari Sharma 4\n",
            "usha Chavan 3\n",
            "Bhai Sadhu Singh Dehradun Wale 3\n",
            "Abdur Rab Chaush Qawwal 3\n",
            "Nighat 10\n"
          ]
        },
        {
          "output_type": "stream",
          "name": "stderr",
          "text": [
            " 57%|█████▋    | 2238/3940 [00:20<00:15, 110.71it/s]"
          ]
        },
        {
          "output_type": "stream",
          "name": "stdout",
          "text": [
            "S.K. Mahan 4\n",
            "Purshottam Das Jalota 1\n",
            "Hari Om Sharan 22\n",
            "Subhash Todwal 1\n",
            "Gurminder. Kaur 1\n",
            "Anand Kumar 6\n",
            "Fareeda Syed 13\n",
            "K.L. Sreeram 3\n",
            "Rajendra Prasad 1\n",
            "Trupti 38\n",
            "Bikahs 2\n",
            "Sanat Banerjee 1\n",
            "Faiz 42\n",
            "Kasturi Shankar 23\n",
            "Satish Kaushik 2\n",
            "Sumita Chakraborty 2\n",
            "Kusuma 17\n",
            "Vandana Bajpeyie 10\n",
            "Kuldeep Pardeshi 1\n",
            "Hunuman Sahai 2\n",
            "V. Ramakrishna 102\n",
            "Shama Bano 4\n",
            "Asoke Saikia 1\n",
            "Haimanti Shukla 17\n"
          ]
        },
        {
          "output_type": "stream",
          "name": "stderr",
          "text": [
            " 57%|█████▋    | 2262/3940 [00:20<00:15, 110.31it/s]"
          ]
        },
        {
          "output_type": "stream",
          "name": "stdout",
          "text": [
            "Jamuna Rani 82\n",
            "Baby Arpita 1\n",
            "Kaalia Of Zamana Group 7\n",
            "Prem Chopra 12\n",
            "Ratilal Bhavsar 1\n",
            "Narayana Rao 1\n",
            "Dijen Kakati 15\n",
            "Gauri Bapat 4\n",
            "Mahendra Kapor 1\n",
            "Mukkamala Sunanda 1\n",
            "V. Nataraja Mudaliar 10\n",
            "Neelam 38\n",
            "Shabnam Kapoor 1\n",
            "Dr M L Vasanthakumari 1\n",
            "Hemanth 2\n",
            "Rao Bala Saraswathi Devi 1\n",
            "Sulochana Chavan 145\n",
            "Hamsalekha Orchestra 10\n",
            "Nandu Bhende 6\n",
            "Masood Malik 1\n",
            "Mayilswamy 1\n",
            "Iqbal Ahmed Siddiqi 6\n",
            "Ku.Meghana Babu 1\n",
            "Pujari 8"
          ]
        },
        {
          "output_type": "stream",
          "name": "stderr",
          "text": [
            " 58%|█████▊    | 2286/3940 [00:20<00:15, 109.59it/s]"
          ]
        },
        {
          "output_type": "stream",
          "name": "stdout",
          "text": [
            "\n",
            "M.J. Sebastian 1\n",
            "Kumar .F. Kanavi 1\n",
            "Raj Babbar 8\n",
            "Satish Kumar 2\n",
            "Iboo Quawwal 6\n",
            "Chhanda 4\n",
            "Indira Varma 4\n",
            "K. Jamuna Rani 2\n",
            "Aarati Goswami 1\n",
            "Bhavna Lonkar 4\n",
            "Shamim Bano 1\n",
            "Babulal Rai 4\n",
            "Allu Rama lingaiah 2\n",
            "Sonali 7\n",
            "M.L.Narasimha Murthy 1\n",
            "Manjula 93\n",
            "Fakir Patnaik 16\n",
            "Paras Nath Yadav 2\n",
            "Mahant Hiralal Hira 8\n",
            "Humaira Channa 2\n",
            "KAVITA KAPOOR 12\n",
            "Parshuram 22\n",
            "Fateh Kumar Vyas 2\n"
          ]
        },
        {
          "output_type": "stream",
          "name": "stderr",
          "text": [
            " 59%|█████▊    | 2310/3940 [00:21<00:14, 111.86it/s]"
          ]
        },
        {
          "output_type": "stream",
          "name": "stdout",
          "text": [
            "Raji 18\n",
            "Jani Babu Qawwal 33\n",
            "T L Maharajan 1\n",
            "Dada Kondke 13\n",
            "Yugendharan 1\n",
            "Cbso 2\n",
            "A.J. Muthuswamy 1\n",
            "Young mixed chorus from Port Blair 1\n",
            "Mohan Singh Itawa 6\n",
            "Brij 3\n",
            "Sinchan C 1\n",
            "Chi. Balakrishna 1\n",
            "Saiyyan Chaudhry 1\n",
            "Bombay Jayashri 2\n",
            "Udit Narayan 154\n",
            "S.P. Ponnuswamy 1\n",
            "S.k.rana 4\n",
            "Ayesha Sarkar 1\n",
            "Bipin Panchal 2\n",
            "Amar Singh Sherpuri 1\n",
            "Hans Raj Sama 8\n",
            "Joan Mascarenhas 2\n",
            "Saindhavi 2\n",
            "Bandita Roy 4\n",
            "Prasanta Baruah 1\n"
          ]
        },
        {
          "output_type": "stream",
          "name": "stderr",
          "text": [
            " 59%|█████▉    | 2334/3940 [00:21<00:14, 111.76it/s]"
          ]
        },
        {
          "output_type": "stream",
          "name": "stdout",
          "text": [
            "Chandrasekhar Prakash 1\n",
            "SUNDARRAJAN 1\n",
            "singers with percussion from Balek 1\n",
            "Kumari Sushma 8\n",
            "Rani Verma 1\n",
            "Baldev Mararh 3\n",
            "Indrani Ganguly 1\n",
            "VINDHYAVASINI DEVI 8\n",
            "Joo Joo Anuradha 1\n",
            "Pamela Singh 8\n",
            "K Bhagyaraj 4\n",
            "Karthik 2\n",
            "Sumitra Sen 5\n",
            "C S Jayaraman 3\n",
            "Lakhi Banjara 23\n",
            "Rekha Bhardwaj 1\n",
            "C.K. Rama 3\n",
            "Dilraj Kaur 239\n",
            "Prafulla Dave 4\n",
            "S. P. Sailaja 239\n",
            "Chittaranjan 21\n",
            "ARCHANA PURAN SINGH 12\n",
            "Sant Giyani Kartar Singh Khalsa (Bhindranwale) 3\n",
            "Shivaji Ganesan 2\n"
          ]
        },
        {
          "output_type": "stream",
          "name": "stderr",
          "text": [
            " 60%|█████▉    | 2358/3940 [00:21<00:14, 111.50it/s]"
          ]
        },
        {
          "output_type": "stream",
          "name": "stdout",
          "text": [
            "Amitabh Bachchan 94\n",
            "Stuttgarter Kammerorchester 1\n",
            "Ruby Singha 3\n",
            "SURENDRA CHHINDA 3\n",
            "Rahat Fateh Ali Khan 8\n",
            "Valjibhai Koli 1\n",
            "Sangeeta Mohapatra 12\n",
            "Pradip 3\n",
            "Murali Krishna 8\n",
            "Swati Pandit 16\n",
            "Bhagyashree 2\n",
            "Rachhpal Singh Rasila 3\n",
            "Kanshi Ram Ghulam 1\n",
            "Master Habib Nizami Qawwal 2\n",
            "E. V. Saroja 1\n",
            "Khursheed Begum 8\n",
            "K.PAPPU 2\n",
            "Sudesh Kapoor 8\n",
            "E. Pushpa Lalitha 1\n",
            "Bashir Ali Mahi 1\n",
            "Ustad Amanat Ali khan 23\n",
            "H. K. Narayana 2\n"
          ]
        },
        {
          "output_type": "stream",
          "name": "stderr",
          "text": [
            " 60%|██████    | 2381/3940 [00:21<00:14, 107.23it/s]"
          ]
        },
        {
          "output_type": "stream",
          "name": "stdout",
          "text": [
            "singers from Siluk 1\n",
            "Sheshgirir Hangal 1\n",
            "Kesar Singh Kesar 4\n",
            "Sadguru Sant Keshavadas 2\n",
            "Raghunan Panshikar 2\n",
            "Jaideep Bagwadkar 1\n",
            "Jayavant Nadkarni 1\n",
            "Shivkumar Nakar \"Saaz\" 2\n",
            "Kalpana Patowary 1\n",
            "T. S Balaiah 1\n",
            "Earl Hines 1\n",
            "Guru Das Sharma 4\n",
            "Thakur 20\n",
            "Indhra 1\n",
            "Ku.Anusri 1\n",
            "Dinendra Chowdhury 1\n",
            "Rukmani Nagraj 2\n",
            "Manohar Ovlekar 2\n",
            "B. Ramana 4\n",
            "Srikanta 10\n",
            "Neena Chitnis 2\n",
            "Mushtaq Ali 1\n",
            "Gangothri Rangaswamy 3\n"
          ]
        },
        {
          "output_type": "stream",
          "name": "stderr",
          "text": [
            " 61%|██████    | 2404/3940 [00:21<00:14, 107.51it/s]"
          ]
        },
        {
          "output_type": "stream",
          "name": "stdout",
          "text": [
            "Chandra Prakash Parihar 3\n",
            "Preeti Uttam 6\n",
            "Mitali Chinara 1\n",
            "Talat Aziz 22\n",
            "Vinaykumar 2\n",
            "Shubhalaxmi 17\n",
            "Pranab Kishore Pattnayak 2\n",
            "deepak patekar 2\n",
            "Kushal Barath 14\n",
            "Parveen Sultana 15\n",
            "Pranab Kishore Patnaik 55\n",
            "Ramgopal Varma 1\n",
            "Shahir Pundalik Pharande 2\n",
            "Raja Babu 2\n",
            "Snehlata 6\n",
            "Pramila Kumari 4\n",
            "Shri Sohan Singh 3\n",
            "Rekha Trivedi 6\n",
            "Bithi Ganguly 1\n",
            "Tehsin Javed 2\n",
            "Pandit Brij Bhushan Kabra 2\n",
            "Mohd. Amjad 7\n",
            "R D Burman 2\n",
            "Sachin 19\n"
          ]
        },
        {
          "output_type": "stream",
          "name": "stderr",
          "text": [
            " 62%|██████▏   | 2427/3940 [00:22<00:13, 108.89it/s]"
          ]
        },
        {
          "output_type": "stream",
          "name": "stdout",
          "text": [
            "Kamalahasan 1\n",
            "Ranjna Shinde 2\n",
            "Prafull 53\n",
            "Minati Bhanja 15\n",
            "Jai Raj 1\n",
            "Kanak Mohapatra 1\n",
            "Nidhishri 1\n",
            "Sanjeev 3\n",
            "Rajendra Mehta 14\n",
            "Shrikant Narayan 13\n",
            "dasarath das 2\n",
            "Shubh Mukherji 2\n",
            "Murli Meghani 3\n",
            "Kala Sohni 1\n",
            "Pradeep Kumar 2\n",
            "Jayashri Shivram 1\n",
            "Shamsa Kawal 1\n",
            "Humera chaudhri 2\n",
            "Alam Lohar 44\n",
            "Charushila Belsare 1\n",
            "L.R.Anjali 2\n",
            "FATMA 4\n",
            "Indrani Sen 10\n",
            "Mallik 6\n",
            "Anup Ghoshal 23\n",
            "Saira Bano Faizabadi"
          ]
        },
        {
          "output_type": "stream",
          "name": "stderr",
          "text": [
            " 62%|██████▏   | 2451/3940 [00:22<00:13, 108.44it/s]"
          ]
        },
        {
          "output_type": "stream",
          "name": "stdout",
          "text": [
            " 25\n",
            "Vinay Mandke 30\n",
            "Bandita Das 1\n",
            "S. Janaki 2204\n",
            "Premnath 2\n",
            "Padmja 5\n",
            "Bappi Lahiri 107\n",
            "Sanjay Sanwant 5\n",
            "Rudrappa 1\n",
            "Udaykumar 5\n",
            "Dr. Shreeram Lagoo 2\n",
            "Shaila Chikhale 51\n",
            "Sushma 41\n",
            "Late Girikanta Mohanto 1\n",
            "Rabi Ghosh 5\n",
            "Maddali 1\n",
            "H.P. Geetha 1\n",
            "Father 1\n",
            "BalviR. Kaur 4\n",
            "Mahananda Majinder Barua 12\n",
            "Shana P 2\n",
            "Shrikant Pargaonkar 10\n"
          ]
        },
        {
          "output_type": "stream",
          "name": "stderr",
          "text": [
            " 63%|██████▎   | 2473/3940 [00:22<00:13, 106.19it/s]"
          ]
        },
        {
          "output_type": "stream",
          "name": "stdout",
          "text": [
            "Deepak Kumar Pandit 8\n",
            "Pandit jitendra Abhisheki 39\n",
            "Laxmikant - Pyarelal 30\n",
            "Mohd Ali Shyhaki 2\n",
            "Rabindra 9\n",
            "S. Balbir 1\n",
            "Nagesh 24\n",
            "SD. Batish 6\n",
            "Krishnachandran 5\n",
            "Hamid Khan 1\n",
            "Devendersigh 1\n",
            "Prem Nath 7\n",
            "Anita Samana 10\n",
            "Asha Khadilkar 9\n",
            "Mohammed Dilshad Khan 2\n",
            "L.Velusamy 1\n",
            "Ramya 11\n",
            "Ghazala Ashfaq 1\n",
            "Rama Rao 51\n",
            "P. Mangapathy 1\n",
            "Dilip Kumar 13\n",
            "Chandrakanta Seal 1\n"
          ]
        },
        {
          "output_type": "stream",
          "name": "stderr",
          "text": [
            " 63%|██████▎   | 2496/3940 [00:22<00:13, 107.44it/s]"
          ]
        },
        {
          "output_type": "stream",
          "name": "stdout",
          "text": [
            "Rakhi Sarkar 1\n",
            "Jagmal Barot 1\n",
            "Rajesh Khanna 20\n",
            "Bhimanand Salve 5\n",
            "Ullas 1\n",
            "Nawab Kumar 3\n",
            "Laxmikant 40\n",
            "Samarjeet Samar 16\n",
            "Reema Lagoo 2\n",
            "Gul Bahar Bano 12\n",
            "Various 76\n",
            "Surinddr Shinda 1\n",
            "Sushma Shrestha 23\n",
            "Vithal Hedukar 1\n",
            "S.P.Ramh 3\n",
            "Pt. Ram Marathe 27\n",
            "sunanda patnaik 4\n",
            "Sameer Date 10\n",
            "Madna Devi Banawat 2\n",
            "Naseeruddin Shah 16\n",
            "Shakuntala Joshi 13\n",
            "Pranita Barman 8\n",
            "Amarjyot 5\n",
            "Rasbihari Desai 3\n"
          ]
        },
        {
          "output_type": "stream",
          "name": "stderr",
          "text": [
            " 64%|██████▍   | 2519/3940 [00:22<00:13, 108.04it/s]"
          ]
        },
        {
          "output_type": "stream",
          "name": "stdout",
          "text": [
            "Masud Rana 1\n",
            "Madhavi Pandya 10\n",
            "Latha Kannan 4\n",
            "Raj Seetaram 3\n",
            "Sailajananda Nayak 1\n",
            "Latha Raju 2\n",
            "Swapan Pathak 1\n",
            "Monojyostna Mahanta 3\n",
            "Mitraa Phukan 2\n",
            "Bukhshi Salamat Mubarak Ali 5\n",
            "Sarda Sinha 8\n",
            "Haridan Gadhavi 1\n",
            "Vithal Hedulkar 1\n",
            "Purshotam Upadhyay 24\n",
            "Kanchana 1\n",
            "Chunni Jaipuri 16\n",
            "Bipul 1\n",
            "Gurdev Singh Koyal 2\n",
            "Marutibuva Bagde 5\n",
            "K. Anand 9\n",
            "Shankar Giri 1\n",
            "Syed Razi Rizvi 1\n",
            "Hema Sardesai 8\n"
          ]
        },
        {
          "output_type": "stream",
          "name": "stderr",
          "text": [
            " 65%|██████▍   | 2542/3940 [00:23<00:12, 107.86it/s]"
          ]
        },
        {
          "output_type": "stream",
          "name": "stdout",
          "text": [
            "S. G. Nevrekar 2\n",
            "T. Gopika 2\n",
            "Bro. V. Nataraja Mudaliar 2\n",
            "M.Ramesh 2\n",
            "Maya 10\n",
            "Deepak Vahar 1\n",
            "Usha Amonkar 3\n",
            "Padma Sri 1\n",
            "Fakira Pattnaik 1\n",
            "Rajkumar Bharathi 16\n",
            "Santa Sharma 3\n",
            "Wadali Brothers 2\n",
            "Rajinder Kaur 7\n",
            "Dr. Gangubai Hangal 1\n",
            "H. P. Geeta 3\n",
            "Pranabiram Baruah 1\n",
            "Afshan Jafar 1\n",
            "Antara Chwdhury 17\n",
            "T. E. Palanisami 7\n",
            "Gurmeet Bawa 4\n",
            "Madhvi Pendharkar 3\n",
            "Sailaja 335\n",
            "Bhai Dharsitaram Singh Ragi 1\n"
          ]
        },
        {
          "output_type": "stream",
          "name": "stderr",
          "text": [
            " 65%|██████▌   | 2565/3940 [00:23<00:12, 109.19it/s]"
          ]
        },
        {
          "output_type": "stream",
          "name": "stdout",
          "text": [
            "Reshma 34\n",
            "ANJANA SINGH 6\n",
            "Roshan Sagar 2\n",
            "Ramprasad 2\n",
            "Sushree Sangeeta Mahapatra 5\n",
            "H P Geetha 1\n",
            "Maseem Begum 1\n",
            "B Latha 1\n",
            "Jaganmoy Mitra 3\n",
            "Kusum Tanwar 5\n",
            "C Aswath 15\n",
            "Hamid Ali Khan 25\n",
            "Trickbaby 4\n",
            "P. J. Sharma 2\n",
            "Suresh Bhat 7\n",
            "Rao Gopal Rao 1\n",
            "Aslam 8\n",
            "Kalyani Das 1\n",
            "G. K. Venkatesh 9\n",
            "Sabina Yasmeen 4\n",
            "Madhavepeddi Ramesh 1\n",
            "Amrik Singh Arora 2\n",
            "Jayanta Hazarika 21\n"
          ]
        },
        {
          "output_type": "stream",
          "name": "stderr",
          "text": [
            " 66%|██████▌   | 2588/3940 [00:23<00:12, 107.76it/s]"
          ]
        },
        {
          "output_type": "stream",
          "name": "stdout",
          "text": [
            "Damyanti Bardai 67\n",
            "S. Lalitha 1\n",
            "B. Kamlesh Kumar 6\n",
            "Biman 1\n",
            "Pratap Barot 10\n",
            "Salim Shehzad 1\n",
            "Manakkal Mani 2\n",
            "Sunil Ganguly 15\n",
            "M. Balamuralikrishna 86\n",
            "Babulal Roy 1\n",
            "Kuldip Parwana 2\n",
            "Mujahid Mubarak Ali Khan 1\n",
            "Bhupesh 4\n",
            "MaYan 1\n",
            "Jagmohan Kaur 51\n",
            "Madhavapeddi 138\n",
            "Dr. Balamurali Krishna 12\n",
            "Md.hanif Quawwal 2\n",
            "Dharamsi Raja 4\n",
            "A. S. Kang 10\n",
            "Maniraj Barot 1\n",
            "Madhavapeddi Satyam 111\n",
            "Jaishri 8\n"
          ]
        },
        {
          "output_type": "stream",
          "name": "stderr",
          "text": [
            " 66%|██████▋   | 2612/3940 [00:23<00:12, 108.97it/s]"
          ]
        },
        {
          "output_type": "stream",
          "name": "stdout",
          "text": [
            "Raghunath Pradhan 1\n",
            "Jyotsna 32\n",
            "Naseem Begum 7\n",
            "Bhairav Prasad Kathak 2\n",
            "Agha 72\n",
            "sushama shreshtha 18\n",
            "Dr. Seerkhazhi S. Govindarajan 1\n",
            "Rajdeep Singh Sekhon 8\n",
            "Saud Khan 4\n",
            "Sadhana Singh 4\n",
            "Indirabai Khadilkar 1\n",
            "R. Sudha 1\n",
            "Usha Bhusawal 1\n",
            "Yasmin 18\n",
            "Bhai Tarlochan Singh Ji 1\n",
            "Sital Singh Sital 29\n",
            "Pandit Bhimsen Joshi 56\n",
            "Suresh Gopi 1\n",
            "singers with percussion from Damroh 2\n",
            "Malaysia Vasudevan Kveeramani 1\n",
            "S Varalakshmi 3\n",
            "Daleep Singh Deep 1\n",
            "Sulamangalam Sister 1\n"
          ]
        },
        {
          "output_type": "stream",
          "name": "stderr",
          "text": [
            " 67%|██████▋   | 2635/3940 [00:24<00:12, 108.46it/s]"
          ]
        },
        {
          "output_type": "stream",
          "name": "stdout",
          "text": [
            "ARPANA CHOUDHARY 1\n",
            "V.S.Narasimhan 1\n",
            "Malini Mehta 1\n",
            "Mohd Azam Chishti 6\n",
            "Kalyanji-Anandji 32\n",
            "Rukmani 4\n",
            "Raksha Rao 1\n",
            "Vinay 36\n",
            "Hiranmayi 7\n",
            "Rekha 37\n",
            "Khan Ghulam Khwaja 1\n",
            "Mohammed Salamat 56\n",
            "Rathnakar 1\n",
            "Madhuri Purandare 1\n",
            "Bhai Devinder Singh Ragi 5\n",
            "Ananthu 1\n",
            "Rekibuddin Ahmed 1\n",
            "Janaki Iyer 5\n",
            "Jyotsna Bhole 9\n",
            "Bechan Ram Rajbhar 1\n",
            "Balakram 7\n",
            "Niranjan Pandya 1\n",
            "ismail valera 13\n",
            "T. L. Maharajan 6\n"
          ]
        },
        {
          "output_type": "stream",
          "name": "stderr",
          "text": [
            " 67%|██████▋   | 2659/3940 [00:24<00:11, 109.81it/s]"
          ]
        },
        {
          "output_type": "stream",
          "name": "stdout",
          "text": [
            "Krystal Klear 1\n",
            "S.Sowmya 2\n",
            "Aruna Rathore 2\n",
            "Moti 7\n",
            "Dr.Vasanthan 1\n",
            "S. Santa Singh 3\n",
            "Badar Uz Zaman 15\n",
            "Roma Mukerjee 2\n",
            "Ustad Talib Hussain 3\n",
            "Kamala Unhavne 2\n",
            "Debnarayan Chatterjee 1\n",
            "Meenakshi Gupta 1\n",
            "Y. S. Moolky 2\n",
            "Khagen Mahanta 31\n",
            "Nirmalendu Choudhury 2\n",
            "Datta Jadhav 2\n",
            "Mahavir 1\n",
            "Prayag Raj 2\n",
            "Amirbai Karnataki 6\n",
            "Vijay Kumar 8\n",
            "Krishna Murthy Naidu 1\n",
            "Navnaath Bhoir 2\n",
            "S P Sailaja 1\n",
            "Shahnaaz 1\n"
          ]
        },
        {
          "output_type": "stream",
          "name": "stderr",
          "text": [
            " 68%|██████▊   | 2682/3940 [00:24<00:11, 110.28it/s]"
          ]
        },
        {
          "output_type": "stream",
          "name": "stdout",
          "text": [
            "Kolhapur 25\n",
            "Krishna Kalle 73\n",
            "Qari Obaid-Ur-Rehman 2\n",
            "V. Bandaru 4\n",
            "J.P. Chandrababu 8\n",
            "Instrumental 8\n",
            "Purna Das Baul 9\n",
            "Rehana Mirza 33\n",
            "A.P. Komala 25\n",
            "Chandrashekhar Gadgil 37\n",
            "Faiyyaz 3\n",
            "Seema Mishra 3\n",
            "Aheswari 1\n",
            "Bhavatharini 1\n",
            "Tripti Das 3\n",
            "Udai Upadhye 1\n",
            "Biker Singh Paradesi 3\n",
            "Sunita 11\n",
            "Gurmit Bawa 1\n",
            "Kripanandavariar 10\n",
            "Shankar- Shambhu Qawwal 1\n",
            "Nirmal Sidhu 1\n",
            "Ranjeet 6\n"
          ]
        },
        {
          "output_type": "stream",
          "name": "stderr",
          "text": [
            " 69%|██████▊   | 2705/3940 [00:24<00:11, 105.25it/s]"
          ]
        },
        {
          "output_type": "stream",
          "name": "stdout",
          "text": [
            "Sibprasad Nath 1\n",
            "Bibha Dubra 1\n",
            "Shyam Sagar 1\n",
            "Kabban Mirza 6\n",
            "Arun Paudwal 3\n",
            "Jivram Bhagat 8\n",
            "Benerji 1\n",
            "Veena Bamne 9\n",
            "Malika Pukhraj 28\n",
            "Suresh 556\n",
            "BRIJ KISHOR 1\n",
            "B. Vasantha 66\n",
            "Dhanada Pathak 26\n",
            "Madhu 77\n",
            "Lata Mangeshkar 3056\n",
            "Ramkumar Chatterjee 2\n",
            "Gyani Daya Singh Dilbar 10\n",
            "Satya Baruah 1\n",
            "Nishi Kohli 2\n",
            "N.T. Rama Rao 10\n",
            "Syamala Sivaraman 1\n",
            "Jaybant Kulkarni 1\n",
            "Vinjamuri Krishna Murthy 1\n",
            "Om Puri 2\n"
          ]
        },
        {
          "output_type": "stream",
          "name": "stderr",
          "text": [
            " 69%|██████▉   | 2729/3940 [00:24<00:11, 107.25it/s]"
          ]
        },
        {
          "output_type": "stream",
          "name": "stdout",
          "text": [
            "Pt. Suresh Haldankar 1\n",
            "Ramola 11\n",
            "Kamla Thakur 2\n",
            "Sangeetha 31\n",
            "Aarchanarajim Wale 2\n",
            "Sheshgiri Hangal 1\n",
            "V. Sreepathy 1\n",
            "Chirantan Bhatt 4\n",
            "Avinash Vyas 1\n",
            "Vasantha 98\n",
            "V.N. Sundaram 1\n",
            "Ghanshyam Nayak 3\n",
            "Surinder Biba 4\n",
            "Smt. Jayasudha 1\n",
            "HEERA LAL YADAV 3\n",
            "Prakash Mehra 2\n",
            "Simha 1\n",
            "Johny Lever 2\n",
            "Saathi 58\n",
            "Gopal Samantaray 2\n",
            "HUSSAIN BLOCH 2\n",
            "M. G. Ramachandran 9\n",
            "Atul Methi 2\n"
          ]
        },
        {
          "output_type": "stream",
          "name": "stderr",
          "text": [
            " 70%|██████▉   | 2753/3940 [00:25<00:10, 109.43it/s]"
          ]
        },
        {
          "output_type": "stream",
          "name": "stdout",
          "text": [
            "Babla Mehta 4\n",
            "Sonik 5\n",
            "A P Komala 1\n",
            "Uma Raman 35\n",
            "Azra 1\n",
            "T. G. Lingappa 1\n",
            "Akhil Bandhu Ghosh 5\n",
            "Arati Misra 5\n",
            "Raghu Pradhan 3\n",
            "Arun Das 3\n",
            "Anil Chatterjee 3\n",
            "Gangai Amaran 5\n",
            "T. Selvakumar 3\n",
            "Kamini Kaushal 6\n",
            "Jaymala Shiledar 4\n",
            "L. Vaidyanathan 1\n",
            "K. Chakravarthy 4\n",
            "Raja Raja Cholan 2\n",
            "Rajkumar Mago 2\n",
            "Rajni Pandey 2\n",
            "Dr. C.G. Desai 1\n",
            "Rashmi Gadgil 2\n",
            "B. Latha 2\n",
            "Chandan Dass 5\n"
          ]
        },
        {
          "output_type": "stream",
          "name": "stderr",
          "text": [
            " 70%|███████   | 2776/3940 [00:25<00:10, 110.15it/s]"
          ]
        },
        {
          "output_type": "stream",
          "name": "stdout",
          "text": [
            "Tafo Brothers 11\n",
            "Dhananjoy Bhattacharya 1\n",
            "Kabita Hazarika 2\n",
            "Dr Shreeram Lagu 2\n",
            "Lalit Pandit 2\n",
            "Anjali Mahulikar 4\n",
            "Alka Shankar 2\n",
            "Rajeethram 22\n",
            "Doddanna 2\n",
            "KUMAR SONIKDILRAJ KAUR 1\n",
            "Uday Upadhay 2\n",
            "Joginder Singh 14\n",
            "Surinder Bawa 26\n",
            "Kamala Bai 1\n",
            "S. V. Ranga Rao 2\n",
            "Prasanthini 1\n",
            "Usha Jariwala 3\n",
            "Reena Disojha 1\n",
            "Mariana Sirbu 1\n",
            "M.R. Thilakam 1\n",
            "Nirupama 2\n",
            "Sudhin Mukherjee 2\n",
            "INAYAT ALI 1\n"
          ]
        },
        {
          "output_type": "stream",
          "name": "stderr",
          "text": [
            " 71%|███████   | 2799/3940 [00:25<00:10, 108.65it/s]"
          ]
        },
        {
          "output_type": "stream",
          "name": "stdout",
          "text": [
            "Jayashri Patwardhan 1\n",
            "Megha 17\n",
            "S.Ramachandhran 2\n",
            "S.M. Yusuf 1\n",
            "Mashooq Ali Khan 1\n",
            "Ashok Khosla 13\n",
            "Ambili 7\n",
            "Mehnaz 114\n",
            "Shivaraj 4\n",
            "Rashida Begam 5\n",
            "S  P  Bakshi 1\n",
            "Padamakar Deshpande 8\n",
            "Vijayalaxmi 2\n",
            "Arati Basu 2\n",
            "Allah Rakha Ustad 3\n",
            "S. D. Burman 29\n",
            "Kamala Jharia 2\n",
            "Bhupinder Kohli 7\n",
            "Chandra Bose 5\n",
            "Shahir Vitthal Umap 5\n",
            "Chandra Mohan 2\n",
            "Ustad Vilayat Khan "
          ]
        },
        {
          "output_type": "stream",
          "name": "stderr",
          "text": [
            " 72%|███████▏  | 2822/3940 [00:25<00:10, 107.00it/s]"
          ]
        },
        {
          "output_type": "stream",
          "name": "stdout",
          "text": [
            "2\n",
            "Ramani 16\n",
            "Vijayanti Limaye 1\n",
            "Chaandrashekhar Gaadgeel 2\n",
            "Rajul Mehta 11\n",
            "R.chohan 1\n",
            "Bhai Piara Singh Ragi 3\n",
            "Unspecified 4\n",
            "Pt. Shivram Krishna 4\n",
            "Inayat Hussain Bhatti 17\n",
            "Rita Pandey 2\n",
            "Dr Harphool 1\n",
            "Mrudula Desai 1\n",
            "Nadaswaram 3\n",
            "M. R. Vijaya 10\n",
            "Babloo 2\n",
            "Rajasulochana 1\n",
            "M. S. Sheela 3\n",
            "Hanif Agrewala 7\n",
            "Anant Kunte 1\n",
            "M-Kaleem 17\n",
            "Ali Raza Surani 1\n",
            "Bangalore A.R. Ramani Amma 1\n",
            "Shivangi Kolhapure 10\n"
          ]
        },
        {
          "output_type": "stream",
          "name": "stderr",
          "text": [
            " 72%|███████▏  | 2844/3940 [00:25<00:10, 105.19it/s]"
          ]
        },
        {
          "output_type": "stream",
          "name": "stdout",
          "text": [
            "Baijnath Mangeshkar 8\n",
            "Luli Sarangi 1\n",
            "Kalpana Bhuyan 10\n",
            "Pradnya Khandekar 5\n",
            "Laxmi Prasad 1\n",
            "K Bhagyaraj Chorus 1\n",
            "Anwar Rafi 3\n",
            "K.A. Thangavelu 1\n",
            "Latha Malathy 1\n",
            "Chanchal 54\n",
            "Mohan Kumar 2\n",
            "Intrumental 1\n",
            "Jayshree Shivram 5\n",
            "Lata Shiledar 1\n",
            "Veena Bamane 2\n",
            "Malladi Ramakrishna Sastry 2\n",
            "N. Suryaprakash 4\n",
            "Usha Mangeshkar 781\n",
            "Milind Jog 1\n",
            "Jolly Mukherjee 12\n",
            "Masood  Rana 2\n",
            "K. Bhagyaraj 2\n",
            "Unni Menon 4\n"
          ]
        },
        {
          "output_type": "stream",
          "name": "stderr",
          "text": [
            " 73%|███████▎  | 2867/3940 [00:26<00:10, 106.73it/s]"
          ]
        },
        {
          "output_type": "stream",
          "name": "stdout",
          "text": [
            "R. Jayalakshmi 1\n",
            "P. S. Vaidehi 1\n",
            "Uttara Kelkar 206\n",
            "HEMANT BIRJE 2\n",
            "Chandru Atma 3\n",
            "Mukund Gadre 1\n",
            "Pranab Pattanayak 1\n",
            "Moni Baruah 2\n",
            "T. V. C. N. Rajagopal 2\n",
            "Sukhdev Safari 1\n",
            "Mohammed Sadiq Pindivale Master 1\n",
            "Helen Satya 13\n",
            "Keshar 11\n",
            "female singers from Mohana 1\n",
            "Arita Samana 19\n",
            "Sangeeta Katti 2\n",
            "Purnima Zaveri 2\n",
            "Ramakrishnan Murthy 1\n",
            "Tukaram Dhadam 3\n",
            "Sriradha Banerjee 3\n",
            "Parag Chaliha 1\n",
            "Bharathi Paul 14\n",
            "Bhai Gurmeet Singh Shant Jalandhar Wale 1\n"
          ]
        },
        {
          "output_type": "stream",
          "name": "stderr",
          "text": [
            " 73%|███████▎  | 2891/3940 [00:26<00:09, 110.44it/s]"
          ]
        },
        {
          "output_type": "stream",
          "name": "stdout",
          "text": [
            "Satyen Kappu 6\n",
            "M. Kapoor 9\n",
            "Prameela 1\n",
            "Madhukar Joshi 3\n",
            "Tej Kaur Tej 7\n",
            "Usha Sharma 2\n",
            "Dipen Baruah 2\n",
            "Samina Ashfaq 1\n",
            "Indoo Vishwanath 9\n",
            "Kishore Kumar 2401\n",
            "Tarannum Malik 1\n",
            "Narayan Mani 13\n",
            "T.k. Kala 2\n",
            "Pradeepji 1\n",
            "D. G. S. Dhinakaran 1\n",
            "Badripawar 2\n",
            "Swapan Chakraborty 2\n",
            "Gemini Ganesan 6\n",
            "B.R.Chaya 68\n",
            "Saima Khalid 20\n",
            "Chandru 5\n",
            "Ramila 11\n",
            "R.N. Sudarshan 2\n",
            "Kumud Pendekar 1\n"
          ]
        },
        {
          "output_type": "stream",
          "name": "stderr",
          "text": [
            " 74%|███████▍  | 2914/3940 [00:26<00:09, 109.06it/s]"
          ]
        },
        {
          "output_type": "stream",
          "name": "stdout",
          "text": [
            "Usatad Hamid Hussain 2\n",
            "Afsar Hussain Khan 6\n",
            "Hemant Chauhan 102\n",
            "Chinna Murthy 1\n",
            "Asad Amanat Ali 43\n",
            "Amar Singh Shaunki 2\n",
            "Lalitha Kumari 1\n",
            "HAIDER ALI JUGNU 2\n",
            "Allah Jilai Bai 9\n",
            "Kunal Shah 2\n",
            "Alok Nath 2\n",
            "Aparna Dev 4\n",
            "Dipen Lahkar 1\n",
            "B S Sasirekha 2\n",
            "Child Artist 2\n",
            "Anita Raj 4\n",
            "Stella Paul 2\n",
            "Utra Kelkar 5\n",
            "Surindra Chhinda 1\n",
            "Kumar Sanu 104\n",
            "SIEKHAR SAWKAR 4\n",
            "Saeed Hashmi 44\n"
          ]
        },
        {
          "output_type": "stream",
          "name": "stderr",
          "text": [
            " 75%|███████▍  | 2936/3940 [00:26<00:09, 106.75it/s]"
          ]
        },
        {
          "output_type": "stream",
          "name": "stdout",
          "text": [
            "Bharathiraja 1\n",
            "Anna 3\n",
            "Parveen Shakir 1\n",
            "Zareef 1\n",
            "Shridhar Kekare 4\n",
            "Rashida Khatoon 4\n",
            "Bani Joyram 6\n",
            "Arjun Charan Samal 1\n",
            "I Solisti Di Napoli 1\n",
            "Yashvant Thakur 4\n",
            "Saroj Kapoor 1\n",
            "RAM LAUTAN VISHVAKARMA 1\n",
            "N. Rajeswara Rao 2\n",
            "Ram Niwas Sharma 1\n",
            "Deepak Sawant 2\n",
            "Romesh Sharma 7\n",
            "Padmanabhan 1\n",
            "Arpana 1\n",
            "Mangala 11\n",
            "K.B. Sundarambal 18\n",
            "Khan Mohd. 1\n",
            "Mangesh Dutt 3\n",
            "Gulshan Bawra 4\n"
          ]
        },
        {
          "output_type": "stream",
          "name": "stderr",
          "text": [
            " 75%|███████▌  | 2959/3940 [00:27<00:09, 108.13it/s]"
          ]
        },
        {
          "output_type": "stream",
          "name": "stdout",
          "text": [
            "Pervez Begum 1\n",
            "Avinash Pashankar 1\n",
            "Heman Kakati 1\n",
            "Mika Singh 4\n",
            "Jamuna 89\n",
            "Kunda Wagalikar 1\n",
            "Sant Surjeet Singh Ji 2\n",
            "The Original Cast of Ghashiram Kotwal 3\n",
            "Nayab Bano 1\n",
            "N. Rao 1\n",
            "Shabbir Saeed 1\n",
            "Naren Das 13\n",
            "Yogesh Khadikar 1\n",
            "Chintan Vikas 5\n",
            "Vinod Kumar 10\n",
            "Munni Begum 100\n",
            "Dilip Sharma 5\n",
            "Gora Sarbadhikari 1\n",
            "Y.K. Muddu Krishna 1\n",
            "Panna Quawal 4\n",
            "Leela Kanse 1\n",
            "Disciples 1\n",
            "Faiz Mohd Baloch 1\n",
            "Ashwini Somasundaram 1\n"
          ]
        },
        {
          "output_type": "stream",
          "name": "stderr",
          "text": [
            " 76%|███████▌  | 2982/3940 [00:27<00:08, 106.75it/s]"
          ]
        },
        {
          "output_type": "stream",
          "name": "stdout",
          "text": [
            "Hemu Gadhvi 22\n",
            "Dimple Kapadia 14\n",
            "Supriti Ghosh 2\n",
            "Udatha Sarojini 4\n",
            "Basaveshwar 2\n",
            "Arun Bose 2\n",
            "Ridip Dutta 3\n",
            "Munir Hussain 11\n",
            "Amjad Khan 6\n",
            "Koteswara Rao 2\n",
            "Amit Dasgupta 1\n",
            "Manomay Bhattacharyya 1\n",
            "Rani Rooplata 1\n",
            "S.Padma 1\n",
            "Master Kasturi Lal 2\n",
            "Nihar S. 2\n",
            "Akriti Kakar 2\n",
            "Prof. Ram Shevalkar 2\n",
            "Anwar Hussain 27\n",
            "Shrikant Soni 1\n",
            "Dulari 6\n",
            "Heman Verma 1\n"
          ]
        },
        {
          "output_type": "stream",
          "name": "stderr",
          "text": [
            " 76%|███████▋  | 3005/3940 [00:27<00:08, 108.03it/s]"
          ]
        },
        {
          "output_type": "stream",
          "name": "stdout",
          "text": [
            "Aparajita Dutta 1\n",
            "Jon B. Higgins 4\n",
            "Sharon Prabhakar 8\n",
            "Raagini 3\n",
            "Chote Saleh Mohd Azad 7\n",
            "Silambarasan 1\n",
            "Attaullah Khan Essakhelvi 10\n",
            "Saeen Ditta Qadri 3\n",
            "Emani Sankara Sastry 1\n",
            "Shamim Khan 14\n",
            "Neelam Sahni 13\n",
            "PARUPALLI RANGNATH 1\n",
            "Gurdas Maan 53\n",
            "Udav Kumar Upadhye 1\n",
            "Masum 7\n",
            "Aarchana Rajimwale 1\n",
            "BHAKTA DAS BAUL 2\n",
            "Govind Boricha 2\n",
            "Vivek Sarathy 1\n",
            "Moolchand Maroo 8\n",
            "Vanijayaram 2\n",
            "Rajan 48\n",
            "B.K. Sumitra 59\n",
            "Lalita Dhar Chowdhury 1\n"
          ]
        },
        {
          "output_type": "stream",
          "name": "stderr",
          "text": [
            " 77%|███████▋  | 3028/3940 [00:27<00:08, 107.16it/s]"
          ]
        },
        {
          "output_type": "stream",
          "name": "stdout",
          "text": [
            "Jayadev 10\n",
            "Ragi Harbans Singh Jagadhari Wale 2\n",
            "Mohni Hameed 2\n",
            "S. Varalakshmi 17\n",
            "Shabbir Kumar 183\n",
            "Achal Pankaj 1\n",
            "Mohan 174\n",
            "Anghuman Roy 1\n",
            "Nutan Pendharkar Damle 1\n",
            "Kazi Sabyasachi 2\n",
            "Sujatha Dutt 3\n",
            "Manashi Mukherjee 1\n",
            "A. V. Mohammed 2\n",
            "Allauddin 1\n",
            "Jagannatha Mohanty 1\n",
            "L N Shastri 1\n",
            "Shama Khale 2\n",
            "Mira Narayangawkar 3\n",
            "Arijit Singh 3\n",
            "Ambilikuttan 3\n",
            "Swapan Basu 1\n",
            "L.N. Sastri 1\n"
          ]
        },
        {
          "output_type": "stream",
          "name": "stderr",
          "text": [
            " 77%|███████▋  | 3050/3940 [00:27<00:08, 105.82it/s]"
          ]
        },
        {
          "output_type": "stream",
          "name": "stdout",
          "text": [
            "Iqbal Bano 35\n",
            "roshanlal khatri 1\n",
            "Hemant Kumar 189\n",
            "S.P. Kodandapani 1\n",
            "Mohammed Alam Khan 3\n",
            "Asomi 2\n",
            "Mali Chhawarlal Gahlot 2\n",
            "Dinkar Shinde 5\n",
            "Ghulam Abbas 14\n",
            "Shankar Mahadevan 15\n",
            "L. R. Anjali 3\n",
            "Leena Pradeep 1\n",
            "Mangla Kelkar 1\n",
            "Sharad Kumar 12\n",
            "Monika 1\n",
            "Amrita Singh 12\n",
            "RADHA RANI 1\n",
            "Sandhya Mukherjee 22\n",
            "Anil Kapoor 6\n",
            "Shobha Gurtu 19\n",
            "Vanita Mishra 4\n",
            "Iru Saika 1\n"
          ]
        },
        {
          "output_type": "stream",
          "name": "stderr",
          "text": [
            " 78%|███████▊  | 3073/3940 [00:28<00:07, 108.79it/s]"
          ]
        },
        {
          "output_type": "stream",
          "name": "stdout",
          "text": [
            "Kazi Aniruddha 2\n",
            "Shantabai Bhosle 6\n",
            "H. P. Gita 1\n",
            "Tej Kaur 9\n",
            "nchinger 1\n",
            "Usha 910\n",
            "Akbar Ali 8\n",
            "Jithmohan Mitra 1\n",
            "Dheepan Chakravarthy 7\n",
            "Arun Date 20\n",
            "Sarika Kapoor 6\n",
            "Yamini Bhalekar 1\n",
            "Ramesh Kumar 1\n",
            "Kishori Amonkar 34\n",
            "Hassan Sadiq 1\n",
            "Kunal Ganjawala 6\n",
            "Pradeep 13\n",
            "Praful  Dave 222\n",
            "Fateh Ali Khan 137\n",
            "Muhammad Hafiz Khan 4\n",
            "B.S. Balakrishna 1\n",
            "afzal hussain khan 1\n",
            "K.K. 22\n",
            "Farida Parveen 2\n"
          ]
        },
        {
          "output_type": "stream",
          "name": "stderr",
          "text": [
            " 79%|███████▊  | 3097/3940 [00:28<00:07, 111.05it/s]"
          ]
        },
        {
          "output_type": "stream",
          "name": "stdout",
          "text": [
            "Mohanraj 2\n",
            "sohail rana 5\n",
            "Hasan Ismail Solanki 1\n",
            "M.S. Sheela 10\n",
            "JAMAL KHANKRISHNA KALLEAND SATHI 1\n",
            "Chandervati 1\n",
            "Sathyanarayana Kantharrao Rajanala 1\n",
            "Amar Roy 1\n",
            "Sudhir Phadle 60\n",
            "AhmedRushdi 1\n",
            "Dharmendra 10\n",
            "Sanwar Lal Ranga 1\n",
            "Abilash 1\n",
            "R. Rajeshwari 1\n",
            "Mohd Shafi Niyazi 8\n",
            "Pratima Banerjee 3\n",
            "Rajni Gupta 2\n",
            "Parwana 30\n",
            "Nighat Seema 1\n",
            "Jayalakshmi Radha 1\n",
            "Rashida 10\n",
            "Simi Garewal 4\n",
            "Sivaji Ganesan 36\n"
          ]
        },
        {
          "output_type": "stream",
          "name": "stderr",
          "text": [
            " 79%|███████▉  | 3121/3940 [00:28<00:07, 109.12it/s]"
          ]
        },
        {
          "output_type": "stream",
          "name": "stdout",
          "text": [
            "B. Radha 1\n",
            "Ram Shankar 2\n",
            "S. Balachander 1\n",
            "Raj Kumar 15\n",
            "Chinmoy Chatterjee 10\n",
            "Pradip Patvardhan 2\n",
            "Satinath Mukhyopadhyay 2\n",
            "Mangal Mishra 2\n",
            "Sukhwinder Singh 8\n",
            "Bhavna Labadia 3\n",
            "Kanthimathi 3\n",
            "A.R. Ramani Ammal 5\n",
            "Maalasri .F. Kanavi 1\n",
            "N.V. Haridas 4\n",
            "K.G. Markose 1\n",
            "Mikkilineni 3\n",
            "Sarojini Aroor 1\n",
            "Shantaram Nandgaonkar 9\n",
            "Mangla 10\n",
            "B. Kamlesh Kumari 4\n",
            "Mridula Das Dewan 6\n",
            "Aruna 14\n",
            "Hanuman Sahay 3\n"
          ]
        },
        {
          "output_type": "stream",
          "name": "stderr",
          "text": [
            " 80%|███████▉  | 3143/3940 [00:28<00:07, 102.99it/s]"
          ]
        },
        {
          "output_type": "stream",
          "name": "stdout",
          "text": [
            "Alisha 50\n",
            "Sri Priya 1\n",
            "Prasad Kavale 1\n",
            "Amit Kumar 127\n",
            "manmohan 1\n",
            "Devki Anand 9\n",
            "Shamim 39\n",
            "Kavita Paudwal 4\n",
            "Runa Laila 69\n",
            "Alakananda Wadekar 2\n",
            "Fulpari 1\n",
            "Janardhan (Janni) 1\n",
            "medha bhosle 1\n",
            "Venkatesh 19\n",
            "Rajaprabhu Dhothre 6\n",
            "Dr Aparna Mayekar 1\n",
            "Ghanashyam Panda 4\n",
            "Tradtional 1\n",
            "Pritinanda Rout Ray 8\n",
            "Abhijit Mukherjee 1\n",
            "Sharavathi 1\n",
            "Sangeeta Mahapatra 7\n"
          ]
        },
        {
          "output_type": "stream",
          "name": "stderr",
          "text": [
            " 80%|████████  | 3166/3940 [00:28<00:07, 105.67it/s]"
          ]
        },
        {
          "output_type": "stream",
          "name": "stdout",
          "text": [
            "Iqbal Afzal Sabri Qawwal 4\n",
            "Anima Choudhury 21\n",
            "Ustad Nabi Bukhsh Khan 3\n",
            "Rishikesh Bodas 2\n",
            "Saroj Gundani 8\n",
            "B. Neeraja 1\n",
            "Neyyatinkara Vasudevan 1\n",
            "Hemlata Parmar 1\n",
            "Suman Rao 1\n",
            "Arun Bakshi 2\n",
            "R. K. Shrikantan 2\n",
            "Siri Vennela Seetha Ramasasthry 1\n",
            "Iqbal Siddiqi 1\n",
            "Surinder Kaur Dilbar 2\n",
            "Baleswar 4\n",
            "Prabhati 1\n",
            "Shantilal Shah 2\n",
            "Jayshree Belsare 4\n",
            "Khalid Ghayur 11\n",
            "N. Malini 1\n",
            "Suparnakanti Ghosh 1\n",
            "U. Thiyagarajan 10\n",
            "Mugatlal Joshi 11\n",
            "Sherene John 3\n"
          ]
        },
        {
          "output_type": "stream",
          "name": "stderr",
          "text": [
            " 81%|████████  | 3189/3940 [00:29<00:07, 107.04it/s]"
          ]
        },
        {
          "output_type": "stream",
          "name": "stdout",
          "text": [
            "Paravai 1\n",
            "Jogila Siddarajuprathima Athreya 1\n",
            "Yenagi Baalappa 2\n",
            "SURINDER CHINDA SAVITA 1\n",
            "Karunas 1\n",
            "Bahuddin Hajibhai 1\n",
            "Meera Narayangaonkar 5\n",
            "Rukmini Roshan Satarkar 1\n",
            "T. R. Raghunath 1\n",
            "Surjit Walia 8\n",
            "Meera Basu 1\n",
            "Samar Hazarika 23\n",
            "Guru 112\n",
            "M.d Pallavi 6\n",
            "Bhupen Hazarika 128\n",
            "Sibanath 2\n",
            "Nomi Gayan 4\n",
            "Shahida Parveen 1\n",
            "Nandhini 1\n",
            "Vinod Mehra 5\n",
            "Syed Saleem Gilani 1\n",
            "Harshdeep Kaur 2\n",
            "Noor Jehan Begum Jaipuri 3\n",
            "Shiv Prasad Nath "
          ]
        },
        {
          "output_type": "stream",
          "name": "stderr",
          "text": [
            " 82%|████████▏ | 3212/3940 [00:29<00:06, 108.37it/s]"
          ]
        },
        {
          "output_type": "stream",
          "name": "stdout",
          "text": [
            "1\n",
            "Vijayalakshmi Sharma 26\n",
            "Sabita Chowdhury 4\n",
            "Vanmali 14\n",
            "Aruna Boorganvkar 1\n",
            "Shimoga Subbanna 6\n",
            "Bani Das 1\n",
            "Harcharan Garewal 3\n",
            "Vanitha 2\n",
            "Gopi Krishan 2\n",
            "Sonia Sidhu 2\n",
            "Savita Sethi 11\n",
            "Shankar Shambhu Qawwal 27\n",
            "B.V.U. Raghupathy 3\n",
            "Mohd Saddiq Ismail 8\n",
            "Kuldeep Manak 25\n",
            "Ilaiyaraaja 71\n",
            "Gemini Mahalingam 2\n",
            "Mohamed Raffee 1\n",
            "Nand Kumar 1\n",
            "Bhai Bhagwant Singh Ragi 2\n",
            "Anupama Sumanraj 1\n",
            "Danny 10\n"
          ]
        },
        {
          "output_type": "stream",
          "name": "stderr",
          "text": [
            " 82%|████████▏ | 3234/3940 [00:29<00:06, 106.37it/s]"
          ]
        },
        {
          "output_type": "stream",
          "name": "stdout",
          "text": [
            "M. Ramesh 6\n",
            "Kalpana Bordoloi 2\n",
            "Shruti Pathak 2\n",
            "Nahid Aktar 1\n",
            "Sarita Goswami 4\n",
            "Rachana Khadikar 9\n",
            "Badari Prasad 1\n",
            "Vinda Karindkar 2\n",
            "P Santhakumari 1\n",
            "Anu Barkakati 2\n",
            "Mohni Kavi 7\n",
            "Bhaskar Das 1\n",
            "Sarabjeet Singh 1\n",
            "Gaurav Chopra 6\n",
            "Janga Kainth 8\n",
            "Baljit Kaur Bali 1\n",
            "Shaam Diwana 13\n",
            "B. V. Karanth 14\n",
            "Jayamalini 6\n",
            "Aftab Ahmad 10\n",
            "Charulata Belsare 3\n",
            "Bharati Das 2\n"
          ]
        },
        {
          "output_type": "stream",
          "name": "stderr",
          "text": [
            " 83%|████████▎ | 3256/3940 [00:29<00:06, 104.54it/s]"
          ]
        },
        {
          "output_type": "stream",
          "name": "stdout",
          "text": [
            "Manubhai Agravat 1\n",
            "Late Dayal Sutradhar 1\n",
            "Chandrabali Rudra Dutta 1\n",
            "Swapna Chakraborty 2\n",
            "Ila Kakoti 2\n",
            "Surinder Mohini 6\n",
            "Ustad Chote Ghulam Ali Khan 7\n",
            "Jayaben 1\n",
            "Paramjit Pali 6\n",
            "A.L. Raghavan 43\n",
            "M. S. Viswanathan 57\n",
            "Tilak Raaj 2\n",
            "Bhai Dilbagh Singh 1\n",
            "Malkit Singh 21\n",
            "Raeesa Khanum 3\n",
            "Pralhad Shinde 116\n",
            "Gulshan Ara Syed 13\n",
            "Akhter Ali Khan 5\n",
            "H. S. Dill 1\n",
            "Minoo Purshottam 64\n",
            "Chattar Singh Parwana 1\n",
            "Urmila Khanna 6\n"
          ]
        },
        {
          "output_type": "stream",
          "name": "stderr",
          "text": [
            " 83%|████████▎ | 3278/3940 [00:30<00:06, 103.01it/s]"
          ]
        },
        {
          "output_type": "stream",
          "name": "stdout",
          "text": [
            "Sri Pathi 9\n",
            "Michael Foot 1\n",
            "Krishna Das 2\n",
            "singers with percussion from Mebo 2\n",
            "Preetam Bala 24\n",
            "Sirkazhi Govindarajan 139\n",
            "Siddiq Ismail 1\n",
            "Snehalata Das 8\n",
            "Shaila Madhukar 2\n",
            "Shefali Ghosh 1\n",
            "Resham Singh 25\n",
            "Anup Jalota 10\n",
            "Shiv Ram 6\n",
            "Pankaj Mitra 5\n",
            "DILAWAR BABU 2\n",
            "Shashi Kapoor 16\n",
            "Harcharan Singh Safri 3\n",
            "Mina Patel 2\n",
            "Debashish Mahapatra 2\n",
            "ASHA BATALVI 7\n",
            "Mysore Ananthaswamy 1\n",
            "Anand Shinde "
          ]
        },
        {
          "output_type": "stream",
          "name": "stderr",
          "text": [
            " 84%|████████▍ | 3301/3940 [00:30<00:06, 106.39it/s]"
          ]
        },
        {
          "output_type": "stream",
          "name": "stdout",
          "text": [
            "65\n",
            "Arun Hangal 1\n",
            "Kulvant Kaur 3\n",
            "D. Kousalya 3\n",
            "Ustad Hamid Hussain 3\n",
            "Promila Pammi 12\n",
            "Shankar Ganesh 2\n",
            "Muhammad Arif Lohar 8\n",
            "Srikanth 3\n",
            "Jagadesh 3\n",
            "Shahida Munni 2\n",
            "Raadhika Sarathkumar 1\n",
            "Kushwant Singh 1\n",
            "Ghogad Fem 9\n",
            "Arindam 10\n",
            "Parkash Kaur 1\n",
            "Ramesh Rangila 2\n",
            "Kisan Killekar 10\n",
            "Kailash Kher 4\n",
            "Pukhraj Purohit 2\n",
            "Prabhakar Pokharikar 2\n",
            "Nirmala Gogte 1\n",
            "Vinod Khanna 2\n",
            "Gajalakshmi 3\n"
          ]
        },
        {
          "output_type": "stream",
          "name": "stderr",
          "text": [
            " 84%|████████▍ | 3325/3940 [00:30<00:05, 107.49it/s]"
          ]
        },
        {
          "output_type": "stream",
          "name": "stdout",
          "text": [
            "Sangeetha & Shylaja 17\n",
            "Sadhana Das 1\n",
            "Manas Kumar 5\n",
            "Vasumati Donde 1\n",
            "Yashpal Arthur 7\n",
            "Balakdas Kapadi 1\n",
            "Obaidullah Aleem 1\n",
            "Mahender Singh Daman 7\n",
            "Parshuram Taaywaade 3\n",
            "Kamal Barot 16\n",
            "Mrinalini Dutta Chowdhury 5\n",
            "Amir Chand Shekhar 1\n",
            "Anitha Reddy 2\n",
            "Anumolu Venkata Subba Rao 4\n",
            "Swarupa Chakravarty 9\n",
            "KYUM AHMED 1\n",
            "K.S. Vasudevan 11\n",
            "Foram Desai 3\n",
            "Ranjit Singh 10\n",
            "Bhai Balwinder Singh Rangila 7\n",
            "Sri Maruthi 2\n",
            "Asha Devi 1\n",
            "Johnny Walker 2\n"
          ]
        },
        {
          "output_type": "stream",
          "name": "stderr",
          "text": [
            " 85%|████████▍ | 3348/3940 [00:30<00:05, 108.92it/s]"
          ]
        },
        {
          "output_type": "stream",
          "name": "stdout",
          "text": [
            "Mohan Maharaj Nimbarak 2\n",
            "Abhay Bhargav 2\n",
            "Smt. Davender Singh 1\n",
            "MUNNI DEVI 11\n",
            "DAKSHA BEGADA 1\n",
            "Mukesh 657\n",
            "Kulkarni 138\n",
            "Sadaf 1\n",
            "Sandhya Rao 10\n",
            "Pushpa Shah 1\n",
            "Arvind Pilgaonkar 5\n",
            "Kumudini Mishra 3\n",
            "Sunandha 1\n",
            "Suraiyya Khanum 1\n",
            "Bhimsen Satapathi 8\n",
            "Swagatika Rath 11\n",
            "Malvika Kanan 13\n",
            "Meenakshi Nanda 1\n",
            "Amar Pal 6\n",
            "Akhtar Azad 6\n",
            "Jyoti Mhapsekar 2\n",
            "Nalini Chowdhury 1\n",
            "Saikat Mukherjee 2\n"
          ]
        },
        {
          "output_type": "stream",
          "name": "stderr",
          "text": [
            " 86%|████████▌ | 3371/3940 [00:30<00:05, 107.97it/s]"
          ]
        },
        {
          "output_type": "stream",
          "name": "stdout",
          "text": [
            "Tirchy Loganathan 1\n",
            "Vishal Dadlani 5\n",
            "Sharad Jambhekar 40\n",
            "Bitu Samajpati 2\n",
            "Hriday Marchant 10\n",
            "Tassawar Khanum 6\n",
            "Giani Gurdial Singh Rasiya 1\n",
            "Manoj 2\n",
            "Anantha Theradal 5\n",
            "Bani Tagore 1\n",
            "Kamla Srivastav 10\n",
            "Padmini Pandian 2\n",
            "Mukul Agarwal 2\n",
            "Kula Baruwa 1\n",
            "Gayatri 2\n",
            "Swarnalatha 41\n",
            "Ramanathapuram S.S.A.Wahid 1\n",
            "Munna Azad Qawwal 8\n",
            "Ranjit 58\n",
            "Rasik Pathak 5\n",
            "Master Ravi 4\n",
            "Rafiq Sagar 6\n",
            "T.L. Maharajen 1\n"
          ]
        },
        {
          "output_type": "stream",
          "name": "stderr",
          "text": [
            " 86%|████████▌ | 3394/3940 [00:31<00:05, 109.05it/s]"
          ]
        },
        {
          "output_type": "stream",
          "name": "stdout",
          "text": [
            "Seema Siddiqi 11\n",
            "A.Sundararajan 1\n",
            "Anil 19\n",
            "Qari Sadaqat Ali 1\n",
            "Sumer Singh Yadav 1\n",
            "S. Jayalakshmi 8\n",
            "Rajee Narayan 1\n",
            "Baldev Singh Fatehwala 2\n",
            "Pandit Ram Marathe 1\n",
            "ARPANA CHAUDHARY 7\n",
            "Saraswati Rane 4\n",
            "Dilawar Figaar 1\n",
            "Chakravarthi 4\n",
            "Shyamal Mitra 30\n",
            "Jiten Deka 24\n",
            "Om Prakash 20\n",
            "Sanjay Chakraborty 1\n",
            "Not Applicable 14\n",
            "Veerindra 1\n",
            "Barkat Ali Khan 1\n",
            "Kanchan 30\n",
            "Udaykumar Upadhyay 2\n",
            "Mandakini 6\n",
            "Dilipnand Gayakwad 2\n"
          ]
        },
        {
          "output_type": "stream",
          "name": "stderr",
          "text": [
            " 87%|████████▋ | 3416/3940 [00:31<00:04, 105.95it/s]"
          ]
        },
        {
          "output_type": "stream",
          "name": "stdout",
          "text": [
            "Uma Ramanan 27\n",
            "Debajani Borah 1\n",
            "Agwan Puriya 3\n",
            "Dhira Ghosh 4\n",
            "Jhula Tripathy 1\n",
            "L.Andrewkumar 1\n",
            "Pargan Singh Teji 6\n",
            "Azim 2\n",
            "Ku.Apurva 1\n",
            "Pradeep Chatterji 4\n",
            "Ashok Khare 1\n",
            "R. Nagendra Rao 1\n",
            "Amir Ali 1\n",
            "Joginder Singh Kamal 4\n",
            "Barkat Sidhu 6\n",
            "Harishankar 1\n",
            "Kareena Kapoor 2\n",
            "BABY MUNMI 2\n",
            "Vishnuvardhan 1\n",
            "Nutan 6\n",
            "Anima Talukdar 1\n",
            "Jaya 332\n",
            "Shaheda Khan 10\n"
          ]
        },
        {
          "output_type": "stream",
          "name": "stderr",
          "text": [
            " 87%|████████▋ | 3439/3940 [00:31<00:04, 106.90it/s]"
          ]
        },
        {
          "output_type": "stream",
          "name": "stdout",
          "text": [
            "Master Damle Alis Nutan 1\n",
            "SHAHBUDDIN RATHOD 1\n",
            "Zubeeda Khanum 15\n",
            "MANOHAR UDASH 1\n",
            "D. Ramadevi 2\n",
            "Nikunjalata Mohanta 1\n",
            "Chitta Jana 1\n",
            "Savita 81\n",
            "Vanmala 1\n",
            "Madhubhai Vegda 1\n",
            "K V  Mahadevan 2\n",
            "Kanhopatra Kinikar 2\n",
            "Savitri 20\n",
            "Sakthi T. K. Krishnasamy 1\n",
            "Savita Saathi 36\n",
            "Naga Hills 2\n",
            "Abida Parveen 32\n",
            "Banani Ghosh 2\n",
            "Ranglal Naik 1\n",
            "Viraj 3\n",
            "Balu 1\n",
            "Riniki Barua 1\n"
          ]
        },
        {
          "output_type": "stream",
          "name": "stderr",
          "text": [
            " 88%|████████▊ | 3472/3940 [00:31<00:04, 107.01it/s]"
          ]
        },
        {
          "output_type": "stream",
          "name": "stdout",
          "text": [
            "Dashrath Pujari 6\n",
            "Arun Pange 1\n",
            "Rathna Mala Prakash 16\n",
            "Bhargavram Achrekar 2\n",
            "Asavari Vaykul 1\n",
            "Pendyala 1\n",
            "Madhuri Dixit 4\n",
            "T. Janaki 2\n",
            "Raj Bala 3\n",
            "Children 2\n",
            "Zakir Ali Khan 17\n",
            "Vandana Khandekar 2\n",
            "Madhuri Chatterjee 1\n",
            "Malasiya Vasudeva Chorus 1\n",
            "Sangeeta Bhatia 19\n",
            "K. L. Agnihotri 1\n",
            "Surinder Pal Babbi 11\n",
            "Shakuntla 5\n",
            "Salim Raza 3\n",
            "Vitthal Umap 12\n",
            "Gobinda Gopal Mukopadhyay 2\n",
            "Soli Kapadiya 1\n",
            "Ramesh Bhagi 4\n"
          ]
        },
        {
          "output_type": "stream",
          "name": "stderr",
          "text": [
            " 89%|████████▊ | 3495/3940 [00:32<00:04, 106.55it/s]"
          ]
        },
        {
          "output_type": "stream",
          "name": "stdout",
          "text": [
            "Dr. Suman Mate 1\n",
            "Raees Khan 3\n",
            "Najam Sheraz 4\n",
            "Badri Pawar 18\n",
            "Ananda Shankar 6\n",
            "Begum Mehtab Taji 4\n",
            "Qayum Ahmed 1\n",
            "Johnson 1\n",
            "Rashid Ali 2\n",
            "Madhu Kambikar 2\n",
            "Sunaina Seth 2\n",
            "S.P.Sailaja 93\n",
            "Sharda 42\n",
            "Afroze Bano 1\n",
            "Dilip Chowdhury 1\n",
            "Feroza Begum 28\n",
            "Shamsa Kanwal 3\n",
            "Mahesh 38\n",
            "Shobha Purohitanand Kuar 5\n",
            "Vaman Kardak 7\n",
            "Pandit V. R. Athvale 2\n",
            "Gopi Patnayak 13\n",
            "Guru Tegh Bahadurji 3\n"
          ]
        },
        {
          "output_type": "stream",
          "name": "stderr",
          "text": [
            " 89%|████████▉ | 3517/3940 [00:32<00:03, 106.06it/s]"
          ]
        },
        {
          "output_type": "stream",
          "name": "stdout",
          "text": [
            "Raj Seetharam 5\n",
            "Puttur Narasimha Nayak 1\n",
            "Javed Bashir 9\n",
            "R.K. Shriram Kumar 1\n",
            "Chaitra H G 1\n",
            "Resham Singh Daler 2\n",
            "Shahida Mani 1\n",
            "Prabhala 1\n",
            "Ustad Ghulam Mohd Khan 3\n",
            "Shri Bhanwar Chaudhari 8\n",
            "Nusrat Fateh Ali Khan 85\n",
            "Harish 2\n",
            "Bela Sulakhe 2\n",
            "Nagur 1\n",
            "Dilbar Khan 1\n",
            "T.L. Magarajan 1\n",
            "Vasant Ajgaokar 1\n",
            "Master Abdul Wahid 8\n",
            "Jawahar Bharoli 13\n",
            "Subash Das 30\n",
            "Kamlesh Pandey 1\n",
            "Anupama Deshapande 7\n",
            "Shahir Pandurang Vanmali 7\n",
            "Seema Deo 2\n"
          ]
        },
        {
          "output_type": "stream",
          "name": "stderr",
          "text": [
            " 90%|████████▉ | 3540/3940 [00:32<00:03, 108.05it/s]"
          ]
        },
        {
          "output_type": "stream",
          "name": "stdout",
          "text": [
            "Vijayta Pandit 13\n",
            "Susheel 3216\n",
            "Sulbha Deshpande 1\n",
            "Kovai Soundarajan 17\n",
            "SAYID KHAN 1\n",
            "Minal Rao 4\n",
            "Aziz Miyan Qawwal 38\n",
            "Ajit Singh 5\n",
            "Abdul Hameed Calcattawale 5\n",
            "Nilakshi Juvekar 6\n",
            "Narendra Chanchal 48\n",
            "Sajan Mishra 2\n",
            "Baby Kum Kum 1\n",
            "Maqsood Ahmed Niazi 8\n",
            "Manimala 1\n",
            "Sulochana Kadam 1\n",
            "Asa Singh Mastana 7\n",
            "Muhammad Alam Lohar 14\n",
            "Nirmal Singh Bagga 2\n",
            "Adnan Sami 8\n",
            "Pushpa Pagdhare 71\n",
            "Balraj Bhatankar 1\n",
            "B. Saroja Devi 11\n",
            "Kalpana 23\n"
          ]
        },
        {
          "output_type": "stream",
          "name": "stderr",
          "text": [
            " 90%|█████████ | 3563/3940 [00:32<00:03, 110.70it/s]"
          ]
        },
        {
          "output_type": "stream",
          "name": "stdout",
          "text": [
            "Swagatika 27\n",
            "Hrishikesh Kamerkar 2\n",
            "Deepak Narayangaonkar 6\n",
            "Mohammed Aabid 7\n",
            "Gogoi Sisters 1\n",
            "P. Susheela And Chorus 1\n",
            "Srinivasa 3\n",
            "Janardan Dhotre 2\n",
            "Bangalore Latha 35\n",
            "Sharmila Tagore 3\n",
            "Mahananda Majindar Baruah 1\n",
            "Natvar Giri Goswami 2\n",
            "G.I. Mohandas 1\n",
            "Sudeep Banerj 1\n",
            "Pampa Gagai 2\n",
            "Masood Rana 31\n",
            "Latha Hamsalekha 19\n",
            "Nisar Hussain Haideri (Late) 2\n",
            "Laxmidevi 5\n",
            "R D Kale 1\n",
            "K Srinivasamurthy 1\n",
            "Fazal Hussain 1\n",
            "Ramakrishna 158\n",
            "Sushma Seth 1\n"
          ]
        },
        {
          "output_type": "stream",
          "name": "stderr",
          "text": [
            " 91%|█████████ | 3587/3940 [00:32<00:03, 107.34it/s]"
          ]
        },
        {
          "output_type": "stream",
          "name": "stdout",
          "text": [
            "S. Paddha Shirke 4\n",
            "Shakuntala Kambli 4\n",
            "Babubhai Ranpura 1\n",
            "Krishna Patel 1\n",
            "Jomuna Rani 1\n",
            "N. T. Rama Rao 28\n",
            "Pandurang Dixit 32\n",
            "Manonmani Shankar 3\n",
            "Ina Mukherjee 3\n",
            "Ramesh 151\n",
            "Karnail Gill 3\n",
            "Ranjna Joglekar 1\n",
            "Kishore Bhagwat 3\n",
            "Danny Denzongpa 8\n",
            "Gurdev Kaur 3\n",
            "prabhat sharma 1\n",
            "Vijay Arora 2\n",
            "Hemangini Desai 5\n",
            "Pushpalatha 3\n",
            "Taranum Naz 1\n",
            "Mubarak Begum 24\n",
            "Soumya T R 1\n"
          ]
        },
        {
          "output_type": "stream",
          "name": "stderr",
          "text": [
            " 92%|█████████▏| 3610/3940 [00:33<00:03, 107.57it/s]"
          ]
        },
        {
          "output_type": "stream",
          "name": "stdout",
          "text": [
            "Tarun Banerjee 2\n",
            "Sulamangalam 29\n",
            "S Janaki P Susheela 1\n",
            "G.T. Balakrishna 1\n",
            "Durgamoyee Bara 1\n",
            "Promila Bajaj 8\n",
            "Suma 325\n",
            "Ku. Moulya 1\n",
            "Sarabjeet Sharma 2\n",
            "B. S. Parwana 8\n",
            "Usha Chandekar 1\n",
            "Bahauddin Hajibhai 1\n",
            "Chandrani 69\n",
            "Sonam 2\n",
            "M S Rajeshwari 2\n",
            "Nazneen 3\n",
            "Tulshiram Buva Dixit 3\n",
            "Anita Kanare 1\n",
            "T. K. S. Kalaivanan 7\n",
            "DR. SEERKAZHI 1\n",
            "Nataraj Sharma 2\n",
            "Shri Dula Bhagat 1\n",
            "Prabhasini Rath 3\n"
          ]
        },
        {
          "output_type": "stream",
          "name": "stderr",
          "text": [
            " 92%|█████████▏| 3634/3940 [00:33<00:02, 111.94it/s]"
          ]
        },
        {
          "output_type": "stream",
          "name": "stdout",
          "text": [
            "Suraj Jagan 12\n",
            "Suez Bardoloi 5\n",
            "Prasad Sawkar 27\n",
            "POORAN SINGH 2\n",
            "BECHAN RAM 2\n",
            "Anant Chiplekar 2\n",
            "Sujatha Mohan 14\n",
            "Lalita Pawar 2\n",
            "Raghunaha Bobde 1\n",
            "Shrikant Paargavkar 2\n",
            "Nimosa 4\n",
            "Sri Vidyabhushana Thirtha Swamiji 1\n",
            "Subhalaxmi Dash 14\n",
            "Dulraj Kaur 1\n",
            "Ranjit Singh G 3\n",
            "A. K. Vyas 3\n",
            "Chandrashekar Kadilaya 4\n",
            "Shakti Kapoor 18\n",
            "B. S. Sasirekha 3\n",
            "Robin Banerjee 1\n",
            "Tej Karan Rao 2\n",
            "Ranima Devi 1\n",
            "Bindu 8\n",
            "Sugandi Radhakrishna Rao 1\n",
            "Pragna Khandekar 4\n",
            "Bela Mukherjee 1\n"
          ]
        },
        {
          "output_type": "stream",
          "name": "stderr",
          "text": [
            " 93%|█████████▎| 3657/3940 [00:33<00:02, 108.68it/s]"
          ]
        },
        {
          "output_type": "stream",
          "name": "stdout",
          "text": [
            "Shaila 62\n",
            "Bhalchandr A Pendharkar 1\n",
            "Gurdev Singh Jogi 3\n",
            "Sasirekha 47\n",
            "Usha Kirtane 1\n",
            "Ashwini T N 2\n",
            "Susheela 3215\n",
            "Bhaktraj Dula Bhagat 1\n",
            "Leena Chandavarkar 2\n",
            "Abhay Patwardhan 1\n",
            "Sumer Singh 3\n",
            "Sadiq Ali 6\n",
            "Nagendrappa 4\n",
            "Papiha 2\n",
            "Dilraj Kour 1\n",
            "Rishi Kapoor 20\n",
            "Adinath Mangeshkar 3\n",
            "Ram Lautan Vishwakarma 6\n",
            "Lakshmi Shankar 7\n",
            "Darvesh Hussain Bhatti 10\n",
            "Atanu Sanyal 3\n",
            "Subir Nandi 1\n",
            "Sathyan 3\n"
          ]
        },
        {
          "output_type": "stream",
          "name": "stderr",
          "text": [
            " 93%|█████████▎| 3680/3940 [00:33<00:02, 108.84it/s]"
          ]
        },
        {
          "output_type": "stream",
          "name": "stdout",
          "text": [
            "tahira syed 44\n",
            "Uttam Kumar 3\n",
            "Sarala Rekha 1\n",
            "Shashi Gupta 1\n",
            "Salvatore Accardo 1\n",
            "Prahlad Bora 1\n",
            "Bakhteyar Ahmed 2\n",
            "Rallapalli 1\n",
            "Jyothi 1\n",
            "Hemkant Jha 9\n",
            "Jostna Das 2\n",
            "Panditrao Nagarkar 1\n",
            "Master Sajjad Ali 12\n",
            "Krushna Chandra Mohanty 1\n",
            "Minoo Purushotam 1\n",
            "Gulzar 14\n",
            "Sukhvinder Kaur Sandhu 2\n",
            "Dwipen Barua 71\n",
            "Jayesh Nayak 7\n",
            "H. Khan Mastana 2\n",
            "Radha Ravi 1\n",
            "Sukhdev Sharmila 4\n"
          ]
        },
        {
          "output_type": "stream",
          "name": "stderr",
          "text": [
            " 94%|█████████▍| 3702/3940 [00:33<00:02, 106.53it/s]"
          ]
        },
        {
          "output_type": "stream",
          "name": "stdout",
          "text": [
            "Arzoo Bano 11\n",
            "K.Rani 1\n",
            "Bhai Nazar Singh Dehradun Wale 2\n",
            "Nanda 33\n",
            "P.B.Srinivas 4\n",
            "Sivagami 1\n",
            "Jyostna Hardikar 1\n",
            "G.K.Venkatesh 8\n",
            "Rajiv Malik 2\n",
            "M. Prabhakara Reddy 1\n",
            "Nisha 8\n",
            "Kamal Haasan 28\n",
            "MEENA RAI 7\n",
            "Shahir Shekh Jainu Ch 1\n",
            "Pralhad Joshi 1\n",
            "Shashi Prabha 4\n",
            "M. Seetharamulacharyulu 1\n",
            "Shabana 5\n",
            "Suhasini Chitale 1\n",
            "T.L. Thyagarajan 1\n",
            "S. Jeet Swaran 1\n",
            "Rajprabha Pangadiya 4\n"
          ]
        },
        {
          "output_type": "stream",
          "name": "stderr",
          "text": [
            " 95%|█████████▍| 3725/3940 [00:34<00:02, 106.92it/s]"
          ]
        },
        {
          "output_type": "stream",
          "name": "stdout",
          "text": [
            "Nellai S.M.Abul Barakath 1\n",
            "Others 63\n",
            "Indrani Rizvi 4\n",
            "Male Uttar Pradesh singers from Konain 1\n",
            "Chitaranjan Pani 1\n",
            "M.R. Chandran Babu 4\n",
            "Jayshree 14\n",
            "Parvez Mehdi 3\n",
            "Tufail Niazi 2\n",
            "Simta Khandenvis 1\n",
            "H. K. Narayan 3\n",
            "Suraiya 14\n",
            "Naba 9\n",
            "Kumud Sahay 1\n",
            "Alif Din Pathan 8\n",
            "P.C. Rao 1\n",
            "Kovai Bathu 2\n",
            "Amar Singh Chamkila 44\n",
            "Trevor David Pinnock 1\n",
            "S.D. Chauhan 1\n",
            "Nanda Nandan Satpathy 12\n",
            "Sardool Sikander 43\n"
          ]
        },
        {
          "output_type": "stream",
          "name": "stderr",
          "text": [
            " 95%|█████████▌| 3747/3940 [00:34<00:01, 106.61it/s]"
          ]
        },
        {
          "output_type": "stream",
          "name": "stdout",
          "text": [
            "Deepan Chakravarthy 13\n",
            "Krishna Bose 1\n",
            "Sonu Nigam 45\n",
            "S. Janski 3\n",
            "T. K. Kala 2\n",
            "Karsan Sagathia 5\n",
            "Santosh Naik 5\n",
            "dayal pawar 3\n",
            "Mohammad Ali Shyhaki 7\n",
            "S. Pushpa 1\n",
            "Jayapal 4\n",
            "Rangila 22\n",
            "Malabika Bora 10\n",
            "Salamat Hussain 2\n",
            "Bhagwant Singh Pyasa 3\n",
            "Samar Iqbal 3\n",
            "Orchestra 25\n",
            "Swinder Singh Pardesi 2\n",
            "Shounak Abhisheki 4\n",
            "Jay Shree Shivram 18\n",
            "Krishna Hanagal 1\n",
            "Cicily 1\n",
            "Parmar 3\n",
            "Ustad Hamid Hussain Khan 1\n"
          ]
        },
        {
          "output_type": "stream",
          "name": "stderr",
          "text": [
            " 96%|█████████▌| 3770/3940 [00:34<00:01, 108.51it/s]"
          ]
        },
        {
          "output_type": "stream",
          "name": "stdout",
          "text": [
            "Anuja 11\n",
            "Saira Hussain 2\n",
            "Parshuram Taywade 8\n",
            "Rajkumar Rizvi 7\n",
            "Kulbhushan Kharbanda 6\n",
            "Tasawar Khanum 1\n",
            "N. D. Mahanor 1\n",
            "Sarojini 18\n",
            "Jawaid Akhtar 1\n",
            "Oliver Nelson 1\n",
            "Kanta Rao 3\n",
            "Roshan Satarkar rukmini 8\n",
            "Nandini Sharan 2\n",
            "Sulochana 170\n",
            "Mano Prabhakar 1\n",
            "Haribhai 1\n",
            "Sushil Das 1\n",
            "Shambhu Qawal 2\n",
            "Rabindranath Tagore 1\n",
            "Milind Hingle 1\n",
            "Jency Antony 5\n",
            "Farida Jalal 2\n",
            "Azhar Javed 1\n"
          ]
        },
        {
          "output_type": "stream",
          "name": "stderr",
          "text": [
            " 96%|█████████▌| 3792/3940 [00:34<00:01, 103.78it/s]"
          ]
        },
        {
          "output_type": "stream",
          "name": "stdout",
          "text": [
            "Gurdeep Singh Sajan 2\n",
            "Viswanath Bagul 2\n",
            "Utpalendu Chowdhury 1\n",
            "Anjan Dutt 1\n",
            "Sivakumar 2\n",
            "Mamta Sharma 2\n",
            "Shilpi Mathur 11\n",
            "Salma Agha 65\n",
            "M.Javed 20\n",
            "Bela Shende 1\n",
            "Soolamangalam Sisters 38\n",
            "Anand kumar C. 42\n",
            "Surjit Das 2\n",
            "M. Kaleem 26\n",
            "Sanjeevani Khale 2\n",
            "Rabindra Sathe 6\n",
            "Madhuvanti Dandekar 2\n",
            "P. Jayachandran 185\n",
            "Pallavi 12\n",
            "Shahir Purang 5\n",
            "Sumer Singh Sehrawat 1\n"
          ]
        },
        {
          "output_type": "stream",
          "name": "stderr",
          "text": [
            " 97%|█████████▋| 3815/3940 [00:35<00:01, 106.64it/s]"
          ]
        },
        {
          "output_type": "stream",
          "name": "stdout",
          "text": [
            "Janardan Sharma 1\n",
            "Tina Sani 48\n",
            "Kiran Shembekar 2\n",
            "A.P.Nagarajan 1\n",
            "Thilaka 4\n",
            "Nayyara Noor 35\n",
            "Ramona 2\n",
            "Shanta Sharma 1\n",
            "Ustad Salamat Ali Khan 38\n",
            "Ashokan 2\n",
            "Smt. Pramila Kumari 1\n",
            "S. Mohinder 5\n",
            "Pt. Kumar Gandharva 24\n",
            "Dr. Sri Ram Lagoo 5\n",
            "Rampyari 3\n",
            "Bhanwar Lal Nimaaj 1\n",
            "Ustad Bade Ghulam Ali Khan 4\n",
            "M. Rama Rao 2\n",
            "Devika 1\n",
            "Traditional 8\n",
            "Hiralal Waghela 1\n",
            "Milan Gupta 4\n",
            "Ahendra Kaur 1\n",
            "Kamaljeet Kaur Neeru 4\n"
          ]
        },
        {
          "output_type": "stream",
          "name": "stderr",
          "text": [
            " 97%|█████████▋| 3838/3940 [00:35<00:00, 109.32it/s]"
          ]
        },
        {
          "output_type": "stream",
          "name": "stdout",
          "text": [
            "Pranlal Vyas 43\n",
            "Gaurang Vyas 1\n",
            "Ramdas Kamat 44\n",
            "M. G. Ramachandran Anjali Devi Padmni 2\n",
            "Ashok Hande 7\n",
            "Santha Kumari 5\n",
            "Ustad Nazakat Ali Khan 1\n",
            "Arjun Koli 2\n",
            "Bhupender 2\n",
            "P Leela 166\n",
            "Habib Wali Mohammed 3\n",
            "Dilipnad Gaikwad 1\n",
            "Arvind Barot 10\n",
            "Joginder Singh Rafi 4\n",
            "Naeim Ajmeri 6\n",
            "G. M. Londhe 1\n",
            "Natvargiri Goswami 3\n",
            "Sathyam Pithapuram 1\n",
            "Chachchu 1\n",
            "Nitin Raikwar 2\n",
            "Kumari Ranjana 8\n",
            "Seema Sharma 3\n",
            "Ravindra Jain 4\n",
            "Namita Goswami "
          ]
        },
        {
          "output_type": "stream",
          "name": "stderr",
          "text": [
            " 98%|█████████▊| 3861/3940 [00:35<00:00, 108.96it/s]"
          ]
        },
        {
          "output_type": "stream",
          "name": "stdout",
          "text": [
            "3\n",
            "Kanika Banerjee 7\n",
            "Satish 19\n",
            "Jamal Ghani 11\n",
            "B.S. Sasirekha 27\n",
            "Runa Prasad 2\n",
            "Lona 1\n",
            "P.V. Sekhar 1\n",
            "Sukhdev Safri 4\n",
            "Vijay Lakshmi Jain 3\n",
            "Aneela Mirza 2\n",
            "YASHPAL SINGH 3\n",
            "Rajinikanth 2\n",
            "Kali Dasu 1\n",
            "Rajanna 1\n",
            "Tulshiram Bua Dixit 1\n",
            "Calcutta Youth Choir 1\n",
            "V. Nagaiah 12\n",
            "Jagdish Kapoor 2\n",
            "K. Bhanumati 2\n",
            "Saira Bano 29\n",
            "Gul Hassan Khan 1\n",
            "Prof.hari Dev 4\n",
            "Rekha Davjekar 9\n"
          ]
        },
        {
          "output_type": "stream",
          "name": "stderr",
          "text": [
            " 99%|█████████▊| 3883/3940 [00:35<00:00, 106.29it/s]"
          ]
        },
        {
          "output_type": "stream",
          "name": "stdout",
          "text": [
            "Asaf Ali 1\n",
            "Surinder Kaur Sapna 8\n",
            "Gayathri Ashokan 1\n",
            "K.B.K. Mohan Raju 2\n",
            "Lakshmi Nagaraj 1\n",
            "Muzaffar Warisi 10\n",
            "Eunuchs 2\n",
            "Preeti Sagar 59\n",
            "Sri Vidya 2\n",
            "Bahar Ali 2\n",
            "Burra Subrahmanya Sastri 1\n",
            "Salman Khan 2\n",
            "Sunitha Chandrakumar 1\n",
            "Manisha Hazarika 13\n",
            "L R Anjali 1\n",
            "Kuldip Kaur 3\n",
            "Panna Lal Bhattacharjee 6\n",
            "Abhijeet Bhattacharya 25\n",
            "Kalyani Mitra 3\n",
            "Shyam 57\n",
            "Santanu Mohapatra 5\n",
            "A.R. Oza 7\n"
          ]
        },
        {
          "output_type": "stream",
          "name": "stderr",
          "text": [
            " 99%|█████████▉| 3905/3940 [00:35<00:00, 102.22it/s]"
          ]
        },
        {
          "output_type": "stream",
          "name": "stdout",
          "text": [
            "Maidass 1\n",
            "Amrish Yagnik 1\n",
            "Vidhyaa 1\n",
            "K. Mohideen Baig 6\n",
            "Bilqees Khanum 19\n",
            "Vijayaramani 4\n",
            "Zubaida Khanum 47\n",
            "Jamila Bano 6\n",
            "Jikki 72\n",
            "Sekhar Ghosh 41\n",
            "Farhat Shuja 10\n",
            "Subhash Ghai 2\n",
            "Srinivas Udupa 1\n",
            "Surinder Sonia 2\n",
            "Sudhir Phadke 119\n",
            "Bishnupada Das 1\n",
            "Krishna 415\n",
            "Madhur Adib 2\n",
            "Bibhu Das 5\n",
            "Yello 1\n",
            "Kollangudi Karuppayi 1\n",
            "Paavalar Brothers 3\n"
          ]
        },
        {
          "output_type": "stream",
          "name": "stderr",
          "text": [
            "100%|█████████▉| 3928/3940 [00:36<00:00, 108.09it/s]"
          ]
        },
        {
          "output_type": "stream",
          "name": "stdout",
          "text": [
            "Mehmood 30\n",
            "Manas Mukherjee 2\n",
            "N T Rama Rao 1\n",
            "Rajguru Hoskote 1\n",
            "Vishwanath Mishra 1\n",
            "Master Kesarilal Gandharv 5\n",
            "L.R. Anjali 31\n",
            "Kirpal Kaur 8\n",
            "V.Laxmi 1\n",
            "Najma Niazi 1\n",
            "Ustad Ramzan Khan 8\n",
            "Shabad 1\n",
            "Amarjeet Kaur Bedi 9\n",
            "Baby Kavita 1\n",
            "M.S.Rajeswari 2\n",
            "kalinga rao 2\n",
            "Nirmal Mishra 37\n",
            "Jaswinder Kaur 2\n",
            "Nagoor M. M. Yoosuff 3\n",
            "Vijay Chavan 2\n",
            "Geeta Roy 1\n",
            "Shmim Khan 1\n",
            "Nazir Mohd. 2\n",
            "Vaidehi Thakur 1\n"
          ]
        },
        {
          "output_type": "stream",
          "name": "stderr",
          "text": [
            "100%|██████████| 3940/3940 [00:36<00:00, 108.78it/s]"
          ]
        },
        {
          "output_type": "stream",
          "name": "stdout",
          "text": [
            "Abhay Singh 3\n",
            "JAISRI SHIVRAM 1\n",
            "Swarna 53\n",
            "J P Chandrababu 1\n",
            "Sadhu Kokila 4\n",
            "Sushil Mullick 2\n"
          ]
        },
        {
          "output_type": "stream",
          "name": "stderr",
          "text": [
            "\n"
          ]
        }
      ]
    },
    {
      "cell_type": "code",
      "source": [
        "songs=pd.DataFrame(data, columns = ['singer', 'songs'])\n",
        "songs.head()"
      ],
      "metadata": {
        "colab": {
          "base_uri": "https://localhost:8080/",
          "height": 206
        },
        "id": "Ju-FAx5o7A2q",
        "outputId": "24e355c6-d6f6-4927-ad87-8654133d69f0"
      },
      "execution_count": 79,
      "outputs": [
        {
          "output_type": "execute_result",
          "data": {
            "text/plain": [
              "                 singer  songs\n",
              "0            Inder Kaur      7\n",
              "1             M.S. Raju      5\n",
              "2       Maheshwar Barua      2\n",
              "3  Salem S. Jayalakshmi      7\n",
              "4        Paresh Pevekar      1"
            ],
            "text/html": [
              "\n",
              "  <div id=\"df-6b8c9a5b-e435-4c1d-a5a4-70beb4aef0b7\">\n",
              "    <div class=\"colab-df-container\">\n",
              "      <div>\n",
              "<style scoped>\n",
              "    .dataframe tbody tr th:only-of-type {\n",
              "        vertical-align: middle;\n",
              "    }\n",
              "\n",
              "    .dataframe tbody tr th {\n",
              "        vertical-align: top;\n",
              "    }\n",
              "\n",
              "    .dataframe thead th {\n",
              "        text-align: right;\n",
              "    }\n",
              "</style>\n",
              "<table border=\"1\" class=\"dataframe\">\n",
              "  <thead>\n",
              "    <tr style=\"text-align: right;\">\n",
              "      <th></th>\n",
              "      <th>singer</th>\n",
              "      <th>songs</th>\n",
              "    </tr>\n",
              "  </thead>\n",
              "  <tbody>\n",
              "    <tr>\n",
              "      <th>0</th>\n",
              "      <td>Inder Kaur</td>\n",
              "      <td>7</td>\n",
              "    </tr>\n",
              "    <tr>\n",
              "      <th>1</th>\n",
              "      <td>M.S. Raju</td>\n",
              "      <td>5</td>\n",
              "    </tr>\n",
              "    <tr>\n",
              "      <th>2</th>\n",
              "      <td>Maheshwar Barua</td>\n",
              "      <td>2</td>\n",
              "    </tr>\n",
              "    <tr>\n",
              "      <th>3</th>\n",
              "      <td>Salem S. Jayalakshmi</td>\n",
              "      <td>7</td>\n",
              "    </tr>\n",
              "    <tr>\n",
              "      <th>4</th>\n",
              "      <td>Paresh Pevekar</td>\n",
              "      <td>1</td>\n",
              "    </tr>\n",
              "  </tbody>\n",
              "</table>\n",
              "</div>\n",
              "      <button class=\"colab-df-convert\" onclick=\"convertToInteractive('df-6b8c9a5b-e435-4c1d-a5a4-70beb4aef0b7')\"\n",
              "              title=\"Convert this dataframe to an interactive table.\"\n",
              "              style=\"display:none;\">\n",
              "        \n",
              "  <svg xmlns=\"http://www.w3.org/2000/svg\" height=\"24px\"viewBox=\"0 0 24 24\"\n",
              "       width=\"24px\">\n",
              "    <path d=\"M0 0h24v24H0V0z\" fill=\"none\"/>\n",
              "    <path d=\"M18.56 5.44l.94 2.06.94-2.06 2.06-.94-2.06-.94-.94-2.06-.94 2.06-2.06.94zm-11 1L8.5 8.5l.94-2.06 2.06-.94-2.06-.94L8.5 2.5l-.94 2.06-2.06.94zm10 10l.94 2.06.94-2.06 2.06-.94-2.06-.94-.94-2.06-.94 2.06-2.06.94z\"/><path d=\"M17.41 7.96l-1.37-1.37c-.4-.4-.92-.59-1.43-.59-.52 0-1.04.2-1.43.59L10.3 9.45l-7.72 7.72c-.78.78-.78 2.05 0 2.83L4 21.41c.39.39.9.59 1.41.59.51 0 1.02-.2 1.41-.59l7.78-7.78 2.81-2.81c.8-.78.8-2.07 0-2.86zM5.41 20L4 18.59l7.72-7.72 1.47 1.35L5.41 20z\"/>\n",
              "  </svg>\n",
              "      </button>\n",
              "      \n",
              "  <style>\n",
              "    .colab-df-container {\n",
              "      display:flex;\n",
              "      flex-wrap:wrap;\n",
              "      gap: 12px;\n",
              "    }\n",
              "\n",
              "    .colab-df-convert {\n",
              "      background-color: #E8F0FE;\n",
              "      border: none;\n",
              "      border-radius: 50%;\n",
              "      cursor: pointer;\n",
              "      display: none;\n",
              "      fill: #1967D2;\n",
              "      height: 32px;\n",
              "      padding: 0 0 0 0;\n",
              "      width: 32px;\n",
              "    }\n",
              "\n",
              "    .colab-df-convert:hover {\n",
              "      background-color: #E2EBFA;\n",
              "      box-shadow: 0px 1px 2px rgba(60, 64, 67, 0.3), 0px 1px 3px 1px rgba(60, 64, 67, 0.15);\n",
              "      fill: #174EA6;\n",
              "    }\n",
              "\n",
              "    [theme=dark] .colab-df-convert {\n",
              "      background-color: #3B4455;\n",
              "      fill: #D2E3FC;\n",
              "    }\n",
              "\n",
              "    [theme=dark] .colab-df-convert:hover {\n",
              "      background-color: #434B5C;\n",
              "      box-shadow: 0px 1px 3px 1px rgba(0, 0, 0, 0.15);\n",
              "      filter: drop-shadow(0px 1px 2px rgba(0, 0, 0, 0.3));\n",
              "      fill: #FFFFFF;\n",
              "    }\n",
              "  </style>\n",
              "\n",
              "      <script>\n",
              "        const buttonEl =\n",
              "          document.querySelector('#df-6b8c9a5b-e435-4c1d-a5a4-70beb4aef0b7 button.colab-df-convert');\n",
              "        buttonEl.style.display =\n",
              "          google.colab.kernel.accessAllowed ? 'block' : 'none';\n",
              "\n",
              "        async function convertToInteractive(key) {\n",
              "          const element = document.querySelector('#df-6b8c9a5b-e435-4c1d-a5a4-70beb4aef0b7');\n",
              "          const dataTable =\n",
              "            await google.colab.kernel.invokeFunction('convertToInteractive',\n",
              "                                                     [key], {});\n",
              "          if (!dataTable) return;\n",
              "\n",
              "          const docLinkHtml = 'Like what you see? Visit the ' +\n",
              "            '<a target=\"_blank\" href=https://colab.research.google.com/notebooks/data_table.ipynb>data table notebook</a>'\n",
              "            + ' to learn more about interactive tables.';\n",
              "          element.innerHTML = '';\n",
              "          dataTable['output_type'] = 'display_data';\n",
              "          await google.colab.output.renderOutput(dataTable, element);\n",
              "          const docLink = document.createElement('div');\n",
              "          docLink.innerHTML = docLinkHtml;\n",
              "          element.appendChild(docLink);\n",
              "        }\n",
              "      </script>\n",
              "    </div>\n",
              "  </div>\n",
              "  "
            ]
          },
          "metadata": {},
          "execution_count": 79
        }
      ]
    },
    {
      "cell_type": "code",
      "source": [
        "songs"
      ],
      "metadata": {
        "colab": {
          "base_uri": "https://localhost:8080/",
          "height": 424
        },
        "id": "dri5004v71UT",
        "outputId": "bd9a9dfe-90c1-4b17-a8f3-90b50dc5ed15"
      },
      "execution_count": 80,
      "outputs": [
        {
          "output_type": "execute_result",
          "data": {
            "text/plain": [
              "                    singer  songs\n",
              "0               Inder Kaur      7\n",
              "1                M.S. Raju      5\n",
              "2          Maheshwar Barua      2\n",
              "3     Salem S. Jayalakshmi      7\n",
              "4           Paresh Pevekar      1\n",
              "...                    ...    ...\n",
              "3935        JAISRI SHIVRAM      1\n",
              "3936                Swarna     53\n",
              "3937       J P Chandrababu      1\n",
              "3938          Sadhu Kokila      4\n",
              "3939        Sushil Mullick      2\n",
              "\n",
              "[3940 rows x 2 columns]"
            ],
            "text/html": [
              "\n",
              "  <div id=\"df-42deeb29-2df0-4e63-b99e-80ac189703a2\">\n",
              "    <div class=\"colab-df-container\">\n",
              "      <div>\n",
              "<style scoped>\n",
              "    .dataframe tbody tr th:only-of-type {\n",
              "        vertical-align: middle;\n",
              "    }\n",
              "\n",
              "    .dataframe tbody tr th {\n",
              "        vertical-align: top;\n",
              "    }\n",
              "\n",
              "    .dataframe thead th {\n",
              "        text-align: right;\n",
              "    }\n",
              "</style>\n",
              "<table border=\"1\" class=\"dataframe\">\n",
              "  <thead>\n",
              "    <tr style=\"text-align: right;\">\n",
              "      <th></th>\n",
              "      <th>singer</th>\n",
              "      <th>songs</th>\n",
              "    </tr>\n",
              "  </thead>\n",
              "  <tbody>\n",
              "    <tr>\n",
              "      <th>0</th>\n",
              "      <td>Inder Kaur</td>\n",
              "      <td>7</td>\n",
              "    </tr>\n",
              "    <tr>\n",
              "      <th>1</th>\n",
              "      <td>M.S. Raju</td>\n",
              "      <td>5</td>\n",
              "    </tr>\n",
              "    <tr>\n",
              "      <th>2</th>\n",
              "      <td>Maheshwar Barua</td>\n",
              "      <td>2</td>\n",
              "    </tr>\n",
              "    <tr>\n",
              "      <th>3</th>\n",
              "      <td>Salem S. Jayalakshmi</td>\n",
              "      <td>7</td>\n",
              "    </tr>\n",
              "    <tr>\n",
              "      <th>4</th>\n",
              "      <td>Paresh Pevekar</td>\n",
              "      <td>1</td>\n",
              "    </tr>\n",
              "    <tr>\n",
              "      <th>...</th>\n",
              "      <td>...</td>\n",
              "      <td>...</td>\n",
              "    </tr>\n",
              "    <tr>\n",
              "      <th>3935</th>\n",
              "      <td>JAISRI SHIVRAM</td>\n",
              "      <td>1</td>\n",
              "    </tr>\n",
              "    <tr>\n",
              "      <th>3936</th>\n",
              "      <td>Swarna</td>\n",
              "      <td>53</td>\n",
              "    </tr>\n",
              "    <tr>\n",
              "      <th>3937</th>\n",
              "      <td>J P Chandrababu</td>\n",
              "      <td>1</td>\n",
              "    </tr>\n",
              "    <tr>\n",
              "      <th>3938</th>\n",
              "      <td>Sadhu Kokila</td>\n",
              "      <td>4</td>\n",
              "    </tr>\n",
              "    <tr>\n",
              "      <th>3939</th>\n",
              "      <td>Sushil Mullick</td>\n",
              "      <td>2</td>\n",
              "    </tr>\n",
              "  </tbody>\n",
              "</table>\n",
              "<p>3940 rows × 2 columns</p>\n",
              "</div>\n",
              "      <button class=\"colab-df-convert\" onclick=\"convertToInteractive('df-42deeb29-2df0-4e63-b99e-80ac189703a2')\"\n",
              "              title=\"Convert this dataframe to an interactive table.\"\n",
              "              style=\"display:none;\">\n",
              "        \n",
              "  <svg xmlns=\"http://www.w3.org/2000/svg\" height=\"24px\"viewBox=\"0 0 24 24\"\n",
              "       width=\"24px\">\n",
              "    <path d=\"M0 0h24v24H0V0z\" fill=\"none\"/>\n",
              "    <path d=\"M18.56 5.44l.94 2.06.94-2.06 2.06-.94-2.06-.94-.94-2.06-.94 2.06-2.06.94zm-11 1L8.5 8.5l.94-2.06 2.06-.94-2.06-.94L8.5 2.5l-.94 2.06-2.06.94zm10 10l.94 2.06.94-2.06 2.06-.94-2.06-.94-.94-2.06-.94 2.06-2.06.94z\"/><path d=\"M17.41 7.96l-1.37-1.37c-.4-.4-.92-.59-1.43-.59-.52 0-1.04.2-1.43.59L10.3 9.45l-7.72 7.72c-.78.78-.78 2.05 0 2.83L4 21.41c.39.39.9.59 1.41.59.51 0 1.02-.2 1.41-.59l7.78-7.78 2.81-2.81c.8-.78.8-2.07 0-2.86zM5.41 20L4 18.59l7.72-7.72 1.47 1.35L5.41 20z\"/>\n",
              "  </svg>\n",
              "      </button>\n",
              "      \n",
              "  <style>\n",
              "    .colab-df-container {\n",
              "      display:flex;\n",
              "      flex-wrap:wrap;\n",
              "      gap: 12px;\n",
              "    }\n",
              "\n",
              "    .colab-df-convert {\n",
              "      background-color: #E8F0FE;\n",
              "      border: none;\n",
              "      border-radius: 50%;\n",
              "      cursor: pointer;\n",
              "      display: none;\n",
              "      fill: #1967D2;\n",
              "      height: 32px;\n",
              "      padding: 0 0 0 0;\n",
              "      width: 32px;\n",
              "    }\n",
              "\n",
              "    .colab-df-convert:hover {\n",
              "      background-color: #E2EBFA;\n",
              "      box-shadow: 0px 1px 2px rgba(60, 64, 67, 0.3), 0px 1px 3px 1px rgba(60, 64, 67, 0.15);\n",
              "      fill: #174EA6;\n",
              "    }\n",
              "\n",
              "    [theme=dark] .colab-df-convert {\n",
              "      background-color: #3B4455;\n",
              "      fill: #D2E3FC;\n",
              "    }\n",
              "\n",
              "    [theme=dark] .colab-df-convert:hover {\n",
              "      background-color: #434B5C;\n",
              "      box-shadow: 0px 1px 3px 1px rgba(0, 0, 0, 0.15);\n",
              "      filter: drop-shadow(0px 1px 2px rgba(0, 0, 0, 0.3));\n",
              "      fill: #FFFFFF;\n",
              "    }\n",
              "  </style>\n",
              "\n",
              "      <script>\n",
              "        const buttonEl =\n",
              "          document.querySelector('#df-42deeb29-2df0-4e63-b99e-80ac189703a2 button.colab-df-convert');\n",
              "        buttonEl.style.display =\n",
              "          google.colab.kernel.accessAllowed ? 'block' : 'none';\n",
              "\n",
              "        async function convertToInteractive(key) {\n",
              "          const element = document.querySelector('#df-42deeb29-2df0-4e63-b99e-80ac189703a2');\n",
              "          const dataTable =\n",
              "            await google.colab.kernel.invokeFunction('convertToInteractive',\n",
              "                                                     [key], {});\n",
              "          if (!dataTable) return;\n",
              "\n",
              "          const docLinkHtml = 'Like what you see? Visit the ' +\n",
              "            '<a target=\"_blank\" href=https://colab.research.google.com/notebooks/data_table.ipynb>data table notebook</a>'\n",
              "            + ' to learn more about interactive tables.';\n",
              "          element.innerHTML = '';\n",
              "          dataTable['output_type'] = 'display_data';\n",
              "          await google.colab.output.renderOutput(dataTable, element);\n",
              "          const docLink = document.createElement('div');\n",
              "          docLink.innerHTML = docLinkHtml;\n",
              "          element.appendChild(docLink);\n",
              "        }\n",
              "      </script>\n",
              "    </div>\n",
              "  </div>\n",
              "  "
            ]
          },
          "metadata": {},
          "execution_count": 80
        }
      ]
    },
    {
      "cell_type": "code",
      "source": [
        "songs.sort_values(by= 'songs', ascending=False).head()"
      ],
      "metadata": {
        "colab": {
          "base_uri": "https://localhost:8080/",
          "height": 206
        },
        "id": "b-Ju3JxQ7-m3",
        "outputId": "8845966c-fa8b-452d-daf1-14dc70ab9e8d"
      },
      "execution_count": 83,
      "outputs": [
        {
          "output_type": "execute_result",
          "data": {
            "text/plain": [
              "                      singer  songs\n",
              "1759  S. P. Balasubrahmanyam   3659\n",
              "1018                   Kumar   3270\n",
              "3520                 Susheel   3216\n",
              "3644                Susheela   3215\n",
              "1643             P. Susheela   3213"
            ],
            "text/html": [
              "\n",
              "  <div id=\"df-0432e38e-b925-4ac3-bfed-b80ed272834f\">\n",
              "    <div class=\"colab-df-container\">\n",
              "      <div>\n",
              "<style scoped>\n",
              "    .dataframe tbody tr th:only-of-type {\n",
              "        vertical-align: middle;\n",
              "    }\n",
              "\n",
              "    .dataframe tbody tr th {\n",
              "        vertical-align: top;\n",
              "    }\n",
              "\n",
              "    .dataframe thead th {\n",
              "        text-align: right;\n",
              "    }\n",
              "</style>\n",
              "<table border=\"1\" class=\"dataframe\">\n",
              "  <thead>\n",
              "    <tr style=\"text-align: right;\">\n",
              "      <th></th>\n",
              "      <th>singer</th>\n",
              "      <th>songs</th>\n",
              "    </tr>\n",
              "  </thead>\n",
              "  <tbody>\n",
              "    <tr>\n",
              "      <th>1759</th>\n",
              "      <td>S. P. Balasubrahmanyam</td>\n",
              "      <td>3659</td>\n",
              "    </tr>\n",
              "    <tr>\n",
              "      <th>1018</th>\n",
              "      <td>Kumar</td>\n",
              "      <td>3270</td>\n",
              "    </tr>\n",
              "    <tr>\n",
              "      <th>3520</th>\n",
              "      <td>Susheel</td>\n",
              "      <td>3216</td>\n",
              "    </tr>\n",
              "    <tr>\n",
              "      <th>3644</th>\n",
              "      <td>Susheela</td>\n",
              "      <td>3215</td>\n",
              "    </tr>\n",
              "    <tr>\n",
              "      <th>1643</th>\n",
              "      <td>P. Susheela</td>\n",
              "      <td>3213</td>\n",
              "    </tr>\n",
              "  </tbody>\n",
              "</table>\n",
              "</div>\n",
              "      <button class=\"colab-df-convert\" onclick=\"convertToInteractive('df-0432e38e-b925-4ac3-bfed-b80ed272834f')\"\n",
              "              title=\"Convert this dataframe to an interactive table.\"\n",
              "              style=\"display:none;\">\n",
              "        \n",
              "  <svg xmlns=\"http://www.w3.org/2000/svg\" height=\"24px\"viewBox=\"0 0 24 24\"\n",
              "       width=\"24px\">\n",
              "    <path d=\"M0 0h24v24H0V0z\" fill=\"none\"/>\n",
              "    <path d=\"M18.56 5.44l.94 2.06.94-2.06 2.06-.94-2.06-.94-.94-2.06-.94 2.06-2.06.94zm-11 1L8.5 8.5l.94-2.06 2.06-.94-2.06-.94L8.5 2.5l-.94 2.06-2.06.94zm10 10l.94 2.06.94-2.06 2.06-.94-2.06-.94-.94-2.06-.94 2.06-2.06.94z\"/><path d=\"M17.41 7.96l-1.37-1.37c-.4-.4-.92-.59-1.43-.59-.52 0-1.04.2-1.43.59L10.3 9.45l-7.72 7.72c-.78.78-.78 2.05 0 2.83L4 21.41c.39.39.9.59 1.41.59.51 0 1.02-.2 1.41-.59l7.78-7.78 2.81-2.81c.8-.78.8-2.07 0-2.86zM5.41 20L4 18.59l7.72-7.72 1.47 1.35L5.41 20z\"/>\n",
              "  </svg>\n",
              "      </button>\n",
              "      \n",
              "  <style>\n",
              "    .colab-df-container {\n",
              "      display:flex;\n",
              "      flex-wrap:wrap;\n",
              "      gap: 12px;\n",
              "    }\n",
              "\n",
              "    .colab-df-convert {\n",
              "      background-color: #E8F0FE;\n",
              "      border: none;\n",
              "      border-radius: 50%;\n",
              "      cursor: pointer;\n",
              "      display: none;\n",
              "      fill: #1967D2;\n",
              "      height: 32px;\n",
              "      padding: 0 0 0 0;\n",
              "      width: 32px;\n",
              "    }\n",
              "\n",
              "    .colab-df-convert:hover {\n",
              "      background-color: #E2EBFA;\n",
              "      box-shadow: 0px 1px 2px rgba(60, 64, 67, 0.3), 0px 1px 3px 1px rgba(60, 64, 67, 0.15);\n",
              "      fill: #174EA6;\n",
              "    }\n",
              "\n",
              "    [theme=dark] .colab-df-convert {\n",
              "      background-color: #3B4455;\n",
              "      fill: #D2E3FC;\n",
              "    }\n",
              "\n",
              "    [theme=dark] .colab-df-convert:hover {\n",
              "      background-color: #434B5C;\n",
              "      box-shadow: 0px 1px 3px 1px rgba(0, 0, 0, 0.15);\n",
              "      filter: drop-shadow(0px 1px 2px rgba(0, 0, 0, 0.3));\n",
              "      fill: #FFFFFF;\n",
              "    }\n",
              "  </style>\n",
              "\n",
              "      <script>\n",
              "        const buttonEl =\n",
              "          document.querySelector('#df-0432e38e-b925-4ac3-bfed-b80ed272834f button.colab-df-convert');\n",
              "        buttonEl.style.display =\n",
              "          google.colab.kernel.accessAllowed ? 'block' : 'none';\n",
              "\n",
              "        async function convertToInteractive(key) {\n",
              "          const element = document.querySelector('#df-0432e38e-b925-4ac3-bfed-b80ed272834f');\n",
              "          const dataTable =\n",
              "            await google.colab.kernel.invokeFunction('convertToInteractive',\n",
              "                                                     [key], {});\n",
              "          if (!dataTable) return;\n",
              "\n",
              "          const docLinkHtml = 'Like what you see? Visit the ' +\n",
              "            '<a target=\"_blank\" href=https://colab.research.google.com/notebooks/data_table.ipynb>data table notebook</a>'\n",
              "            + ' to learn more about interactive tables.';\n",
              "          element.innerHTML = '';\n",
              "          dataTable['output_type'] = 'display_data';\n",
              "          await google.colab.output.renderOutput(dataTable, element);\n",
              "          const docLink = document.createElement('div');\n",
              "          docLink.innerHTML = docLinkHtml;\n",
              "          element.appendChild(docLink);\n",
              "        }\n",
              "      </script>\n",
              "    </div>\n",
              "  </div>\n",
              "  "
            ]
          },
          "metadata": {},
          "execution_count": 83
        }
      ]
    },
    {
      "cell_type": "code",
      "source": [
        "len(data)\n",
        "#number of singers"
      ],
      "metadata": {
        "colab": {
          "base_uri": "https://localhost:8080/"
        },
        "id": "p0m7dY4424jv",
        "outputId": "9ec24ed1-f32c-41d0-d6ea-34095f80a858"
      },
      "execution_count": 75,
      "outputs": [
        {
          "output_type": "execute_result",
          "data": {
            "text/plain": [
              "3940"
            ]
          },
          "metadata": {},
          "execution_count": 75
        }
      ]
    },
    {
      "cell_type": "code",
      "source": [
        "data[0]"
      ],
      "metadata": {
        "colab": {
          "base_uri": "https://localhost:8080/"
        },
        "id": "vXYldoO87URo",
        "outputId": "6059c393-5c1f-451f-8a89-7309fd1abdc3"
      },
      "execution_count": 76,
      "outputs": [
        {
          "output_type": "execute_result",
          "data": {
            "text/plain": [
              "['Inder Kaur', 7]"
            ]
          },
          "metadata": {},
          "execution_count": 76
        }
      ]
    },
    {
      "cell_type": "code",
      "source": [
        "'Jagjit Singh' in 'Chitra Singh|Jagjit Singh'"
      ],
      "metadata": {
        "colab": {
          "base_uri": "https://localhost:8080/"
        },
        "id": "AkOUtOxh3iza",
        "outputId": "1d298876-82aa-451f-e29b-96697d864ffa"
      },
      "execution_count": 64,
      "outputs": [
        {
          "output_type": "execute_result",
          "data": {
            "text/plain": [
              "True"
            ]
          },
          "metadata": {},
          "execution_count": 64
        }
      ]
    },
    {
      "cell_type": "code",
      "source": [
        "from tqdm import tqdm"
      ],
      "metadata": {
        "id": "mmJ7c08r6bUg"
      },
      "execution_count": 73,
      "outputs": []
    },
    {
      "cell_type": "markdown",
      "source": [
        "##### 3.9) Singers who played most number of songs in each language?"
      ],
      "metadata": {
        "id": "hJbnZoln9F9s"
      }
    },
    {
      "cell_type": "code",
      "source": [
        "for lang in df['language'].unique():\n",
        "  print(lang)"
      ],
      "metadata": {
        "colab": {
          "base_uri": "https://localhost:8080/"
        },
        "id": "UxurZPdE9c1O",
        "outputId": "1db623ee-69cc-4a69-adb8-9261396bd19d"
      },
      "execution_count": 88,
      "outputs": [
        {
          "output_type": "stream",
          "name": "stdout",
          "text": [
            "Urdu\n",
            "Gujarati\n",
            "Tamil\n",
            "Kannada\n",
            "Rajasthani\n",
            "Haryanvi\n",
            "Punjabi\n",
            "Hindi\n",
            "Old\n",
            "Malayalam\n",
            "Marathi\n",
            "Telugu\n",
            "Odia\n",
            "Bhojpuri\n",
            "Assamese\n",
            "Bengali\n"
          ]
        }
      ]
    },
    {
      "cell_type": "code",
      "source": [
        "for lang in df['language'].unique():\n",
        "  df_ = df[df['language']==lang]\n",
        "\n",
        "  all_singer=[]\n",
        "  for singers in df_['singer']:\n",
        "      all_singer+=singers.split('|')\n",
        "\n",
        "  print(lang, len(df_), len(set(all_singer)))\n",
        "  "
      ],
      "metadata": {
        "colab": {
          "base_uri": "https://localhost:8080/"
        },
        "id": "8t-hYffh_d1H",
        "outputId": "d6746495-4963-4dd9-c1ec-cc426e375409"
      },
      "execution_count": 92,
      "outputs": [
        {
          "output_type": "stream",
          "name": "stdout",
          "text": [
            "Urdu 3116 385\n",
            "Gujarati 2115 303\n",
            "Tamil 4677 510\n",
            "Kannada 3559 379\n",
            "Rajasthani 541 218\n",
            "Haryanvi 228 76\n",
            "Punjabi 3818 636\n",
            "Hindi 4993 515\n",
            "Old 4993 515\n",
            "Malayalam 479 72\n",
            "Marathi 4699 569\n",
            "Telugu 4996 369\n",
            "Odia 940 243\n",
            "Bhojpuri 519 109\n",
            "Assamese 724 228\n",
            "Bengali 958 192\n"
          ]
        }
      ]
    }
  ]
}